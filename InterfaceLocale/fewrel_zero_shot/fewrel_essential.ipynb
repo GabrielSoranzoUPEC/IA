{
 "cells": [
  {
   "cell_type": "code",
   "execution_count": 1,
   "id": "323467e2",
   "metadata": {
    "scrolled": true,
    "tags": []
   },
   "outputs": [
    {
     "name": "stderr",
     "output_type": "stream",
     "text": [
      "/home/gs/Info/IA/NLP/fewrel_zero_shot/venv/lib/python3.6/site-packages/tqdm/auto.py:22: TqdmWarning: IProgress not found. Please update jupyter and ipywidgets. See https://ipywidgets.readthedocs.io/en/stable/user_install.html\n",
      "  from .autonotebook import tqdm as notebook_tqdm\n",
      "Some weights of the model checkpoint at bert-large-uncased-whole-word-masking-finetuned-squad were not used when initializing BertModel: ['qa_outputs.weight', 'qa_outputs.bias']\n",
      "- This IS expected if you are initializing BertModel from the checkpoint of a model trained on another task or with another architecture (e.g. initializing a BertForSequenceClassification model from a BertForPreTraining model).\n",
      "- This IS NOT expected if you are initializing BertModel from the checkpoint of a model that you expect to be exactly identical (initializing a BertForSequenceClassification model from a BertForSequenceClassification model).\n"
     ]
    }
   ],
   "source": [
    "from transformers import AutoTokenizer\n",
    "from zero_shot_re import RelTaggerModel, RelationExtractor\n",
    "\n",
    "model = RelTaggerModel.from_pretrained(\"fractalego/fewrel-zero-shot\")\n",
    "tokenizer = AutoTokenizer.from_pretrained(\"fractalego/fewrel-zero-shot\")"
   ]
  },
  {
   "attachments": {},
   "cell_type": "markdown",
   "id": "7517989c",
   "metadata": {},
   "source": [
    "#### Premier essai"
   ]
  },
  {
   "cell_type": "code",
   "execution_count": 2,
   "id": "f68cbeed",
   "metadata": {},
   "outputs": [
    {
     "name": "stdout",
     "output_type": "stream",
     "text": [
      "[('container/content', 0.9546765349805355), ('other relation', 0.3384249806404114)]\n"
     ]
    }
   ],
   "source": [
    "relations = ['container/content', 'other relation']\n",
    "extractor = RelationExtractor(model, tokenizer, relations)\n",
    "cubes='the cubes'\n",
    "box='the box'\n",
    "ranked_rels = extractor.rank(text='the box must be filled with the cubes', head=box, tail=cubes)\n",
    "print(ranked_rels)"
   ]
  },
  {
   "cell_type": "code",
   "execution_count": 3,
   "id": "6c70d2ef",
   "metadata": {},
   "outputs": [
    {
     "name": "stdout",
     "output_type": "stream",
     "text": [
      "[('container/content', 0.8033250272274017), ('other relation', 0.028950750827789307)]\n"
     ]
    }
   ],
   "source": [
    "relations = ['container/content', 'other relation']\n",
    "sentence='put water in the glass'\n",
    "object1='water'\n",
    "object2='the glass'\n",
    "extractor = RelationExtractor(model, tokenizer, relations)\n",
    "ranked_rels = extractor.rank(text=sentence, head=object1, tail=object2)\n",
    "print(ranked_rels)"
   ]
  },
  {
   "attachments": {},
   "cell_type": "markdown",
   "id": "c13604b0",
   "metadata": {},
   "source": [
    "#### Tester la relation de contenance entre deux items"
   ]
  },
  {
   "cell_type": "code",
   "execution_count": 4,
   "id": "42b658ab",
   "metadata": {},
   "outputs": [],
   "source": [
    "relations = ['container/content', 'other relation']\n",
    "extractor = RelationExtractor(model, tokenizer, relations)\n",
    "def contenance(text,item1,item2):\n",
    "    #print(text,\",\",item1,\",\",item2)\n",
    "    ranked_rels = extractor.rank(text=text, head=item1, tail=item2)\n",
    "    #print(ranked_rels)\n",
    "    cont=ranked_rels[0][1]\n",
    "    other=ranked_rels[1][1]\n",
    "    if other>0.5:\n",
    "        return 'other relation'\n",
    "    elif cont>0.9:\n",
    "        return 'container/content'\n",
    "    elif cont>0.8 and other<0.05:\n",
    "        return 'container/content'\n",
    "    else:\n",
    "        return 'other relation'"
   ]
  },
  {
   "cell_type": "code",
   "execution_count": 5,
   "id": "0abd8ed4",
   "metadata": {},
   "outputs": [
    {
     "name": "stdout",
     "output_type": "stream",
     "text": [
      "container/content\n",
      "other relation\n",
      "container/content\n"
     ]
    }
   ],
   "source": [
    "text='You must put the cubes and the spheres in the boxes'\n",
    "box='the boxes'\n",
    "cube='the cubes'\n",
    "sphere='the spheres'\n",
    "print(contenance(text,box,cube))\n",
    "print(contenance(text,cube,sphere))\n",
    "print(contenance(text,box,sphere))"
   ]
  },
  {
   "cell_type": "code",
   "execution_count": 6,
   "id": "05205a3c",
   "metadata": {},
   "outputs": [
    {
     "name": "stdout",
     "output_type": "stream",
     "text": [
      "container/content\n",
      "container/content\n",
      "other relation\n"
     ]
    }
   ],
   "source": [
    "text='the cubes must be filled with boxes and spheres'\n",
    "box='boxes'\n",
    "cube='the cubes'\n",
    "sphere='spheres'\n",
    "print(contenance(text,box,cube))\n",
    "print(contenance(text,cube,sphere))\n",
    "print(contenance(text,box,sphere))"
   ]
  },
  {
   "attachments": {},
   "cell_type": "markdown",
   "id": "2744f675",
   "metadata": {},
   "source": [
    "#### Trouver l'ensemble de toutes les relations de contenance"
   ]
  },
  {
   "cell_type": "code",
   "execution_count": 7,
   "id": "3bbb1c92",
   "metadata": {},
   "outputs": [],
   "source": [
    "from itertools import combinations\n",
    "import spacy\n",
    "\n",
    "nlp = spacy.load(\"en_core_web_lg\")\n",
    "\n",
    "def get_chunk(sent):\n",
    "    doc=nlp(sent)\n",
    "    nps=doc.noun_chunks\n",
    "    sentences=[]\n",
    "    for np1, np2 in combinations([np for np in nps], 2):\n",
    "        sentences.append((sent,np1.text,np2.text))\n",
    "    return sentences\n",
    "\n",
    "def get_rel(sent):\n",
    "    relations={}\n",
    "    for (sent,item1,item2) in get_chunk(sent):\n",
    "        relations[(item1,item2)]=contenance(sent,item1,item2)\n",
    "    return relations"
   ]
  },
  {
   "cell_type": "code",
   "execution_count": 8,
   "id": "e5de6036",
   "metadata": {},
   "outputs": [
    {
     "data": {
      "text/plain": [
       "{('the boxes', 'cubes'): 'container/content',\n",
       " ('the boxes', 'spheres'): 'container/content',\n",
       " ('cubes', 'spheres'): 'other relation'}"
      ]
     },
     "execution_count": 8,
     "metadata": {},
     "output_type": "execute_result"
    }
   ],
   "source": [
    "get_rel('the boxes must be filled with cubes and spheres')"
   ]
  },
  {
   "cell_type": "code",
   "execution_count": 9,
   "id": "d1644027",
   "metadata": {},
   "outputs": [
    {
     "data": {
      "text/plain": [
       "{('the treasure', 'the chest'): 'container/content',\n",
       " ('the treasure', 'the car'): 'other relation',\n",
       " ('the chest', 'the car'): 'other relation'}"
      ]
     },
     "execution_count": 9,
     "metadata": {},
     "output_type": "execute_result"
    }
   ],
   "source": [
    "get_rel(\"the treasure is in the chest of the car\")"
   ]
  },
  {
   "cell_type": "code",
   "execution_count": 10,
   "id": "5a948684",
   "metadata": {},
   "outputs": [
    {
     "data": {
      "text/plain": [
       "{('water', 'the glass'): 'container/content'}"
      ]
     },
     "execution_count": 10,
     "metadata": {},
     "output_type": "execute_result"
    }
   ],
   "source": [
    "get_rel(\"put water in the glass\")"
   ]
  },
  {
   "cell_type": "code",
   "execution_count": null,
   "id": "4c405ae1",
   "metadata": {},
   "outputs": [],
   "source": []
  }
 ],
 "metadata": {
  "kernelspec": {
   "display_name": "myenv",
   "language": "python",
   "name": "myenv"
  },
  "language_info": {
   "codemirror_mode": {
    "name": "ipython",
    "version": 3
   },
   "file_extension": ".py",
   "mimetype": "text/x-python",
   "name": "python",
   "nbconvert_exporter": "python",
   "pygments_lexer": "ipython3",
   "version": "3.6.15"
  }
 },
 "nbformat": 4,
 "nbformat_minor": 5
}
