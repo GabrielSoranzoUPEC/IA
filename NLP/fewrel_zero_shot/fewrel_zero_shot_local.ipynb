{
 "cells": [
  {
   "cell_type": "code",
   "execution_count": 1,
   "id": "41d246cc",
   "metadata": {},
   "outputs": [
    {
     "name": "stdout",
     "output_type": "stream",
     "text": [
      "Python 3.6.15\n"
     ]
    }
   ],
   "source": [
    "!python --version"
   ]
  },
  {
   "cell_type": "code",
   "execution_count": 1,
   "id": "535f3535",
   "metadata": {
    "tags": []
   },
   "outputs": [
    {
     "name": "stdout",
     "output_type": "stream",
     "text": [
      "Requirement already satisfied: torch==1.9.0 in ./venv/lib/python3.6/site-packages (1.9.0)\n",
      "Requirement already satisfied: typing-extensions in ./venv/lib/python3.6/site-packages (from torch==1.9.0) (4.1.1)\n",
      "Requirement already satisfied: dataclasses in ./venv/lib/python3.6/site-packages (from torch==1.9.0) (0.8)\n"
     ]
    }
   ],
   "source": [
    "!python -m pip install torch==1.9.0"
   ]
  },
  {
   "cell_type": "code",
   "execution_count": 2,
   "id": "b940ab39",
   "metadata": {
    "tags": []
   },
   "outputs": [
    {
     "name": "stdout",
     "output_type": "stream",
     "text": [
      "Requirement already satisfied: transformers in ./venv/lib/python3.6/site-packages (4.9.2)\n",
      "Requirement already satisfied: huggingface-hub==0.0.12 in ./venv/lib/python3.6/site-packages (from transformers) (0.0.12)\n",
      "Requirement already satisfied: packaging in ./venv/lib/python3.6/site-packages (from transformers) (21.3)\n",
      "Requirement already satisfied: tokenizers<0.11,>=0.10.1 in ./venv/lib/python3.6/site-packages (from transformers) (0.10.3)\n",
      "Requirement already satisfied: filelock in ./venv/lib/python3.6/site-packages (from transformers) (3.4.1)\n",
      "Requirement already satisfied: sacremoses in ./venv/lib/python3.6/site-packages (from transformers) (0.0.53)\n",
      "Requirement already satisfied: regex!=2019.12.17 in ./venv/lib/python3.6/site-packages (from transformers) (2023.5.5)\n",
      "Requirement already satisfied: numpy>=1.17 in ./venv/lib/python3.6/site-packages (from transformers) (1.19.1)\n",
      "Requirement already satisfied: importlib-metadata in ./venv/lib/python3.6/site-packages (from transformers) (4.8.3)\n",
      "Requirement already satisfied: requests in ./venv/lib/python3.6/site-packages (from transformers) (2.27.1)\n",
      "Requirement already satisfied: dataclasses in ./venv/lib/python3.6/site-packages (from transformers) (0.8)\n",
      "Requirement already satisfied: tqdm>=4.27 in ./venv/lib/python3.6/site-packages (from transformers) (4.64.1)\n",
      "Requirement already satisfied: pyyaml>=5.1 in ./venv/lib/python3.6/site-packages (from transformers) (6.0)\n",
      "Requirement already satisfied: typing-extensions in ./venv/lib/python3.6/site-packages (from huggingface-hub==0.0.12->transformers) (4.1.1)\n",
      "Requirement already satisfied: pyparsing!=3.0.5,>=2.0.2 in ./venv/lib/python3.6/site-packages (from packaging->transformers) (3.0.9)\n",
      "Requirement already satisfied: importlib-resources in ./venv/lib/python3.6/site-packages (from tqdm>=4.27->transformers) (5.4.0)\n",
      "Requirement already satisfied: zipp>=0.5 in ./venv/lib/python3.6/site-packages (from importlib-metadata->transformers) (3.6.0)\n",
      "Requirement already satisfied: charset-normalizer~=2.0.0 in ./venv/lib/python3.6/site-packages (from requests->transformers) (2.0.12)\n",
      "Requirement already satisfied: certifi>=2017.4.17 in ./venv/lib/python3.6/site-packages (from requests->transformers) (2023.5.7)\n",
      "Requirement already satisfied: idna<4,>=2.5 in ./venv/lib/python3.6/site-packages (from requests->transformers) (3.4)\n",
      "Requirement already satisfied: urllib3<1.27,>=1.21.1 in ./venv/lib/python3.6/site-packages (from requests->transformers) (1.26.16)\n",
      "Requirement already satisfied: click in ./venv/lib/python3.6/site-packages (from sacremoses->transformers) (8.0.4)\n",
      "Requirement already satisfied: joblib in ./venv/lib/python3.6/site-packages (from sacremoses->transformers) (1.1.1)\n",
      "Requirement already satisfied: six in ./venv/lib/python3.6/site-packages (from sacremoses->transformers) (1.16.0)\n"
     ]
    }
   ],
   "source": [
    "!pip install transformers"
   ]
  },
  {
   "cell_type": "code",
   "execution_count": 5,
   "id": "d7bd87ea",
   "metadata": {
    "tags": []
   },
   "outputs": [
    {
     "name": "stdout",
     "output_type": "stream",
     "text": [
      "Collecting zero_shot_re\n",
      "  Using cached zero_shot_re-0.0.4-py3-none-any.whl (6.6 kB)\n",
      "Collecting jupyterlab==2.2.9\n",
      "  Using cached jupyterlab-2.2.9-py3-none-any.whl (7.9 MB)\n",
      "Requirement already satisfied: torch==1.9.0 in ./venv/lib/python3.6/site-packages (from zero_shot_re) (1.9.0)\n",
      "Collecting numpy==1.19.1\n",
      "  Downloading numpy-1.19.1-cp36-cp36m-manylinux2010_x86_64.whl (14.5 MB)\n",
      "     |████████████████████████████████| 14.5 MB 1.5 MB/s            \n",
      "\u001b[?25hCollecting transformers==4.9.2\n",
      "  Downloading transformers-4.9.2-py3-none-any.whl (2.6 MB)\n",
      "     |████████████████████████████████| 2.6 MB 492 kB/s            \n",
      "\u001b[?25hCollecting jinja2>=2.10\n",
      "  Using cached Jinja2-3.0.3-py3-none-any.whl (133 kB)\n",
      "Collecting jupyterlab-server<2.0,>=1.1.5\n",
      "  Downloading jupyterlab_server-1.2.0-py3-none-any.whl (29 kB)\n",
      "Collecting notebook>=4.3.1\n",
      "  Downloading notebook-6.4.10-py3-none-any.whl (9.9 MB)\n",
      "     |████████████████████████████████| 9.9 MB 1.2 MB/s            \n",
      "\u001b[?25hRequirement already satisfied: tornado!=6.0.0,!=6.0.1,!=6.0.2 in ./venv/lib/python3.6/site-packages (from jupyterlab==2.2.9->zero_shot_re) (6.1)\n",
      "Requirement already satisfied: typing-extensions in ./venv/lib/python3.6/site-packages (from torch==1.9.0->zero_shot_re) (4.1.1)\n",
      "Requirement already satisfied: dataclasses in ./venv/lib/python3.6/site-packages (from torch==1.9.0->zero_shot_re) (0.8)\n",
      "Requirement already satisfied: requests in ./venv/lib/python3.6/site-packages (from transformers==4.9.2->zero_shot_re) (2.27.1)\n",
      "Requirement already satisfied: pyyaml>=5.1 in ./venv/lib/python3.6/site-packages (from transformers==4.9.2->zero_shot_re) (6.0)\n",
      "Requirement already satisfied: packaging in ./venv/lib/python3.6/site-packages (from transformers==4.9.2->zero_shot_re) (21.3)\n",
      "Requirement already satisfied: tqdm>=4.27 in ./venv/lib/python3.6/site-packages (from transformers==4.9.2->zero_shot_re) (4.64.1)\n",
      "Requirement already satisfied: importlib-metadata in ./venv/lib/python3.6/site-packages (from transformers==4.9.2->zero_shot_re) (4.8.3)\n",
      "Collecting huggingface-hub==0.0.12\n",
      "  Downloading huggingface_hub-0.0.12-py3-none-any.whl (37 kB)\n",
      "Requirement already satisfied: sacremoses in ./venv/lib/python3.6/site-packages (from transformers==4.9.2->zero_shot_re) (0.0.53)\n",
      "Collecting tokenizers<0.11,>=0.10.1\n",
      "  Downloading tokenizers-0.10.3-cp36-cp36m-manylinux_2_5_x86_64.manylinux1_x86_64.manylinux_2_12_x86_64.manylinux2010_x86_64.whl (3.3 MB)\n",
      "     |████████████████████████████████| 3.3 MB 1.0 MB/s            \n",
      "\u001b[?25hRequirement already satisfied: filelock in ./venv/lib/python3.6/site-packages (from transformers==4.9.2->zero_shot_re) (3.4.1)\n",
      "Requirement already satisfied: regex!=2019.12.17 in ./venv/lib/python3.6/site-packages (from transformers==4.9.2->zero_shot_re) (2023.5.5)\n",
      "Collecting MarkupSafe>=2.0\n",
      "  Using cached MarkupSafe-2.0.1-cp36-cp36m-manylinux_2_5_x86_64.manylinux1_x86_64.manylinux_2_12_x86_64.manylinux2010_x86_64.whl (30 kB)\n",
      "Collecting jsonschema>=3.0.1\n",
      "  Downloading jsonschema-3.2.0-py2.py3-none-any.whl (56 kB)\n",
      "     |████████████████████████████████| 56 kB 2.3 MB/s            \n",
      "\u001b[?25hCollecting json5\n",
      "  Downloading json5-0.9.14-py2.py3-none-any.whl (19 kB)\n",
      "Requirement already satisfied: traitlets>=4.2.1 in ./venv/lib/python3.6/site-packages (from notebook>=4.3.1->jupyterlab==2.2.9->zero_shot_re) (4.3.3)\n",
      "Requirement already satisfied: pyzmq>=17 in ./venv/lib/python3.6/site-packages (from notebook>=4.3.1->jupyterlab==2.2.9->zero_shot_re) (25.0.2)\n",
      "Collecting Send2Trash>=1.8.0\n",
      "  Downloading Send2Trash-1.8.2-py3-none-any.whl (18 kB)\n",
      "Collecting nbformat\n",
      "  Downloading nbformat-5.1.3-py3-none-any.whl (178 kB)\n",
      "     |████████████████████████████████| 178 kB 2.1 MB/s            \n",
      "\u001b[?25hCollecting argon2-cffi\n",
      "  Using cached argon2_cffi-21.3.0-py3-none-any.whl (14 kB)\n",
      "Requirement already satisfied: jupyter-client>=5.3.4 in ./venv/lib/python3.6/site-packages (from notebook>=4.3.1->jupyterlab==2.2.9->zero_shot_re) (7.1.2)\n",
      "Requirement already satisfied: ipython-genutils in ./venv/lib/python3.6/site-packages (from notebook>=4.3.1->jupyterlab==2.2.9->zero_shot_re) (0.2.0)\n",
      "Collecting terminado>=0.8.3\n",
      "  Downloading terminado-0.12.1-py3-none-any.whl (15 kB)\n",
      "Requirement already satisfied: jupyter-core>=4.6.1 in ./venv/lib/python3.6/site-packages (from notebook>=4.3.1->jupyterlab==2.2.9->zero_shot_re) (4.9.2)\n",
      "Collecting prometheus-client\n",
      "  Downloading prometheus_client-0.17.0-py3-none-any.whl (60 kB)\n",
      "     |████████████████████████████████| 60 kB 1.5 MB/s            \n",
      "\u001b[?25hRequirement already satisfied: nest-asyncio>=1.5 in ./venv/lib/python3.6/site-packages (from notebook>=4.3.1->jupyterlab==2.2.9->zero_shot_re) (1.5.6)\n",
      "Collecting nbconvert>=5\n",
      "  Downloading nbconvert-6.0.7-py3-none-any.whl (552 kB)\n",
      "     |████████████████████████████████| 552 kB 2.5 MB/s            \n",
      "\u001b[?25hRequirement already satisfied: ipykernel in ./venv/lib/python3.6/site-packages (from notebook>=4.3.1->jupyterlab==2.2.9->zero_shot_re) (5.5.6)\n",
      "Requirement already satisfied: pyparsing!=3.0.5,>=2.0.2 in ./venv/lib/python3.6/site-packages (from packaging->transformers==4.9.2->zero_shot_re) (3.0.9)\n",
      "Requirement already satisfied: importlib-resources in ./venv/lib/python3.6/site-packages (from tqdm>=4.27->transformers==4.9.2->zero_shot_re) (5.4.0)\n",
      "Requirement already satisfied: zipp>=0.5 in ./venv/lib/python3.6/site-packages (from importlib-metadata->transformers==4.9.2->zero_shot_re) (3.6.0)\n",
      "Requirement already satisfied: charset-normalizer~=2.0.0 in ./venv/lib/python3.6/site-packages (from requests->transformers==4.9.2->zero_shot_re) (2.0.12)\n",
      "Requirement already satisfied: idna<4,>=2.5 in ./venv/lib/python3.6/site-packages (from requests->transformers==4.9.2->zero_shot_re) (3.4)\n",
      "Requirement already satisfied: urllib3<1.27,>=1.21.1 in ./venv/lib/python3.6/site-packages (from requests->transformers==4.9.2->zero_shot_re) (1.26.16)\n",
      "Requirement already satisfied: certifi>=2017.4.17 in ./venv/lib/python3.6/site-packages (from requests->transformers==4.9.2->zero_shot_re) (2023.5.7)\n",
      "Requirement already satisfied: six in ./venv/lib/python3.6/site-packages (from sacremoses->transformers==4.9.2->zero_shot_re) (1.16.0)\n",
      "Requirement already satisfied: click in ./venv/lib/python3.6/site-packages (from sacremoses->transformers==4.9.2->zero_shot_re) (8.0.4)\n",
      "Requirement already satisfied: joblib in ./venv/lib/python3.6/site-packages (from sacremoses->transformers==4.9.2->zero_shot_re) (1.1.1)\n",
      "Collecting attrs>=17.4.0\n",
      "  Using cached attrs-22.2.0-py3-none-any.whl (60 kB)\n",
      "Requirement already satisfied: setuptools in ./venv/lib/python3.6/site-packages (from jsonschema>=3.0.1->jupyterlab-server<2.0,>=1.1.5->jupyterlab==2.2.9->zero_shot_re) (59.6.0)\n",
      "Collecting pyrsistent>=0.14.0\n",
      "  Downloading pyrsistent-0.18.0-cp36-cp36m-manylinux1_x86_64.whl (117 kB)\n",
      "     |████████████████████████████████| 117 kB 336 kB/s            \n",
      "\u001b[?25hRequirement already satisfied: entrypoints in ./venv/lib/python3.6/site-packages (from jupyter-client>=5.3.4->notebook>=4.3.1->jupyterlab==2.2.9->zero_shot_re) (0.4)\n",
      "Requirement already satisfied: python-dateutil>=2.1 in ./venv/lib/python3.6/site-packages (from jupyter-client>=5.3.4->notebook>=4.3.1->jupyterlab==2.2.9->zero_shot_re) (2.8.2)\n",
      "Collecting nbclient<0.6.0,>=0.5.0\n",
      "  Downloading nbclient-0.5.9-py3-none-any.whl (69 kB)\n",
      "     |████████████████████████████████| 69 kB 935 kB/s            \n",
      "\u001b[?25hRequirement already satisfied: pygments>=2.4.1 in ./venv/lib/python3.6/site-packages (from nbconvert>=5->notebook>=4.3.1->jupyterlab==2.2.9->zero_shot_re) (2.14.0)\n",
      "Collecting mistune<2,>=0.8.1\n",
      "  Downloading mistune-0.8.4-py2.py3-none-any.whl (16 kB)\n",
      "Collecting testpath\n",
      "  Downloading testpath-0.6.0-py3-none-any.whl (83 kB)\n",
      "     |████████████████████████████████| 83 kB 1.4 MB/s            \n",
      "\u001b[?25hCollecting bleach\n",
      "  Downloading bleach-4.1.0-py2.py3-none-any.whl (157 kB)\n",
      "     |████████████████████████████████| 157 kB 1.4 MB/s            \n",
      "\u001b[?25hCollecting pandocfilters>=1.4.1\n",
      "  Using cached pandocfilters-1.5.0-py2.py3-none-any.whl (8.7 kB)\n",
      "Collecting defusedxml\n",
      "  Using cached defusedxml-0.7.1-py2.py3-none-any.whl (25 kB)\n",
      "Collecting jupyterlab-pygments\n",
      "  Downloading jupyterlab_pygments-0.1.2-py2.py3-none-any.whl (4.6 kB)\n",
      "Requirement already satisfied: ptyprocess in ./venv/lib/python3.6/site-packages (from terminado>=0.8.3->notebook>=4.3.1->jupyterlab==2.2.9->zero_shot_re) (0.7.0)\n",
      "Requirement already satisfied: decorator in ./venv/lib/python3.6/site-packages (from traitlets>=4.2.1->notebook>=4.3.1->jupyterlab==2.2.9->zero_shot_re) (5.1.1)\n",
      "Collecting argon2-cffi-bindings\n",
      "  Using cached argon2_cffi_bindings-21.2.0-cp36-abi3-manylinux_2_17_x86_64.manylinux2014_x86_64.whl (86 kB)\n",
      "Requirement already satisfied: ipython>=5.0.0 in ./venv/lib/python3.6/site-packages (from ipykernel->notebook>=4.3.1->jupyterlab==2.2.9->zero_shot_re) (7.16.3)\n",
      "Requirement already satisfied: pexpect in ./venv/lib/python3.6/site-packages (from ipython>=5.0.0->ipykernel->notebook>=4.3.1->jupyterlab==2.2.9->zero_shot_re) (4.8.0)\n",
      "Requirement already satisfied: prompt-toolkit!=3.0.0,!=3.0.1,<3.1.0,>=2.0.0 in ./venv/lib/python3.6/site-packages (from ipython>=5.0.0->ipykernel->notebook>=4.3.1->jupyterlab==2.2.9->zero_shot_re) (3.0.36)\n",
      "Requirement already satisfied: jedi<=0.17.2,>=0.10 in ./venv/lib/python3.6/site-packages (from ipython>=5.0.0->ipykernel->notebook>=4.3.1->jupyterlab==2.2.9->zero_shot_re) (0.17.2)\n",
      "Requirement already satisfied: pickleshare in ./venv/lib/python3.6/site-packages (from ipython>=5.0.0->ipykernel->notebook>=4.3.1->jupyterlab==2.2.9->zero_shot_re) (0.7.5)\n",
      "Requirement already satisfied: backcall in ./venv/lib/python3.6/site-packages (from ipython>=5.0.0->ipykernel->notebook>=4.3.1->jupyterlab==2.2.9->zero_shot_re) (0.2.0)\n",
      "Collecting async-generator\n",
      "  Downloading async_generator-1.10-py3-none-any.whl (18 kB)\n",
      "Collecting cffi>=1.0.1\n",
      "  Downloading cffi-1.15.1-cp36-cp36m-manylinux_2_5_x86_64.manylinux1_x86_64.whl (402 kB)\n",
      "     |████████████████████████████████| 402 kB 2.0 MB/s            \n",
      "\u001b[?25hCollecting webencodings\n",
      "  Using cached webencodings-0.5.1-py2.py3-none-any.whl (11 kB)\n",
      "Collecting pycparser\n",
      "  Using cached pycparser-2.21-py2.py3-none-any.whl (118 kB)\n",
      "Requirement already satisfied: parso<0.8.0,>=0.7.0 in ./venv/lib/python3.6/site-packages (from jedi<=0.17.2,>=0.10->ipython>=5.0.0->ipykernel->notebook>=4.3.1->jupyterlab==2.2.9->zero_shot_re) (0.7.1)\n",
      "Requirement already satisfied: wcwidth in ./venv/lib/python3.6/site-packages (from prompt-toolkit!=3.0.0,!=3.0.1,<3.1.0,>=2.0.0->ipython>=5.0.0->ipykernel->notebook>=4.3.1->jupyterlab==2.2.9->zero_shot_re) (0.2.6)\n",
      "Installing collected packages: pyrsistent, attrs, pycparser, jsonschema, webencodings, nbformat, MarkupSafe, cffi, async-generator, testpath, pandocfilters, nbclient, mistune, jupyterlab-pygments, jinja2, defusedxml, bleach, argon2-cffi-bindings, terminado, Send2Trash, prometheus-client, nbconvert, argon2-cffi, notebook, json5, tokenizers, numpy, jupyterlab-server, huggingface-hub, transformers, jupyterlab, zero-shot-re\n",
      "  Attempting uninstall: tokenizers\n",
      "    Found existing installation: tokenizers 0.12.1\n",
      "    Uninstalling tokenizers-0.12.1:\n",
      "      Successfully uninstalled tokenizers-0.12.1\n",
      "  Attempting uninstall: numpy\n",
      "    Found existing installation: numpy 1.19.5\n",
      "    Uninstalling numpy-1.19.5:\n",
      "      Successfully uninstalled numpy-1.19.5\n",
      "  Attempting uninstall: huggingface-hub\n",
      "    Found existing installation: huggingface-hub 0.4.0\n",
      "    Uninstalling huggingface-hub-0.4.0:\n",
      "      Successfully uninstalled huggingface-hub-0.4.0\n",
      "  Attempting uninstall: transformers\n",
      "    Found existing installation: transformers 4.18.0\n",
      "    Uninstalling transformers-4.18.0:\n",
      "      Successfully uninstalled transformers-4.18.0\n",
      "Successfully installed MarkupSafe-2.0.1 Send2Trash-1.8.2 argon2-cffi-21.3.0 argon2-cffi-bindings-21.2.0 async-generator-1.10 attrs-22.2.0 bleach-4.1.0 cffi-1.15.1 defusedxml-0.7.1 huggingface-hub-0.0.12 jinja2-3.0.3 json5-0.9.14 jsonschema-3.2.0 jupyterlab-2.2.9 jupyterlab-pygments-0.1.2 jupyterlab-server-1.2.0 mistune-0.8.4 nbclient-0.5.9 nbconvert-6.0.7 nbformat-5.1.3 notebook-6.4.10 numpy-1.19.1 pandocfilters-1.5.0 prometheus-client-0.17.0 pycparser-2.21 pyrsistent-0.18.0 terminado-0.12.1 testpath-0.6.0 tokenizers-0.10.3 transformers-4.9.2 webencodings-0.5.1 zero-shot-re-0.0.4\n"
     ]
    }
   ],
   "source": [
    "!pip install zero_shot_re"
   ]
  },
  {
   "cell_type": "code",
   "execution_count": 3,
   "id": "193c06fa",
   "metadata": {
    "tags": []
   },
   "outputs": [
    {
     "name": "stderr",
     "output_type": "stream",
     "text": [
      "/home/gs/Info/IA/NLP/fewrel_zero_shot/venv/lib/python3.6/site-packages/tqdm/auto.py:22: TqdmWarning: IProgress not found. Please update jupyter and ipywidgets. See https://ipywidgets.readthedocs.io/en/stable/user_install.html\n",
      "  from .autonotebook import tqdm as notebook_tqdm\n",
      "Downloading: 100%|██████████| 1.34G/1.34G [05:45<00:00, 3.88MB/s]\n",
      "Some weights of the model checkpoint at bert-large-uncased-whole-word-masking-finetuned-squad were not used when initializing BertModel: ['qa_outputs.bias', 'qa_outputs.weight']\n",
      "- This IS expected if you are initializing BertModel from the checkpoint of a model trained on another task or with another architecture (e.g. initializing a BertForSequenceClassification model from a BertForPreTraining model).\n",
      "- This IS NOT expected if you are initializing BertModel from the checkpoint of a model that you expect to be exactly identical (initializing a BertForSequenceClassification model from a BertForSequenceClassification model).\n",
      "Downloading: 100%|██████████| 1.34G/1.34G [05:05<00:00, 4.39MB/s]\n",
      "Downloading: 100%|██████████| 349/349 [00:00<00:00, 221kB/s]\n",
      "Downloading: 100%|██████████| 232k/232k [00:00<00:00, 3.94MB/s]\n",
      "Downloading: 100%|██████████| 711k/711k [00:00<00:00, 4.33MB/s]\n",
      "Downloading: 100%|██████████| 125/125 [00:00<00:00, 48.3kB/s]\n"
     ]
    },
    {
     "name": "stdout",
     "output_type": "stream",
     "text": [
      "[('noble title', 0.9003546684980392), ('occupation of a person', 0.0009881258010864258), ('founding date', 0.00013267993927001953)]\n"
     ]
    }
   ],
   "source": [
    "from transformers import AutoTokenizer\n",
    "from zero_shot_re import RelTaggerModel, RelationExtractor\n",
    "\n",
    "model = RelTaggerModel.from_pretrained(\"fractalego/fewrel-zero-shot\")\n",
    "tokenizer = AutoTokenizer.from_pretrained(\"fractalego/fewrel-zero-shot\")\n",
    "\n",
    "relations = ['noble title', 'founding date', 'occupation of a person']\n",
    "extractor = RelationExtractor(model, tokenizer, relations)\n",
    "ranked_rels = extractor.rank(text='John Smith received an OBE', head='John Smith', tail='OBE')\n",
    "print(ranked_rels)"
   ]
  },
  {
   "cell_type": "markdown",
   "id": "894a333b",
   "metadata": {},
   "source": [
    "Le modèle n'est pas adapté pour distinguer le conteneur et le contenu:"
   ]
  },
  {
   "cell_type": "code",
   "execution_count": 17,
   "id": "3192918e",
   "metadata": {},
   "outputs": [
    {
     "name": "stdout",
     "output_type": "stream",
     "text": [
      "[('container', 0.9636894315481186), ('content', 0.719708263874054), ('other relation', 0.3384249806404114)]\n"
     ]
    }
   ],
   "source": [
    "relations = ['container', 'content', 'other relation']\n",
    "extractor = RelationExtractor(model, tokenizer, relations)\n",
    "cubes='the cubes'\n",
    "box='the box'\n",
    "ranked_rels = extractor.rank(text='the box must be filled with the cubes', head=box, tail=cubes)\n",
    "print(ranked_rels)"
   ]
  },
  {
   "cell_type": "markdown",
   "id": "f8959e1c",
   "metadata": {},
   "source": [
    "Le modèle est bon pour trouver les relations de contenance:"
   ]
  },
  {
   "cell_type": "code",
   "execution_count": 100,
   "id": "324b0089",
   "metadata": {},
   "outputs": [],
   "source": [
    "def contenance(text,item1,item2):\n",
    "    ranked_rels = extractor.rank(text=text, head=item1, tail=item2)\n",
    "    #print(ranked_rels)\n",
    "    if ranked_rels[1][1]>0.5:\n",
    "        return 'other relation'\n",
    "    elif ranked_rels[0][1]>0.9:\n",
    "        return 'container/content'\n",
    "    else:\n",
    "        return 'other relation'"
   ]
  },
  {
   "cell_type": "code",
   "execution_count": 106,
   "id": "8f7921e8",
   "metadata": {},
   "outputs": [],
   "source": [
    "text='You must put the cubes and the spheres in the boxes'\n",
    "box='the boxes'\n",
    "cube='the cubes'\n",
    "sphere='the spheres'"
   ]
  },
  {
   "cell_type": "code",
   "execution_count": 107,
   "id": "a4c7fc17",
   "metadata": {},
   "outputs": [
    {
     "name": "stdout",
     "output_type": "stream",
     "text": [
      "container/content\n",
      "other relation\n",
      "container/content\n"
     ]
    }
   ],
   "source": [
    "print(contenance(text,box,cube))\n",
    "print(contenance(text,cube,sphere))\n",
    "print(contenance(text,box,sphere))"
   ]
  },
  {
   "cell_type": "code",
   "execution_count": 108,
   "id": "140090f7",
   "metadata": {},
   "outputs": [],
   "source": [
    "text='You must put the boxes and the spheres in the cubes'\n",
    "box='the boxes'\n",
    "cube='the cubes'\n",
    "sphere='the spheres'"
   ]
  },
  {
   "cell_type": "code",
   "execution_count": 109,
   "id": "f53cebc6",
   "metadata": {},
   "outputs": [
    {
     "name": "stdout",
     "output_type": "stream",
     "text": [
      "container/content\n",
      "container/content\n",
      "other relation\n"
     ]
    }
   ],
   "source": [
    "print(contenance(text,box,cube))\n",
    "print(contenance(text,cube,sphere))\n",
    "print(contenance(text,box,sphere))"
   ]
  },
  {
   "cell_type": "code",
   "execution_count": 104,
   "id": "0e95d1d0",
   "metadata": {},
   "outputs": [],
   "source": [
    "text='the cubes must be filled with boxes and spheres'\n",
    "box='boxes'\n",
    "cube='the cubes'\n",
    "sphere='spheres'"
   ]
  },
  {
   "cell_type": "code",
   "execution_count": 105,
   "id": "e5c6abe2",
   "metadata": {},
   "outputs": [
    {
     "name": "stdout",
     "output_type": "stream",
     "text": [
      "container/content\n",
      "container/content\n",
      "other relation\n"
     ]
    }
   ],
   "source": [
    "print(contenance(text,box,cube))\n",
    "print(contenance(text,cube,sphere))\n",
    "print(contenance(text,box,sphere))"
   ]
  },
  {
   "cell_type": "code",
   "execution_count": null,
   "id": "0644db49",
   "metadata": {},
   "outputs": [],
   "source": []
  }
 ],
 "metadata": {
  "kernelspec": {
   "display_name": "myenv",
   "language": "python",
   "name": "myenv"
  },
  "language_info": {
   "codemirror_mode": {
    "name": "ipython",
    "version": 3
   },
   "file_extension": ".py",
   "mimetype": "text/x-python",
   "name": "python",
   "nbconvert_exporter": "python",
   "pygments_lexer": "ipython3",
   "version": "3.6.15"
  }
 },
 "nbformat": 4,
 "nbformat_minor": 5
}
