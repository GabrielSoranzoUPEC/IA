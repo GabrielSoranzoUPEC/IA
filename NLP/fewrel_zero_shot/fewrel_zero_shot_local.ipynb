{
 "cells": [
  {
   "cell_type": "code",
   "execution_count": 1,
   "id": "37cf5747",
   "metadata": {},
   "outputs": [
    {
     "name": "stdout",
     "output_type": "stream",
     "text": [
      "Python 3.6.15\n"
     ]
    }
   ],
   "source": [
    "!python --version"
   ]
  },
  {
   "cell_type": "code",
   "execution_count": 2,
   "id": "cc87d610",
   "metadata": {
    "tags": []
   },
   "outputs": [
    {
     "name": "stdout",
     "output_type": "stream",
     "text": [
      "Requirement already satisfied: torch==1.9.0 in ./venv/lib/python3.6/site-packages (1.9.0)\n",
      "Requirement already satisfied: dataclasses in ./venv/lib/python3.6/site-packages (from torch==1.9.0) (0.8)\n",
      "Requirement already satisfied: typing-extensions in ./venv/lib/python3.6/site-packages (from torch==1.9.0) (4.1.1)\n"
     ]
    }
   ],
   "source": [
    "!python -m pip install torch==1.9.0"
   ]
  },
  {
   "cell_type": "code",
   "execution_count": 3,
   "id": "f73de403",
   "metadata": {
    "tags": []
   },
   "outputs": [
    {
     "name": "stdout",
     "output_type": "stream",
     "text": [
      "Requirement already satisfied: transformers in ./venv/lib/python3.6/site-packages (4.9.2)\n",
      "Requirement already satisfied: pyyaml>=5.1 in ./venv/lib/python3.6/site-packages (from transformers) (6.0)\n",
      "Requirement already satisfied: requests in ./venv/lib/python3.6/site-packages (from transformers) (2.27.1)\n",
      "Requirement already satisfied: sacremoses in ./venv/lib/python3.6/site-packages (from transformers) (0.0.53)\n",
      "Requirement already satisfied: importlib-metadata in ./venv/lib/python3.6/site-packages (from transformers) (4.8.3)\n",
      "Requirement already satisfied: numpy>=1.17 in ./venv/lib/python3.6/site-packages (from transformers) (1.19.1)\n",
      "Requirement already satisfied: dataclasses in ./venv/lib/python3.6/site-packages (from transformers) (0.8)\n",
      "Requirement already satisfied: huggingface-hub==0.0.12 in ./venv/lib/python3.6/site-packages (from transformers) (0.0.12)\n",
      "Requirement already satisfied: regex!=2019.12.17 in ./venv/lib/python3.6/site-packages (from transformers) (2023.5.5)\n",
      "Requirement already satisfied: packaging in ./venv/lib/python3.6/site-packages (from transformers) (21.3)\n",
      "Requirement already satisfied: tqdm>=4.27 in ./venv/lib/python3.6/site-packages (from transformers) (4.64.1)\n",
      "Requirement already satisfied: filelock in ./venv/lib/python3.6/site-packages (from transformers) (3.4.1)\n",
      "Requirement already satisfied: tokenizers<0.11,>=0.10.1 in ./venv/lib/python3.6/site-packages (from transformers) (0.10.3)\n",
      "Requirement already satisfied: typing-extensions in ./venv/lib/python3.6/site-packages (from huggingface-hub==0.0.12->transformers) (4.1.1)\n",
      "Requirement already satisfied: pyparsing!=3.0.5,>=2.0.2 in ./venv/lib/python3.6/site-packages (from packaging->transformers) (3.0.9)\n",
      "Requirement already satisfied: importlib-resources in ./venv/lib/python3.6/site-packages (from tqdm>=4.27->transformers) (5.4.0)\n",
      "Requirement already satisfied: zipp>=0.5 in ./venv/lib/python3.6/site-packages (from importlib-metadata->transformers) (3.6.0)\n",
      "Requirement already satisfied: certifi>=2017.4.17 in ./venv/lib/python3.6/site-packages (from requests->transformers) (2023.5.7)\n",
      "Requirement already satisfied: urllib3<1.27,>=1.21.1 in ./venv/lib/python3.6/site-packages (from requests->transformers) (1.26.16)\n",
      "Requirement already satisfied: idna<4,>=2.5 in ./venv/lib/python3.6/site-packages (from requests->transformers) (3.4)\n",
      "Requirement already satisfied: charset-normalizer~=2.0.0 in ./venv/lib/python3.6/site-packages (from requests->transformers) (2.0.12)\n",
      "Requirement already satisfied: joblib in ./venv/lib/python3.6/site-packages (from sacremoses->transformers) (1.1.1)\n",
      "Requirement already satisfied: six in ./venv/lib/python3.6/site-packages (from sacremoses->transformers) (1.16.0)\n",
      "Requirement already satisfied: click in ./venv/lib/python3.6/site-packages (from sacremoses->transformers) (8.0.4)\n"
     ]
    }
   ],
   "source": [
    "!pip install transformers"
   ]
  },
  {
   "cell_type": "code",
   "execution_count": 1,
   "id": "12662250",
   "metadata": {
    "tags": []
   },
   "outputs": [
    {
     "name": "stdout",
     "output_type": "stream",
     "text": [
      "Requirement already satisfied: zero_shot_re in ./venv/lib/python3.6/site-packages (0.0.4)\n",
      "Requirement already satisfied: transformers==4.9.2 in ./venv/lib/python3.6/site-packages (from zero_shot_re) (4.9.2)\n",
      "Requirement already satisfied: numpy==1.19.1 in ./venv/lib/python3.6/site-packages (from zero_shot_re) (1.19.1)\n",
      "Requirement already satisfied: torch==1.9.0 in ./venv/lib/python3.6/site-packages (from zero_shot_re) (1.9.0)\n",
      "Requirement already satisfied: jupyterlab==2.2.9 in ./venv/lib/python3.6/site-packages (from zero_shot_re) (2.2.9)\n",
      "Requirement already satisfied: notebook>=4.3.1 in ./venv/lib/python3.6/site-packages (from jupyterlab==2.2.9->zero_shot_re) (6.4.10)\n",
      "Requirement already satisfied: jupyterlab-server<2.0,>=1.1.5 in ./venv/lib/python3.6/site-packages (from jupyterlab==2.2.9->zero_shot_re) (1.2.0)\n",
      "Requirement already satisfied: tornado!=6.0.0,!=6.0.1,!=6.0.2 in ./venv/lib/python3.6/site-packages (from jupyterlab==2.2.9->zero_shot_re) (6.1)\n",
      "Requirement already satisfied: jinja2>=2.10 in ./venv/lib/python3.6/site-packages (from jupyterlab==2.2.9->zero_shot_re) (3.0.3)\n",
      "Requirement already satisfied: typing-extensions in ./venv/lib/python3.6/site-packages (from torch==1.9.0->zero_shot_re) (4.1.1)\n",
      "Requirement already satisfied: dataclasses in ./venv/lib/python3.6/site-packages (from torch==1.9.0->zero_shot_re) (0.8)\n",
      "Requirement already satisfied: tqdm>=4.27 in ./venv/lib/python3.6/site-packages (from transformers==4.9.2->zero_shot_re) (4.64.1)\n",
      "Requirement already satisfied: filelock in ./venv/lib/python3.6/site-packages (from transformers==4.9.2->zero_shot_re) (3.4.1)\n",
      "Requirement already satisfied: regex!=2019.12.17 in ./venv/lib/python3.6/site-packages (from transformers==4.9.2->zero_shot_re) (2023.5.5)\n",
      "Requirement already satisfied: requests in ./venv/lib/python3.6/site-packages (from transformers==4.9.2->zero_shot_re) (2.27.1)\n",
      "Requirement already satisfied: importlib-metadata in ./venv/lib/python3.6/site-packages (from transformers==4.9.2->zero_shot_re) (4.8.3)\n",
      "Requirement already satisfied: pyyaml>=5.1 in ./venv/lib/python3.6/site-packages (from transformers==4.9.2->zero_shot_re) (6.0)\n",
      "Requirement already satisfied: tokenizers<0.11,>=0.10.1 in ./venv/lib/python3.6/site-packages (from transformers==4.9.2->zero_shot_re) (0.10.3)\n",
      "Requirement already satisfied: packaging in ./venv/lib/python3.6/site-packages (from transformers==4.9.2->zero_shot_re) (21.3)\n",
      "Requirement already satisfied: huggingface-hub==0.0.12 in ./venv/lib/python3.6/site-packages (from transformers==4.9.2->zero_shot_re) (0.0.12)\n",
      "Requirement already satisfied: sacremoses in ./venv/lib/python3.6/site-packages (from transformers==4.9.2->zero_shot_re) (0.0.53)\n",
      "Requirement already satisfied: MarkupSafe>=2.0 in ./venv/lib/python3.6/site-packages (from jinja2>=2.10->jupyterlab==2.2.9->zero_shot_re) (2.0.1)\n",
      "Requirement already satisfied: jsonschema>=3.0.1 in ./venv/lib/python3.6/site-packages (from jupyterlab-server<2.0,>=1.1.5->jupyterlab==2.2.9->zero_shot_re) (3.2.0)\n",
      "Requirement already satisfied: json5 in ./venv/lib/python3.6/site-packages (from jupyterlab-server<2.0,>=1.1.5->jupyterlab==2.2.9->zero_shot_re) (0.9.14)\n",
      "Requirement already satisfied: pyzmq>=17 in ./venv/lib/python3.6/site-packages (from notebook>=4.3.1->jupyterlab==2.2.9->zero_shot_re) (25.0.2)\n",
      "Requirement already satisfied: ipython-genutils in ./venv/lib/python3.6/site-packages (from notebook>=4.3.1->jupyterlab==2.2.9->zero_shot_re) (0.2.0)\n",
      "Requirement already satisfied: Send2Trash>=1.8.0 in ./venv/lib/python3.6/site-packages (from notebook>=4.3.1->jupyterlab==2.2.9->zero_shot_re) (1.8.2)\n",
      "Requirement already satisfied: prometheus-client in ./venv/lib/python3.6/site-packages (from notebook>=4.3.1->jupyterlab==2.2.9->zero_shot_re) (0.17.0)\n",
      "Requirement already satisfied: argon2-cffi in ./venv/lib/python3.6/site-packages (from notebook>=4.3.1->jupyterlab==2.2.9->zero_shot_re) (21.3.0)\n",
      "Requirement already satisfied: nbconvert>=5 in ./venv/lib/python3.6/site-packages (from notebook>=4.3.1->jupyterlab==2.2.9->zero_shot_re) (6.0.7)\n",
      "Requirement already satisfied: jupyter-core>=4.6.1 in ./venv/lib/python3.6/site-packages (from notebook>=4.3.1->jupyterlab==2.2.9->zero_shot_re) (4.9.2)\n",
      "Requirement already satisfied: nest-asyncio>=1.5 in ./venv/lib/python3.6/site-packages (from notebook>=4.3.1->jupyterlab==2.2.9->zero_shot_re) (1.5.6)\n",
      "Requirement already satisfied: ipykernel in ./venv/lib/python3.6/site-packages (from notebook>=4.3.1->jupyterlab==2.2.9->zero_shot_re) (5.5.6)\n",
      "Requirement already satisfied: nbformat in ./venv/lib/python3.6/site-packages (from notebook>=4.3.1->jupyterlab==2.2.9->zero_shot_re) (5.1.3)\n",
      "Requirement already satisfied: jupyter-client>=5.3.4 in ./venv/lib/python3.6/site-packages (from notebook>=4.3.1->jupyterlab==2.2.9->zero_shot_re) (7.1.2)\n",
      "Requirement already satisfied: traitlets>=4.2.1 in ./venv/lib/python3.6/site-packages (from notebook>=4.3.1->jupyterlab==2.2.9->zero_shot_re) (4.3.3)\n",
      "Requirement already satisfied: terminado>=0.8.3 in ./venv/lib/python3.6/site-packages (from notebook>=4.3.1->jupyterlab==2.2.9->zero_shot_re) (0.12.1)\n",
      "Requirement already satisfied: pyparsing!=3.0.5,>=2.0.2 in ./venv/lib/python3.6/site-packages (from packaging->transformers==4.9.2->zero_shot_re) (3.0.9)\n",
      "Requirement already satisfied: importlib-resources in ./venv/lib/python3.6/site-packages (from tqdm>=4.27->transformers==4.9.2->zero_shot_re) (5.4.0)\n",
      "Requirement already satisfied: zipp>=0.5 in ./venv/lib/python3.6/site-packages (from importlib-metadata->transformers==4.9.2->zero_shot_re) (3.6.0)\n",
      "Requirement already satisfied: urllib3<1.27,>=1.21.1 in ./venv/lib/python3.6/site-packages (from requests->transformers==4.9.2->zero_shot_re) (1.26.16)\n",
      "Requirement already satisfied: certifi>=2017.4.17 in ./venv/lib/python3.6/site-packages (from requests->transformers==4.9.2->zero_shot_re) (2023.5.7)\n",
      "Requirement already satisfied: charset-normalizer~=2.0.0 in ./venv/lib/python3.6/site-packages (from requests->transformers==4.9.2->zero_shot_re) (2.0.12)\n",
      "Requirement already satisfied: idna<4,>=2.5 in ./venv/lib/python3.6/site-packages (from requests->transformers==4.9.2->zero_shot_re) (3.4)\n",
      "Requirement already satisfied: joblib in ./venv/lib/python3.6/site-packages (from sacremoses->transformers==4.9.2->zero_shot_re) (1.1.1)\n",
      "Requirement already satisfied: six in ./venv/lib/python3.6/site-packages (from sacremoses->transformers==4.9.2->zero_shot_re) (1.16.0)\n",
      "Requirement already satisfied: click in ./venv/lib/python3.6/site-packages (from sacremoses->transformers==4.9.2->zero_shot_re) (8.0.4)\n",
      "Requirement already satisfied: pyrsistent>=0.14.0 in ./venv/lib/python3.6/site-packages (from jsonschema>=3.0.1->jupyterlab-server<2.0,>=1.1.5->jupyterlab==2.2.9->zero_shot_re) (0.18.0)\n",
      "Requirement already satisfied: attrs>=17.4.0 in ./venv/lib/python3.6/site-packages (from jsonschema>=3.0.1->jupyterlab-server<2.0,>=1.1.5->jupyterlab==2.2.9->zero_shot_re) (22.2.0)\n",
      "Requirement already satisfied: setuptools in ./venv/lib/python3.6/site-packages (from jsonschema>=3.0.1->jupyterlab-server<2.0,>=1.1.5->jupyterlab==2.2.9->zero_shot_re) (59.6.0)\n",
      "Requirement already satisfied: python-dateutil>=2.1 in ./venv/lib/python3.6/site-packages (from jupyter-client>=5.3.4->notebook>=4.3.1->jupyterlab==2.2.9->zero_shot_re) (2.8.2)\n",
      "Requirement already satisfied: entrypoints in ./venv/lib/python3.6/site-packages (from jupyter-client>=5.3.4->notebook>=4.3.1->jupyterlab==2.2.9->zero_shot_re) (0.4)\n",
      "Requirement already satisfied: mistune<2,>=0.8.1 in ./venv/lib/python3.6/site-packages (from nbconvert>=5->notebook>=4.3.1->jupyterlab==2.2.9->zero_shot_re) (0.8.4)\n",
      "Requirement already satisfied: nbclient<0.6.0,>=0.5.0 in ./venv/lib/python3.6/site-packages (from nbconvert>=5->notebook>=4.3.1->jupyterlab==2.2.9->zero_shot_re) (0.5.9)\n",
      "Requirement already satisfied: bleach in ./venv/lib/python3.6/site-packages (from nbconvert>=5->notebook>=4.3.1->jupyterlab==2.2.9->zero_shot_re) (4.1.0)\n",
      "Requirement already satisfied: testpath in ./venv/lib/python3.6/site-packages (from nbconvert>=5->notebook>=4.3.1->jupyterlab==2.2.9->zero_shot_re) (0.6.0)\n",
      "Requirement already satisfied: pygments>=2.4.1 in ./venv/lib/python3.6/site-packages (from nbconvert>=5->notebook>=4.3.1->jupyterlab==2.2.9->zero_shot_re) (2.14.0)\n",
      "Requirement already satisfied: pandocfilters>=1.4.1 in ./venv/lib/python3.6/site-packages (from nbconvert>=5->notebook>=4.3.1->jupyterlab==2.2.9->zero_shot_re) (1.5.0)\n",
      "Requirement already satisfied: jupyterlab-pygments in ./venv/lib/python3.6/site-packages (from nbconvert>=5->notebook>=4.3.1->jupyterlab==2.2.9->zero_shot_re) (0.1.2)\n",
      "Requirement already satisfied: defusedxml in ./venv/lib/python3.6/site-packages (from nbconvert>=5->notebook>=4.3.1->jupyterlab==2.2.9->zero_shot_re) (0.7.1)\n",
      "Requirement already satisfied: ptyprocess in ./venv/lib/python3.6/site-packages (from terminado>=0.8.3->notebook>=4.3.1->jupyterlab==2.2.9->zero_shot_re) (0.7.0)\n",
      "Requirement already satisfied: decorator in ./venv/lib/python3.6/site-packages (from traitlets>=4.2.1->notebook>=4.3.1->jupyterlab==2.2.9->zero_shot_re) (5.1.1)\n",
      "Requirement already satisfied: argon2-cffi-bindings in ./venv/lib/python3.6/site-packages (from argon2-cffi->notebook>=4.3.1->jupyterlab==2.2.9->zero_shot_re) (21.2.0)\n",
      "Requirement already satisfied: ipython>=5.0.0 in ./venv/lib/python3.6/site-packages (from ipykernel->notebook>=4.3.1->jupyterlab==2.2.9->zero_shot_re) (7.16.3)\n",
      "Requirement already satisfied: pexpect in ./venv/lib/python3.6/site-packages (from ipython>=5.0.0->ipykernel->notebook>=4.3.1->jupyterlab==2.2.9->zero_shot_re) (4.8.0)\n",
      "Requirement already satisfied: backcall in ./venv/lib/python3.6/site-packages (from ipython>=5.0.0->ipykernel->notebook>=4.3.1->jupyterlab==2.2.9->zero_shot_re) (0.2.0)\n",
      "Requirement already satisfied: prompt-toolkit!=3.0.0,!=3.0.1,<3.1.0,>=2.0.0 in ./venv/lib/python3.6/site-packages (from ipython>=5.0.0->ipykernel->notebook>=4.3.1->jupyterlab==2.2.9->zero_shot_re) (3.0.36)\n",
      "Requirement already satisfied: pickleshare in ./venv/lib/python3.6/site-packages (from ipython>=5.0.0->ipykernel->notebook>=4.3.1->jupyterlab==2.2.9->zero_shot_re) (0.7.5)\n",
      "Requirement already satisfied: jedi<=0.17.2,>=0.10 in ./venv/lib/python3.6/site-packages (from ipython>=5.0.0->ipykernel->notebook>=4.3.1->jupyterlab==2.2.9->zero_shot_re) (0.17.2)\n",
      "Requirement already satisfied: async-generator in ./venv/lib/python3.6/site-packages (from nbclient<0.6.0,>=0.5.0->nbconvert>=5->notebook>=4.3.1->jupyterlab==2.2.9->zero_shot_re) (1.10)\n",
      "Requirement already satisfied: cffi>=1.0.1 in ./venv/lib/python3.6/site-packages (from argon2-cffi-bindings->argon2-cffi->notebook>=4.3.1->jupyterlab==2.2.9->zero_shot_re) (1.15.1)\n",
      "Requirement already satisfied: webencodings in ./venv/lib/python3.6/site-packages (from bleach->nbconvert>=5->notebook>=4.3.1->jupyterlab==2.2.9->zero_shot_re) (0.5.1)\n",
      "Requirement already satisfied: pycparser in ./venv/lib/python3.6/site-packages (from cffi>=1.0.1->argon2-cffi-bindings->argon2-cffi->notebook>=4.3.1->jupyterlab==2.2.9->zero_shot_re) (2.21)\n",
      "Requirement already satisfied: parso<0.8.0,>=0.7.0 in ./venv/lib/python3.6/site-packages (from jedi<=0.17.2,>=0.10->ipython>=5.0.0->ipykernel->notebook>=4.3.1->jupyterlab==2.2.9->zero_shot_re) (0.7.1)\n",
      "Requirement already satisfied: wcwidth in ./venv/lib/python3.6/site-packages (from prompt-toolkit!=3.0.0,!=3.0.1,<3.1.0,>=2.0.0->ipython>=5.0.0->ipykernel->notebook>=4.3.1->jupyterlab==2.2.9->zero_shot_re) (0.2.6)\n"
     ]
    }
   ],
   "source": [
    "!pip install -U zero_shot_re"
   ]
  },
  {
   "cell_type": "code",
   "execution_count": 2,
   "id": "323467e2",
   "metadata": {
    "tags": []
   },
   "outputs": [
    {
     "name": "stderr",
     "output_type": "stream",
     "text": [
      "/home/gs/Info/IA/NLP/fewrel_zero_shot/venv/lib/python3.6/site-packages/tqdm/auto.py:22: TqdmWarning: IProgress not found. Please update jupyter and ipywidgets. See https://ipywidgets.readthedocs.io/en/stable/user_install.html\n",
      "  from .autonotebook import tqdm as notebook_tqdm\n",
      "Some weights of the model checkpoint at bert-large-uncased-whole-word-masking-finetuned-squad were not used when initializing BertModel: ['qa_outputs.weight', 'qa_outputs.bias']\n",
      "- This IS expected if you are initializing BertModel from the checkpoint of a model trained on another task or with another architecture (e.g. initializing a BertForSequenceClassification model from a BertForPreTraining model).\n",
      "- This IS NOT expected if you are initializing BertModel from the checkpoint of a model that you expect to be exactly identical (initializing a BertForSequenceClassification model from a BertForSequenceClassification model).\n"
     ]
    },
    {
     "name": "stdout",
     "output_type": "stream",
     "text": [
      "[('noble title', 0.9003546684980392), ('occupation of a person', 0.0009881258010864258), ('founding date', 0.00013267993927001953)]\n"
     ]
    }
   ],
   "source": [
    "from transformers import AutoTokenizer\n",
    "from zero_shot_re import RelTaggerModel, RelationExtractor\n",
    "\n",
    "model = RelTaggerModel.from_pretrained(\"fractalego/fewrel-zero-shot\")\n",
    "tokenizer = AutoTokenizer.from_pretrained(\"fractalego/fewrel-zero-shot\")\n",
    "\n",
    "relations = ['noble title', 'founding date', 'occupation of a person']\n",
    "extractor = RelationExtractor(model, tokenizer, relations)\n",
    "ranked_rels = extractor.rank(text='John Smith received an OBE', head='John Smith', tail='OBE')\n",
    "print(ranked_rels)"
   ]
  },
  {
   "cell_type": "markdown",
   "id": "e912a2f8",
   "metadata": {},
   "source": [
    "Le modèle n'est pas adapté pour distinguer le conteneur et le contenu:"
   ]
  },
  {
   "cell_type": "code",
   "execution_count": 3,
   "id": "f68cbeed",
   "metadata": {},
   "outputs": [
    {
     "name": "stdout",
     "output_type": "stream",
     "text": [
      "[('container', 0.9636894315481186), ('content', 0.719708263874054), ('other relation', 0.3384249806404114)]\n"
     ]
    }
   ],
   "source": [
    "relations = ['container', 'content', 'other relation']\n",
    "extractor = RelationExtractor(model, tokenizer, relations)\n",
    "cubes='the cubes'\n",
    "box='the box'\n",
    "ranked_rels = extractor.rank(text='the box must be filled with the cubes', head=box, tail=cubes)\n",
    "print(ranked_rels)"
   ]
  },
  {
   "cell_type": "markdown",
   "id": "70dd0792",
   "metadata": {},
   "source": [
    "Le modèle est bon pour trouver les relations de contenance:"
   ]
  },
  {
   "cell_type": "code",
   "execution_count": 52,
   "id": "e2c40429",
   "metadata": {},
   "outputs": [],
   "source": [
    "relations = ['container', 'other relation']\n",
    "extractor = RelationExtractor(model, tokenizer, relations)"
   ]
  },
  {
   "cell_type": "code",
   "execution_count": 57,
   "id": "42b658ab",
   "metadata": {},
   "outputs": [],
   "source": [
    "def contenance(text,item1,item2):\n",
    "    #print(text,\",\",item1,\",\",item2)\n",
    "    ranked_rels = extractor.rank(text=text, head=item1, tail=item2)\n",
    "    print(ranked_rels)\n",
    "    if ranked_rels[1][1]>0.5:\n",
    "        return 'other relation'\n",
    "    elif ranked_rels[0][1]>0.9:\n",
    "        return 'container/content'\n",
    "    else:\n",
    "        return 'other relation'"
   ]
  },
  {
   "cell_type": "code",
   "execution_count": 58,
   "id": "0abd8ed4",
   "metadata": {},
   "outputs": [],
   "source": [
    "text='You must put the cubes and the spheres in the boxes'\n",
    "box='the boxes'\n",
    "cube='the cubes'\n",
    "sphere='the spheres'"
   ]
  },
  {
   "cell_type": "code",
   "execution_count": 59,
   "id": "c7dfb494",
   "metadata": {},
   "outputs": [
    {
     "name": "stdout",
     "output_type": "stream",
     "text": [
      "[('container', 0.9523085951805115), ('other relation', 0.2757440209388733)]\n",
      "container/content\n",
      "[('container', 0.8768596798181534), ('other relation', 0.3286207318305969)]\n",
      "other relation\n",
      "[('container', 0.9329218715429306), ('other relation', 0.16817760467529297)]\n",
      "container/content\n"
     ]
    }
   ],
   "source": [
    "print(contenance(text,box,cube))\n",
    "print(contenance(text,cube,sphere))\n",
    "print(contenance(text,box,sphere))"
   ]
  },
  {
   "cell_type": "code",
   "execution_count": 32,
   "id": "a6ea4d07",
   "metadata": {},
   "outputs": [],
   "source": [
    "text='You must put the boxes and the spheres in the cubes'\n",
    "box='the boxes'\n",
    "cube='the cubes'\n",
    "sphere='the spheres'"
   ]
  },
  {
   "cell_type": "code",
   "execution_count": 33,
   "id": "56452a5c",
   "metadata": {},
   "outputs": [
    {
     "name": "stdout",
     "output_type": "stream",
     "text": [
      "container/content\n",
      "container/content\n",
      "other relation\n"
     ]
    }
   ],
   "source": [
    "print(contenance(text,box,cube))\n",
    "print(contenance(text,cube,sphere))\n",
    "print(contenance(text,box,sphere))"
   ]
  },
  {
   "cell_type": "code",
   "execution_count": 34,
   "id": "05205a3c",
   "metadata": {},
   "outputs": [],
   "source": [
    "text='the cubes must be filled with boxes and spheres'\n",
    "box='boxes'\n",
    "cube='the cubes'\n",
    "sphere='spheres'"
   ]
  },
  {
   "cell_type": "code",
   "execution_count": 35,
   "id": "79f7b0d0",
   "metadata": {},
   "outputs": [
    {
     "name": "stdout",
     "output_type": "stream",
     "text": [
      "container/content\n",
      "container/content\n",
      "other relation\n"
     ]
    }
   ],
   "source": [
    "print(contenance(text,box,cube))\n",
    "print(contenance(text,cube,sphere))\n",
    "print(contenance(text,box,sphere))"
   ]
  },
  {
   "cell_type": "code",
   "execution_count": 36,
   "id": "f261b245",
   "metadata": {},
   "outputs": [],
   "source": [
    "# Bibliothèques nécessaires\n",
    "from itertools import combinations\n",
    "import spacy\n",
    "\n",
    "nlp = spacy.load(\"en_core_web_lg\")"
   ]
  },
  {
   "cell_type": "code",
   "execution_count": 37,
   "id": "3bbb1c92",
   "metadata": {},
   "outputs": [
    {
     "data": {
      "text/plain": [
       "[('In the beginning God created the heaven.', 'the beginning', 'God'),\n",
       " ('In the beginning God created the heaven.', 'the beginning', 'the heaven'),\n",
       " ('In the beginning God created the heaven.', 'God', 'the heaven')]"
      ]
     },
     "execution_count": 37,
     "metadata": {},
     "output_type": "execute_result"
    }
   ],
   "source": [
    "def get_chunk(sent):\n",
    "    doc=nlp(sent)\n",
    "    nps=doc.noun_chunks\n",
    "    sentences=[]\n",
    "    for np1, np2 in combinations([np for np in nps], 2):\n",
    "        sentences.append((sent,np1.text,np2.text))\n",
    "    return sentences\n",
    "\n",
    "get_chunk(\"In the beginning God created the heaven.\")"
   ]
  },
  {
   "cell_type": "code",
   "execution_count": 39,
   "id": "e5de6036",
   "metadata": {},
   "outputs": [
    {
     "data": {
      "text/plain": [
       "{('the boxes', 'cubes'): 'container/content',\n",
       " ('the boxes', 'spheres'): 'container/content',\n",
       " ('cubes', 'spheres'): 'other relation'}"
      ]
     },
     "execution_count": 39,
     "metadata": {},
     "output_type": "execute_result"
    }
   ],
   "source": [
    "def get_rel(sent):\n",
    "    relations={}\n",
    "    for (sent,item1,item2) in get_chunk(sent):\n",
    "        relations[(item1,item2)]=contenance(sent,item1,item2)\n",
    "    return relations\n",
    "        \n",
    "get_rel('the boxes must be filled with cubes and spheres')"
   ]
  },
  {
   "cell_type": "code",
   "execution_count": 53,
   "id": "d1644027",
   "metadata": {},
   "outputs": [
    {
     "name": "stdout",
     "output_type": "stream",
     "text": [
      "[('container', 0.5033380687236786), ('other relation', 0.027729690074920654)]\n",
      "[('container', 0.818322628736496), ('other relation', 0.29057759046554565)]\n",
      "[('container', 0.8243522197008133), ('other relation', 0.23067349195480347)]\n",
      "[('container', 0.36695683002471924), ('other relation', 0.019870400428771973)]\n",
      "[('container', 0.3167724609375), ('other relation', 0.020469605922698975)]\n",
      "[('container', 0.8032722026109695), ('other relation', 0.4039815664291382)]\n"
     ]
    },
    {
     "data": {
      "text/plain": [
       "{('the car', 'the road'): 'other relation',\n",
       " ('the car', 'the chest'): 'other relation',\n",
       " ('the car', 'a treasure'): 'other relation',\n",
       " ('the road', 'the chest'): 'other relation',\n",
       " ('the road', 'a treasure'): 'other relation',\n",
       " ('the chest', 'a treasure'): 'other relation'}"
      ]
     },
     "execution_count": 53,
     "metadata": {},
     "output_type": "execute_result"
    }
   ],
   "source": [
    "get_rel(\"the treasur must\")"
   ]
  },
  {
   "cell_type": "code",
   "execution_count": null,
   "id": "5a948684",
   "metadata": {},
   "outputs": [],
   "source": []
  }
 ],
 "metadata": {
  "kernelspec": {
   "display_name": "myenv",
   "language": "python",
   "name": "myenv"
  },
  "language_info": {
   "codemirror_mode": {
    "name": "ipython",
    "version": 3
   },
   "file_extension": ".py",
   "mimetype": "text/x-python",
   "name": "python",
   "nbconvert_exporter": "python",
   "pygments_lexer": "ipython3",
   "version": "3.6.15"
  }
 },
 "nbformat": 4,
 "nbformat_minor": 5
}
