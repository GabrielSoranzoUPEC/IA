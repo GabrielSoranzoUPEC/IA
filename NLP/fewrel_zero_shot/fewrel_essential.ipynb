{
 "cells": [
  {
   "cell_type": "code",
   "execution_count": 6,
   "id": "323467e2",
   "metadata": {
    "tags": []
   },
   "outputs": [],
   "source": [
    "from transformers import AutoTokenizer\n",
    "from zero_shot_re import RelTaggerModel, RelationExtractor\n",
    "\n",
    "model = RelTaggerModel.from_pretrained(\"fractalego/fewrel-zero-shot\")\n",
    "tokenizer = AutoTokenizer.from_pretrained(\"fractalego/fewrel-zero-shot\")"
   ]
  },
  {
   "cell_type": "markdown",
   "id": "7517989c",
   "metadata": {},
   "source": [
    "#### Premier essai"
   ]
  },
  {
   "cell_type": "code",
   "execution_count": 7,
   "id": "f68cbeed",
   "metadata": {},
   "outputs": [
    {
     "name": "stdout",
     "output_type": "stream",
     "text": [
      "[('container', 0.9636894315481186), ('content', 0.719708263874054), ('other relation', 0.3384249806404114)]\n"
     ]
    }
   ],
   "source": [
    "relations = ['container', 'content', 'other relation']\n",
    "extractor = RelationExtractor(model, tokenizer, relations)\n",
    "cubes='the cubes'\n",
    "box='the box'\n",
    "ranked_rels = extractor.rank(text='the box must be filled with the cubes', head=box, tail=cubes)\n",
    "print(ranked_rels)"
   ]
  },
  {
   "cell_type": "markdown",
   "id": "c13604b0",
   "metadata": {},
   "source": [
    "#### Tester la relation de contenance entre deux items"
   ]
  },
  {
   "cell_type": "code",
   "execution_count": 14,
   "id": "42b658ab",
   "metadata": {},
   "outputs": [],
   "source": [
    "relations = ['container/content', 'other relation']\n",
    "extractor = RelationExtractor(model, tokenizer, relations)\n",
    "def contenance(text,item1,item2):\n",
    "    #print(text,\",\",item1,\",\",item2)\n",
    "    ranked_rels = extractor.rank(text=text, head=item1, tail=item2)\n",
    "    #print(ranked_rels)\n",
    "    if ranked_rels[1][1]>0.5:\n",
    "        return 'other relation'\n",
    "    elif ranked_rels[0][1]>0.9:\n",
    "        return 'container/content'\n",
    "    else:\n",
    "        return 'other relation'"
   ]
  },
  {
   "cell_type": "code",
   "execution_count": 17,
   "id": "0abd8ed4",
   "metadata": {},
   "outputs": [
    {
     "name": "stdout",
     "output_type": "stream",
     "text": [
      "container/content\n",
      "other relation\n",
      "container/content\n"
     ]
    }
   ],
   "source": [
    "text='You must put the cubes and the spheres in the boxes'\n",
    "box='the boxes'\n",
    "cube='the cubes'\n",
    "sphere='the spheres'\n",
    "print(contenance(text,box,cube))\n",
    "print(contenance(text,cube,sphere))\n",
    "print(contenance(text,box,sphere))"
   ]
  },
  {
   "cell_type": "code",
   "execution_count": 18,
   "id": "05205a3c",
   "metadata": {},
   "outputs": [
    {
     "name": "stdout",
     "output_type": "stream",
     "text": [
      "container/content\n",
      "container/content\n",
      "other relation\n"
     ]
    }
   ],
   "source": [
    "text='the cubes must be filled with boxes and spheres'\n",
    "box='boxes'\n",
    "cube='the cubes'\n",
    "sphere='spheres'\n",
    "print(contenance(text,box,cube))\n",
    "print(contenance(text,cube,sphere))\n",
    "print(contenance(text,box,sphere))"
   ]
  },
  {
   "cell_type": "markdown",
   "id": "2744f675",
   "metadata": {},
   "source": [
    "#### Trouver l'ensemble de toutes les relations de contenance"
   ]
  },
  {
   "cell_type": "code",
   "execution_count": 19,
   "id": "3bbb1c92",
   "metadata": {},
   "outputs": [],
   "source": [
    "from itertools import combinations\n",
    "import spacy\n",
    "\n",
    "nlp = spacy.load(\"en_core_web_lg\")\n",
    "\n",
    "def get_chunk(sent):\n",
    "    doc=nlp(sent)\n",
    "    nps=doc.noun_chunks\n",
    "    sentences=[]\n",
    "    for np1, np2 in combinations([np for np in nps], 2):\n",
    "        sentences.append((sent,np1.text,np2.text))\n",
    "    return sentences\n",
    "\n",
    "def get_rel(sent):\n",
    "    relations={}\n",
    "    for (sent,item1,item2) in get_chunk(sent):\n",
    "        relations[(item1,item2)]=contenance(sent,item1,item2)\n",
    "    return relations"
   ]
  },
  {
   "cell_type": "code",
   "execution_count": 20,
   "id": "e5de6036",
   "metadata": {},
   "outputs": [
    {
     "data": {
      "text/plain": [
       "{('the boxes', 'cubes'): 'container/content',\n",
       " ('the boxes', 'spheres'): 'container/content',\n",
       " ('cubes', 'spheres'): 'other relation'}"
      ]
     },
     "execution_count": 20,
     "metadata": {},
     "output_type": "execute_result"
    }
   ],
   "source": [
    "get_rel('the boxes must be filled with cubes and spheres')"
   ]
  },
  {
   "cell_type": "code",
   "execution_count": 23,
   "id": "d1644027",
   "metadata": {},
   "outputs": [
    {
     "data": {
      "text/plain": [
       "{('the treasure', 'the chest'): 'container/content',\n",
       " ('the treasure', 'the car'): 'other relation',\n",
       " ('the chest', 'the car'): 'other relation'}"
      ]
     },
     "execution_count": 23,
     "metadata": {},
     "output_type": "execute_result"
    }
   ],
   "source": [
    "get_rel(\"the treasure is in the chest of the car\")"
   ]
  },
  {
   "cell_type": "code",
   "execution_count": null,
   "id": "5a948684",
   "metadata": {},
   "outputs": [],
   "source": []
  }
 ],
 "metadata": {
  "kernelspec": {
   "display_name": "myenv",
   "language": "python",
   "name": "myenv"
  },
  "language_info": {
   "codemirror_mode": {
    "name": "ipython",
    "version": 3
   },
   "file_extension": ".py",
   "mimetype": "text/x-python",
   "name": "python",
   "nbconvert_exporter": "python",
   "pygments_lexer": "ipython3",
   "version": "3.6.15"
  }
 },
 "nbformat": 4,
 "nbformat_minor": 5
}
