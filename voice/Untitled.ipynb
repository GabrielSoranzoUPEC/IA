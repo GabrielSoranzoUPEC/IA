{
 "cells": [
  {
   "cell_type": "code",
   "execution_count": 1,
   "id": "6895d927-db58-4cb7-8b79-43e7d842c1b9",
   "metadata": {
    "tags": []
   },
   "outputs": [
    {
     "name": "stdout",
     "output_type": "stream",
     "text": [
      "Defaulting to user installation because normal site-packages is not writeable\n",
      "Collecting git+https://github.com/openai/whisper.git\n",
      "  Cloning https://github.com/openai/whisper.git to /tmp/pip-req-build-67picax2\n",
      "  Running command git clone --filter=blob:none --quiet https://github.com/openai/whisper.git /tmp/pip-req-build-67picax2\n",
      "  Resolved https://github.com/openai/whisper.git to commit c09a7ae299c4c34c5839a76380ae407e7d785914\n",
      "  Installing build dependencies ... \u001b[?25ldone\n",
      "\u001b[?25h  Getting requirements to build wheel ... \u001b[?25ldone\n",
      "\u001b[?25h  Preparing metadata (pyproject.toml) ... \u001b[?25ldone\n",
      "\u001b[?25hRequirement already satisfied: ffmpeg-python==0.2.0 in /home/gs/.local/lib/python3.10/site-packages (from openai-whisper==20230314) (0.2.0)\n",
      "Requirement already satisfied: torch in /home/gs/.local/lib/python3.10/site-packages (from openai-whisper==20230314) (2.0.0+cpu)\n",
      "Requirement already satisfied: tiktoken==0.3.1 in /home/gs/.local/lib/python3.10/site-packages (from openai-whisper==20230314) (0.3.1)\n",
      "Requirement already satisfied: numpy in /usr/lib/python3.10/site-packages (from openai-whisper==20230314) (1.24.2)\n",
      "Requirement already satisfied: tqdm in /home/gs/.local/lib/python3.10/site-packages (from openai-whisper==20230314) (4.64.1)\n",
      "Requirement already satisfied: triton==2.0.0 in /home/gs/.local/lib/python3.10/site-packages (from openai-whisper==20230314) (2.0.0)\n",
      "Requirement already satisfied: numba in /home/gs/.local/lib/python3.10/site-packages (from openai-whisper==20230314) (0.57.0rc1)\n",
      "Requirement already satisfied: more-itertools in /usr/lib/python3.10/site-packages (from openai-whisper==20230314) (9.1.0)\n",
      "Requirement already satisfied: future in /usr/lib/python3.10/site-packages (from ffmpeg-python==0.2.0->openai-whisper==20230314) (0.18.2)\n",
      "Requirement already satisfied: requests>=2.26.0 in /usr/lib/python3.10/site-packages (from tiktoken==0.3.1->openai-whisper==20230314) (2.28.2)\n",
      "Requirement already satisfied: regex>=2022.1.18 in /home/gs/.local/lib/python3.10/site-packages (from tiktoken==0.3.1->openai-whisper==20230314) (2022.10.31)\n",
      "Requirement already satisfied: lit in /home/gs/.local/lib/python3.10/site-packages (from triton==2.0.0->openai-whisper==20230314) (16.0.2)\n",
      "Requirement already satisfied: cmake in /home/gs/.local/lib/python3.10/site-packages (from triton==2.0.0->openai-whisper==20230314) (3.26.3)\n",
      "Requirement already satisfied: filelock in /usr/lib/python3.10/site-packages (from triton==2.0.0->openai-whisper==20230314) (3.8.2)\n",
      "Requirement already satisfied: llvmlite<0.41,>=0.40.0dev0 in /home/gs/.local/lib/python3.10/site-packages (from numba->openai-whisper==20230314) (0.40.0rc1)\n",
      "Requirement already satisfied: jinja2 in /usr/lib/python3.10/site-packages (from torch->openai-whisper==20230314) (3.1.2)\n",
      "Requirement already satisfied: networkx in /usr/lib/python3.10/site-packages (from torch->openai-whisper==20230314) (2.8.8)\n",
      "Requirement already satisfied: sympy in /usr/lib/python3.10/site-packages (from torch->openai-whisper==20230314) (1.11.1)\n",
      "Requirement already satisfied: typing-extensions in /usr/lib/python3.10/site-packages (from torch->openai-whisper==20230314) (4.5.0)\n",
      "Requirement already satisfied: idna<4,>=2.5 in /usr/lib/python3.10/site-packages (from requests>=2.26.0->tiktoken==0.3.1->openai-whisper==20230314) (3.4)\n",
      "Requirement already satisfied: urllib3<1.27,>=1.21.1 in /usr/lib/python3.10/site-packages (from requests>=2.26.0->tiktoken==0.3.1->openai-whisper==20230314) (1.26.13)\n",
      "Requirement already satisfied: MarkupSafe>=2.0 in /usr/lib/python3.10/site-packages (from jinja2->torch->openai-whisper==20230314) (2.1.2)\n",
      "Requirement already satisfied: mpmath>=0.19 in /usr/lib/python3.10/site-packages (from sympy->torch->openai-whisper==20230314) (1.3.0)\n"
     ]
    }
   ],
   "source": [
    "## Install whisper package\n",
    "!pip install git+https://github.com/openai/whisper.git "
   ]
  },
  {
   "cell_type": "code",
   "execution_count": 1,
   "id": "2a1e45a3-356c-4a24-b641-90c1ac4d7fb3",
   "metadata": {
    "tags": []
   },
   "outputs": [
    {
     "name": "stderr",
     "output_type": "stream",
     "text": [
      "/home/gs/.local/lib/python3.10/site-packages/whisper/timing.py:58: NumbaDeprecationWarning: \u001b[1mThe 'nopython' keyword argument was not supplied to the 'numba.jit' decorator. The implicit default value for this argument is currently False, but it will be changed to True in Numba 0.59.0. See https://numba.readthedocs.io/en/stable/reference/deprecation.html#deprecation-of-object-mode-fall-back-behaviour-when-using-jit for details.\u001b[0m\n",
      "  def backtrace(trace: np.ndarray):\n"
     ]
    }
   ],
   "source": [
    "import whisper"
   ]
  },
  {
   "cell_type": "code",
   "execution_count": 2,
   "id": "9621fb0a-8e87-4739-8996-00b53b9b7bd0",
   "metadata": {},
   "outputs": [],
   "source": [
    "model = whisper.load_model(\"base\")"
   ]
  },
  {
   "cell_type": "code",
   "execution_count": 51,
   "id": "40b01eb1-5564-4f5f-ab63-7f19101ab23b",
   "metadata": {
    "tags": []
   },
   "outputs": [],
   "source": [
    "audio = whisper.load_audio(\"file.mp3\")"
   ]
  },
  {
   "cell_type": "code",
   "execution_count": 52,
   "id": "134de1d2-30a5-4121-8f1b-58f3762561f1",
   "metadata": {
    "tags": []
   },
   "outputs": [],
   "source": [
    "# Vérification que le sample a un bon format\n",
    "audio = whisper.pad_or_trim(audio)"
   ]
  },
  {
   "cell_type": "code",
   "execution_count": 53,
   "id": "154e68aa-2d2a-43cc-833a-231318fac10f",
   "metadata": {
    "tags": []
   },
   "outputs": [],
   "source": [
    "# make log-Mel spectrogram and move to the same device as the model\n",
    "mel = whisper.log_mel_spectrogram(audio).to(model.device)"
   ]
  },
  {
   "cell_type": "code",
   "execution_count": 54,
   "id": "db0692de-10a9-45f8-b361-747b43b7648d",
   "metadata": {
    "tags": []
   },
   "outputs": [
    {
     "name": "stdout",
     "output_type": "stream",
     "text": [
      "Detected language: fr\n"
     ]
    }
   ],
   "source": [
    "# detect the spoken language\n",
    "_, probs = model.detect_language(mel)\n",
    "print(f\"Detected language: {max(probs, key=probs.get)}\")"
   ]
  },
  {
   "cell_type": "code",
   "execution_count": 55,
   "id": "844b9ad3-445f-4862-b8ce-c936b5c94c51",
   "metadata": {
    "tags": []
   },
   "outputs": [
    {
     "name": "stdout",
     "output_type": "stream",
     "text": [
      "Bonjour je m'appelle Contre.\n"
     ]
    }
   ],
   "source": [
    "# decode the audio\n",
    "options = whisper.DecodingOptions(fp16 = False)\n",
    "result = whisper.decode(model, mel, options)\n",
    "\n",
    "# print the recognized text\n",
    "print(result.text)"
   ]
  },
  {
   "cell_type": "markdown",
   "id": "fe86de99-8778-4378-8e10-cc13aaae4ac2",
   "metadata": {},
   "source": [
    "## A partir d'une librairie perso"
   ]
  },
  {
   "cell_type": "code",
   "execution_count": 1,
   "id": "de839cfb-2ff0-40b0-9327-78528f250f55",
   "metadata": {
    "tags": []
   },
   "outputs": [
    {
     "name": "stderr",
     "output_type": "stream",
     "text": [
      "/home/gs/.local/lib/python3.10/site-packages/whisper/timing.py:58: NumbaDeprecationWarning: \u001b[1mThe 'nopython' keyword argument was not supplied to the 'numba.jit' decorator. The implicit default value for this argument is currently False, but it will be changed to True in Numba 0.59.0. See https://numba.readthedocs.io/en/stable/reference/deprecation.html#deprecation-of-object-mode-fall-back-behaviour-when-using-jit for details.\u001b[0m\n",
      "  def backtrace(trace: np.ndarray):\n"
     ]
    }
   ],
   "source": [
    "from voice import *"
   ]
  },
  {
   "cell_type": "code",
   "execution_count": 2,
   "id": "65dc6595-920d-4a01-928d-4670c7508c8a",
   "metadata": {
    "tags": []
   },
   "outputs": [
    {
     "data": {
      "text/plain": [
       "\"Bonjour je m'appelle Contre.\""
      ]
     },
     "execution_count": 2,
     "metadata": {},
     "output_type": "execute_result"
    }
   ],
   "source": [
    "audioToText('file.mp3')"
   ]
  },
  {
   "cell_type": "markdown",
   "id": "d732117e-a4ac-4257-b014-9429e8aab678",
   "metadata": {},
   "source": [
    "### Enregistrement"
   ]
  },
  {
   "cell_type": "code",
   "execution_count": 18,
   "id": "5ddab24d-65a6-4360-af5c-66a4a3f166a1",
   "metadata": {
    "tags": []
   },
   "outputs": [],
   "source": [
    "# import required libraries\n",
    "import sounddevice as sd\n",
    "from scipy.io.wavfile import write\n",
    "import wavio as wv"
   ]
  },
  {
   "cell_type": "code",
   "execution_count": 19,
   "id": "d795cef5-991b-4391-b7e4-63c8e43fc070",
   "metadata": {
    "tags": []
   },
   "outputs": [],
   "source": [
    "# Sampling frequency\n",
    "freq = 44100\n",
    "\n",
    "# Recording duration\n",
    "duration = 5"
   ]
  },
  {
   "cell_type": "code",
   "execution_count": 23,
   "id": "eab04243-bae6-4b88-9bd1-ac3c3e5e2567",
   "metadata": {
    "tags": []
   },
   "outputs": [],
   "source": [
    "# Start recorder with the given values of \n",
    "# duration and sample frequency\n",
    "recording = sd.rec(int(duration * freq), \n",
    "                   samplerate=freq, channels=2)\n",
    "\n",
    "# Record audio for the given number of seconds\n",
    "sd.wait()"
   ]
  },
  {
   "cell_type": "code",
   "execution_count": 24,
   "id": "2c47df0f-800c-40f8-a2c4-8c59a313d51b",
   "metadata": {
    "tags": []
   },
   "outputs": [],
   "source": [
    "# This will convert the NumPy array to an audio\n",
    "# file with the given sampling frequency\n",
    "write(\"recording0.wav\", freq, recording)"
   ]
  },
  {
   "cell_type": "code",
   "execution_count": 25,
   "id": "fc187983-79ae-4d12-a6a2-cef8275dc56c",
   "metadata": {
    "tags": []
   },
   "outputs": [],
   "source": [
    "# Convert the NumPy array to audio file\n",
    "wv.write(\"recording1.wav\", recording, freq, sampwidth=2)"
   ]
  },
  {
   "cell_type": "markdown",
   "id": "8d8d580b-501e-41e3-b3bb-91653d562034",
   "metadata": {},
   "source": [
    "## Autre enregistrement"
   ]
  },
  {
   "cell_type": "code",
   "execution_count": 10,
   "id": "4570cf31-52a0-4214-8f34-d683918916e9",
   "metadata": {
    "tags": []
   },
   "outputs": [],
   "source": [
    "from ipywebrtc import AudioRecorder, CameraStream\n",
    "import torchaudio\n",
    "from IPython.display import Audio"
   ]
  },
  {
   "cell_type": "code",
   "execution_count": 48,
   "id": "21291d14-9422-419d-83ba-20d3a9995c0f",
   "metadata": {
    "tags": []
   },
   "outputs": [
    {
     "data": {
      "application/vnd.jupyter.widget-view+json": {
       "model_id": "54e78bc9c48343b7b557ea3c009f3f55",
       "version_major": 2,
       "version_minor": 0
      },
      "text/plain": [
       "AudioRecorder(audio=Audio(value=b'', format='webm'), stream=CameraStream(constraints={'audio': True, 'video': …"
      ]
     },
     "execution_count": 48,
     "metadata": {},
     "output_type": "execute_result"
    }
   ],
   "source": [
    "camera = CameraStream(constraints={'audio': True,'video':False})\n",
    "recorder = AudioRecorder(stream=camera)\n",
    "recorder"
   ]
  },
  {
   "cell_type": "code",
   "execution_count": 49,
   "id": "8a5d8dcb-ff9e-4962-822d-9305cb9c5c82",
   "metadata": {},
   "outputs": [],
   "source": [
    "with open('recording.webm', 'wb') as f:\n",
    "    f.write(recorder.audio.value)\n",
    "!ffmpeg -i recording.webm -ac 1 -f mp3 file.mp3 -y -hide_banner -loglevel panic"
   ]
  },
  {
   "cell_type": "markdown",
   "id": "b9b3107f-8b2c-4e50-8528-bd2b561a7b24",
   "metadata": {},
   "source": [
    "## Play audio"
   ]
  },
  {
   "cell_type": "code",
   "execution_count": 50,
   "id": "6f59dc30-458d-4b06-bc8f-e39e27f4587c",
   "metadata": {
    "tags": []
   },
   "outputs": [],
   "source": [
    "# import required module\n",
    "from playsound import playsound\n",
    " \n",
    "# for playing note.mp3 file\n",
    "playsound('file.mp3')"
   ]
  },
  {
   "cell_type": "code",
   "execution_count": null,
   "id": "48f3c117-2345-4b90-a3d9-94a3a4126a8d",
   "metadata": {},
   "outputs": [],
   "source": []
  }
 ],
 "metadata": {
  "kernelspec": {
   "display_name": "Python 3 (ipykernel)",
   "language": "python",
   "name": "python3"
  },
  "language_info": {
   "codemirror_mode": {
    "name": "ipython",
    "version": 3
   },
   "file_extension": ".py",
   "mimetype": "text/x-python",
   "name": "python",
   "nbconvert_exporter": "python",
   "pygments_lexer": "ipython3",
   "version": "3.10.10"
  }
 },
 "nbformat": 4,
 "nbformat_minor": 5
}
