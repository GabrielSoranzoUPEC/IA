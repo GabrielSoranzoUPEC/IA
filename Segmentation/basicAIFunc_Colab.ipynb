{
 "cells": [
  {
   "cell_type": "code",
   "execution_count": 1,
   "id": "28e5b0fc-5616-4986-af5e-f050c347c602",
   "metadata": {
    "colab": {
     "base_uri": "https://localhost:8080/"
    },
    "id": "28e5b0fc-5616-4986-af5e-f050c347c602",
    "outputId": "3059513a-223d-4584-d4a1-5ed05bac5338"
   },
   "outputs": [
    {
     "name": "stdout",
     "output_type": "stream",
     "text": [
      "Looking in indexes: https://pypi.org/simple, https://us-python.pkg.dev/colab-wheels/public/simple/\n",
      "Collecting git+https://github.com/openai/CLIP.git\n",
      "  Cloning https://github.com/openai/CLIP.git to /tmp/pip-req-build-8ev6bb1l\n",
      "  Running command git clone --filter=blob:none --quiet https://github.com/openai/CLIP.git /tmp/pip-req-build-8ev6bb1l\n",
      "  Resolved https://github.com/openai/CLIP.git to commit a9b1bf5920416aaeaec965c25dd9e8f98c864f16\n",
      "  Preparing metadata (setup.py) ... \u001b[?25l\u001b[?25hdone\n",
      "Collecting ftfy\n",
      "  Downloading ftfy-6.1.1-py3-none-any.whl (53 kB)\n",
      "\u001b[2K     \u001b[90m━━━━━━━━━━━━━━━━━━━━━━━━━━━━━━━━━━━━━━━━\u001b[0m \u001b[32m53.1/53.1 kB\u001b[0m \u001b[31m3.2 MB/s\u001b[0m eta \u001b[36m0:00:00\u001b[0m\n",
      "\u001b[?25hRequirement already satisfied: regex in /usr/local/lib/python3.9/dist-packages (from clip==1.0) (2022.10.31)\n",
      "Requirement already satisfied: tqdm in /usr/local/lib/python3.9/dist-packages (from clip==1.0) (4.65.0)\n",
      "Requirement already satisfied: torch in /usr/local/lib/python3.9/dist-packages (from clip==1.0) (2.0.0+cu118)\n",
      "Requirement already satisfied: torchvision in /usr/local/lib/python3.9/dist-packages (from clip==1.0) (0.15.1+cu118)\n",
      "Requirement already satisfied: wcwidth>=0.2.5 in /usr/local/lib/python3.9/dist-packages (from ftfy->clip==1.0) (0.2.6)\n",
      "Requirement already satisfied: sympy in /usr/local/lib/python3.9/dist-packages (from torch->clip==1.0) (1.11.1)\n",
      "Requirement already satisfied: networkx in /usr/local/lib/python3.9/dist-packages (from torch->clip==1.0) (3.1)\n",
      "Requirement already satisfied: typing-extensions in /usr/local/lib/python3.9/dist-packages (from torch->clip==1.0) (4.5.0)\n",
      "Requirement already satisfied: triton==2.0.0 in /usr/local/lib/python3.9/dist-packages (from torch->clip==1.0) (2.0.0)\n",
      "Requirement already satisfied: jinja2 in /usr/local/lib/python3.9/dist-packages (from torch->clip==1.0) (3.1.2)\n",
      "Requirement already satisfied: filelock in /usr/local/lib/python3.9/dist-packages (from torch->clip==1.0) (3.11.0)\n",
      "Requirement already satisfied: lit in /usr/local/lib/python3.9/dist-packages (from triton==2.0.0->torch->clip==1.0) (16.0.1)\n",
      "Requirement already satisfied: cmake in /usr/local/lib/python3.9/dist-packages (from triton==2.0.0->torch->clip==1.0) (3.25.2)\n",
      "Requirement already satisfied: requests in /usr/local/lib/python3.9/dist-packages (from torchvision->clip==1.0) (2.27.1)\n",
      "Requirement already satisfied: numpy in /usr/local/lib/python3.9/dist-packages (from torchvision->clip==1.0) (1.22.4)\n",
      "Requirement already satisfied: pillow!=8.3.*,>=5.3.0 in /usr/local/lib/python3.9/dist-packages (from torchvision->clip==1.0) (8.4.0)\n",
      "Requirement already satisfied: MarkupSafe>=2.0 in /usr/local/lib/python3.9/dist-packages (from jinja2->torch->clip==1.0) (2.1.2)\n",
      "Requirement already satisfied: idna<4,>=2.5 in /usr/local/lib/python3.9/dist-packages (from requests->torchvision->clip==1.0) (3.4)\n",
      "Requirement already satisfied: certifi>=2017.4.17 in /usr/local/lib/python3.9/dist-packages (from requests->torchvision->clip==1.0) (2022.12.7)\n",
      "Requirement already satisfied: charset-normalizer~=2.0.0 in /usr/local/lib/python3.9/dist-packages (from requests->torchvision->clip==1.0) (2.0.12)\n",
      "Requirement already satisfied: urllib3<1.27,>=1.21.1 in /usr/local/lib/python3.9/dist-packages (from requests->torchvision->clip==1.0) (1.26.15)\n",
      "Requirement already satisfied: mpmath>=0.19 in /usr/local/lib/python3.9/dist-packages (from sympy->torch->clip==1.0) (1.3.0)\n",
      "Building wheels for collected packages: clip\n",
      "  Building wheel for clip (setup.py) ... \u001b[?25l\u001b[?25hdone\n",
      "  Created wheel for clip: filename=clip-1.0-py3-none-any.whl size=1369398 sha256=10bb5a9a57cad7d0e8690aba5a98e5145aecb4612e2479b61afad715ae0ae597\n",
      "  Stored in directory: /tmp/pip-ephem-wheel-cache-f7k5y6co/wheels/c8/e4/e1/11374c111387672fc2068dfbe0d4b424cb9cdd1b2e184a71b5\n",
      "Successfully built clip\n",
      "Installing collected packages: ftfy, clip\n",
      "Successfully installed clip-1.0 ftfy-6.1.1\n",
      "Looking in indexes: https://pypi.org/simple, https://us-python.pkg.dev/colab-wheels/public/simple/\n",
      "Collecting git+https://github.com/facebookresearch/segment-anything.git\n",
      "  Cloning https://github.com/facebookresearch/segment-anything.git to /tmp/pip-req-build-afwt3sba\n",
      "  Running command git clone --filter=blob:none --quiet https://github.com/facebookresearch/segment-anything.git /tmp/pip-req-build-afwt3sba\n",
      "  Resolved https://github.com/facebookresearch/segment-anything.git to commit 567662b0fd33ca4b022d94d3b8de896628cd32dd\n",
      "  Preparing metadata (setup.py) ... \u001b[?25l\u001b[?25hdone\n",
      "Building wheels for collected packages: segment-anything\n",
      "  Building wheel for segment-anything (setup.py) ... \u001b[?25l\u001b[?25hdone\n",
      "  Created wheel for segment-anything: filename=segment_anything-1.0-py3-none-any.whl size=36610 sha256=7fd224eb2576a4236f7a42cf20ba84fba82f69a1f808c61310f798288cd0193a\n",
      "  Stored in directory: /tmp/pip-ephem-wheel-cache-atu2otv2/wheels/d5/11/03/7aca746a2c0e09f279b10436ced7175926bc38f650b736a648\n",
      "Successfully built segment-anything\n",
      "Installing collected packages: segment-anything\n",
      "Successfully installed segment-anything-1.0\n",
      "--2023-04-15 19:24:12--  https://dl.fbaipublicfiles.com/segment_anything/sam_vit_b_01ec64.pth\n",
      "Resolving dl.fbaipublicfiles.com (dl.fbaipublicfiles.com)... 18.161.6.121, 18.161.6.37, 18.161.6.101, ...\n",
      "Connecting to dl.fbaipublicfiles.com (dl.fbaipublicfiles.com)|18.161.6.121|:443... connected.\n",
      "HTTP request sent, awaiting response... 200 OK\n",
      "Length: 375042383 (358M) [binary/octet-stream]\n",
      "Saving to: ‘sam_vit_b_01ec64.pth’\n",
      "\n",
      "sam_vit_b_01ec64.pt 100%[===================>] 357.67M   113MB/s    in 4.1s    \n",
      "\n",
      "2023-04-15 19:24:16 (86.8 MB/s) - ‘sam_vit_b_01ec64.pth’ saved [375042383/375042383]\n",
      "\n",
      "Looking in indexes: https://pypi.org/simple, https://us-python.pkg.dev/colab-wheels/public/simple/\n",
      "Collecting transformers\n",
      "  Downloading transformers-4.28.1-py3-none-any.whl (7.0 MB)\n",
      "\u001b[2K     \u001b[90m━━━━━━━━━━━━━━━━━━━━━━━━━━━━━━━━━━━━━━━━\u001b[0m \u001b[32m7.0/7.0 MB\u001b[0m \u001b[31m18.7 MB/s\u001b[0m eta \u001b[36m0:00:00\u001b[0m\n",
      "\u001b[?25hCollecting tokenizers!=0.11.3,<0.14,>=0.11.1\n",
      "  Downloading tokenizers-0.13.3-cp39-cp39-manylinux_2_17_x86_64.manylinux2014_x86_64.whl (7.8 MB)\n",
      "\u001b[2K     \u001b[90m━━━━━━━━━━━━━━━━━━━━━━━━━━━━━━━━━━━━━━━━\u001b[0m \u001b[32m7.8/7.8 MB\u001b[0m \u001b[31m102.8 MB/s\u001b[0m eta \u001b[36m0:00:00\u001b[0m\n",
      "\u001b[?25hRequirement already satisfied: regex!=2019.12.17 in /usr/local/lib/python3.9/dist-packages (from transformers) (2022.10.31)\n",
      "Requirement already satisfied: requests in /usr/local/lib/python3.9/dist-packages (from transformers) (2.27.1)\n",
      "Collecting huggingface-hub<1.0,>=0.11.0\n",
      "  Downloading huggingface_hub-0.13.4-py3-none-any.whl (200 kB)\n",
      "\u001b[2K     \u001b[90m━━━━━━━━━━━━━━━━━━━━━━━━━━━━━━━━━━━━━━\u001b[0m \u001b[32m200.1/200.1 kB\u001b[0m \u001b[31m26.0 MB/s\u001b[0m eta \u001b[36m0:00:00\u001b[0m\n",
      "\u001b[?25hRequirement already satisfied: filelock in /usr/local/lib/python3.9/dist-packages (from transformers) (3.11.0)\n",
      "Requirement already satisfied: tqdm>=4.27 in /usr/local/lib/python3.9/dist-packages (from transformers) (4.65.0)\n",
      "Requirement already satisfied: pyyaml>=5.1 in /usr/local/lib/python3.9/dist-packages (from transformers) (6.0)\n",
      "Requirement already satisfied: numpy>=1.17 in /usr/local/lib/python3.9/dist-packages (from transformers) (1.22.4)\n",
      "Requirement already satisfied: packaging>=20.0 in /usr/local/lib/python3.9/dist-packages (from transformers) (23.0)\n",
      "Requirement already satisfied: typing-extensions>=3.7.4.3 in /usr/local/lib/python3.9/dist-packages (from huggingface-hub<1.0,>=0.11.0->transformers) (4.5.0)\n",
      "Requirement already satisfied: certifi>=2017.4.17 in /usr/local/lib/python3.9/dist-packages (from requests->transformers) (2022.12.7)\n",
      "Requirement already satisfied: idna<4,>=2.5 in /usr/local/lib/python3.9/dist-packages (from requests->transformers) (3.4)\n",
      "Requirement already satisfied: urllib3<1.27,>=1.21.1 in /usr/local/lib/python3.9/dist-packages (from requests->transformers) (1.26.15)\n",
      "Requirement already satisfied: charset-normalizer~=2.0.0 in /usr/local/lib/python3.9/dist-packages (from requests->transformers) (2.0.12)\n",
      "Installing collected packages: tokenizers, huggingface-hub, transformers\n",
      "Successfully installed huggingface-hub-0.13.4 tokenizers-0.13.3 transformers-4.28.1\n"
     ]
    }
   ],
   "source": [
    "!pip install git+https://github.com/openai/CLIP.git\n",
    "!pip install git+https://github.com/facebookresearch/segment-anything.git\n",
    "!wget https://dl.fbaipublicfiles.com/segment_anything/sam_vit_b_01ec64.pth\n",
    "!pip install transformers"
   ]
  },
  {
   "cell_type": "code",
   "execution_count": 1,
   "id": "f83bbf78",
   "metadata": {
    "id": "f83bbf78",
    "tags": []
   },
   "outputs": [
    {
     "name": "stderr",
     "output_type": "stream",
     "text": [
      "2023-04-16 14:57:41.998693: I tensorflow/core/platform/cpu_feature_guard.cc:193] This TensorFlow binary is optimized with oneAPI Deep Neural Network Library (oneDNN) to use the following CPU instructions in performance-critical operations:  AVX2 FMA\n",
      "To enable them in other operations, rebuild TensorFlow with the appropriate compiler flags.\n",
      "2023-04-16 14:57:42.353578: W tensorflow/compiler/xla/stream_executor/platform/default/dso_loader.cc:64] Could not load dynamic library 'libcudart.so.11.0'; dlerror: libcudart.so.11.0: cannot open shared object file: No such file or directory; LD_LIBRARY_PATH: /home/gs/.local/lib/python3.10/site-packages/cv2/../../lib64:\n",
      "2023-04-16 14:57:42.353621: I tensorflow/compiler/xla/stream_executor/cuda/cudart_stub.cc:29] Ignore above cudart dlerror if you do not have a GPU set up on your machine.\n",
      "2023-04-16 14:57:43.541566: W tensorflow/compiler/xla/stream_executor/platform/default/dso_loader.cc:64] Could not load dynamic library 'libnvinfer.so.7'; dlerror: libnvinfer.so.7: cannot open shared object file: No such file or directory; LD_LIBRARY_PATH: /home/gs/.local/lib/python3.10/site-packages/cv2/../../lib64:\n",
      "2023-04-16 14:57:43.541646: W tensorflow/compiler/xla/stream_executor/platform/default/dso_loader.cc:64] Could not load dynamic library 'libnvinfer_plugin.so.7'; dlerror: libnvinfer_plugin.so.7: cannot open shared object file: No such file or directory; LD_LIBRARY_PATH: /home/gs/.local/lib/python3.10/site-packages/cv2/../../lib64:\n",
      "2023-04-16 14:57:43.541653: W tensorflow/compiler/tf2tensorrt/utils/py_utils.cc:38] TF-TRT Warning: Cannot dlopen some TensorRT libraries. If you would like to use Nvidia GPU with TensorRT, please make sure the missing libraries mentioned above are installed properly.\n"
     ]
    }
   ],
   "source": [
    "import numpy as np\n",
    "import matplotlib.pyplot as plt\n",
    "\n",
    "# Pour récupérer l'image\n",
    "import requests\n",
    "\n",
    "# Pour la manipulation des images\n",
    "from PIL import Image\n",
    "import cv2\n",
    "\n",
    "import torch\n",
    "\n",
    "# Modèle CLIP d'OpenAI\n",
    "import clip\n",
    "# Modèle CLIPSeg pour la Prompt Segmentation\n",
    "from transformers import CLIPSegProcessor, CLIPSegForImageSegmentation\n",
    "# Modèle SAM de Meta\n",
    "from segment_anything import sam_model_registry, SamPredictor"
   ]
  },
  {
   "cell_type": "code",
   "execution_count": 2,
   "id": "dbfe400d",
   "metadata": {
    "id": "dbfe400d",
    "tags": []
   },
   "outputs": [],
   "source": [
    "# Définition du device: idéalement GPU\n",
    "device=torch.device('cuda' if torch.cuda.is_available() else 'cpu')"
   ]
  },
  {
   "cell_type": "code",
   "execution_count": 3,
   "id": "facffa89",
   "metadata": {
    "colab": {
     "base_uri": "https://localhost:8080/"
    },
    "id": "facffa89",
    "outputId": "2fef84fa-e852-4cf0-9788-bfa37822219e",
    "tags": []
   },
   "outputs": [],
   "source": [
    "# Chargement du modèle CLIP\n",
    "modelClip, preprocessClip = clip.load(\"ViT-B/32\", device=device)"
   ]
  },
  {
   "cell_type": "code",
   "execution_count": 4,
   "id": "fe4558ef",
   "metadata": {
    "colab": {
     "base_uri": "https://localhost:8080/",
     "height": 241,
     "referenced_widgets": [
      "738b9ba3bbc645b7aa7cfc57bc41eacf",
      "c1771e77e93a45c1a62897d6fc032313",
      "61bdfc07473d4068b5527207953eb478",
      "1c1463517aa24cb7bf975e2490940ea5",
      "a5ea427bdb25446a9cc3bdee20400589",
      "462cb4594e5f463b9b34427478c5e527",
      "4c444e418d084feea8df754d5dc8e2d3",
      "c844a5e3031049e38d614f3aef3ba2f0",
      "62f5612884644bcb94467f91f1278cb1",
      "448ced1dfc8345699f992a6e28df3135",
      "f29ef7a71bee4b9285126f624fe814ef",
      "d775c0bc64ec490d8ff9a6d35d062288",
      "03ccd8607409466084718c0a5d296a62",
      "7b5e060d6df948c79c783c05b7a27487",
      "6a50fb54669d4f679ec37405eef42854",
      "765f1d5a901c4d5695769c22f48ec321",
      "a8d6026fa3a845cab5abb1e19df2b18b",
      "99ad067673524f4dadbb8523c552898f",
      "bb22e68422c548d2ba60bb21f8fe2146",
      "5588a77db2bf452c868403b1f1a9ec25",
      "41b0603bfbf84015a1366ab2cc6d7434",
      "a37d49fa154f4a0a953856d9d085fd08",
      "ccee379009024599987a8d960e144fad",
      "b548af20636441f69bb48bf9caa199bd",
      "730de884ca764f2f8296f5eed4381c55",
      "2e74dfceda4e47e4b68c8bc1b412c7eb",
      "9995f8fc1ceb4f929a136cfc6eb7bfc6",
      "e728cfe948f84b2fb9e29bf4cb3af2ec",
      "95cc5b2886194d3494dd0470195dc6e7",
      "75ea51994b374a54a90af22ef32d94ca",
      "1cf1d0e03c144a1aa6112d223094fae7",
      "da8ed306ab8e487897425235e5843bd1",
      "45e2796fa0774dd4a07d5e44f9b78e65",
      "0db18f5a618a4528bd1502e7765f9cc3",
      "4e1918d6f40b403a86cf59e8b8907a2d",
      "11d6027e106848baabb4d1a3e9152f3e",
      "8f3be797418344619f3b4f42457ea2f5",
      "8114a7beb8224c73a544c323e04cff32",
      "ad06b94f50344c509b91e97aeb63ff4c",
      "2b0b8e27eb6c4993b437d646a7be3b1a",
      "fc6260167f0d42deb02ebe8bd313f12b",
      "ba9f979c2ef249649b5d843fff585940",
      "a42c3f114c9b4d6193ad6bb7a5c9e256",
      "7165bc8f2906494690b7020b5b790a15",
      "f13098c44b304e12a71eaead386bb9c7",
      "469cad08af9f42bfabb2ffbff4705692",
      "077cfdad7f93461599b762dae38f3388",
      "ab4b7b41a19c4ba29474c3215fadc666",
      "ee041d9c887c468ab675eac821b09e9a",
      "082bda1f64f04bbb829c3f8f6ba3a5da",
      "fa71136166cd4a31a76f9f433e6562db",
      "3cb7f776bff34128af03baeec13caeac",
      "0a205275e18044cd907b8218295e7839",
      "b80a459199714e3e974b2d7b14024b40",
      "274d4219058b4a26b204aac932f31cbb",
      "8f4df38dae8f46788ec1ac18b2b6787f",
      "a1e2a575a8d24914bbb227804f470afb",
      "87f5ec57dd114aba842f8f6dfa821790",
      "9d7154364a6e4c14833849b5ef1a1e45",
      "63e32ade493a4f4ab38e7d7d2859bae6",
      "8a04cdec9bba455c8cba603d2bef1695",
      "61afcfa176c844379291339dbda98747",
      "372cc435136f4f9991e4317537b3c55b",
      "e215c47ae70a4702b9fc5f2900d05a64",
      "ef517f2b031649e4b499d09e4e5bdb8e",
      "040f1aea6b374c1390d2c9bff2071c46",
      "66d8c6717e474f7a8ab2e4e515d84756",
      "8cd4a6879314498b9b985836a4df2e71",
      "6c2284b66ca44f15b74ce60d98743196",
      "997a4be016bd4eda8a8d99dffdff81ba",
      "320bdf67d8f84046a57884d411d26cfe",
      "5888c79c1d404cbd9df2a9e430525f7b",
      "4cb20a739e8a4da184c1c429f348e328",
      "f96ca9f923804867ac1dbd5b16daf2fa",
      "31d966836fb64892b75a67563a24a78f",
      "f4d43b71a42f41c19a545cbce922d17d",
      "a151500de44244a0b95a34a1cc365a85"
     ]
    },
    "id": "fe4558ef",
    "outputId": "bcf360f6-4a5d-498f-ad9a-dd15e669c2f2",
    "tags": []
   },
   "outputs": [],
   "source": [
    "# Chargement du modèle CLIPSeg\n",
    "processorCLIPSeg = CLIPSegProcessor.from_pretrained(\"CIDAS/clipseg-rd64-refined\")\n",
    "modelCLIPSeg = CLIPSegForImageSegmentation.from_pretrained(\"CIDAS/clipseg-rd64-refined\")"
   ]
  },
  {
   "cell_type": "code",
   "execution_count": 5,
   "id": "9fa90827",
   "metadata": {
    "id": "9fa90827",
    "tags": []
   },
   "outputs": [],
   "source": [
    "# Chargement du modèle SAM: doit être localement dans le dossier d'exécution du notebook\n",
    "\n",
    "# Modèle \"léger\"\n",
    "sam_checkpoint = \"sam_vit_b_01ec64.pth\"\n",
    "model_type = \"vit_b\"\n",
    "\n",
    "# Modèle \"lourd\"\n",
    "#sam_checkpoint = \"sam_vit_h_4b8939.pth\"\n",
    "#model_type = \"vit_h\"\n",
    "\n",
    "sam = sam_model_registry[model_type](checkpoint=sam_checkpoint)\n",
    "sam.to(device=device)\n",
    "\n",
    "predictor = SamPredictor(sam)"
   ]
  },
  {
   "cell_type": "markdown",
   "id": "d2ace5e1-800e-4acc-8ef7-66f05487c9fd",
   "metadata": {
    "id": "d2ace5e1-800e-4acc-8ef7-66f05487c9fd"
   },
   "source": [
    "On doit ici jongler entre deux formats d'images:\n",
    "- Le format PIL est utilisé dans les modèles CLIP et CLIPSeg et dans Matplotlib\n",
    "- Le format CV2 est utilisé dans le modèle SAM et pour la gestion des flux vidéos"
   ]
  },
  {
   "cell_type": "code",
   "execution_count": 6,
   "id": "e8c07ee0",
   "metadata": {
    "id": "e8c07ee0",
    "tags": []
   },
   "outputs": [],
   "source": [
    "# Conversion Image au format CV2 -> Image au format PIL\n",
    "def cvToPil(cv2_im):\n",
    "    cv2_im=cv2.cvtColor(cv2_im,cv2.COLOR_BGR2RGB)\n",
    "    return Image.fromarray(cv2_im)"
   ]
  },
  {
   "cell_type": "code",
   "execution_count": 7,
   "id": "5affa916",
   "metadata": {
    "id": "5affa916",
    "tags": []
   },
   "outputs": [],
   "source": [
    "# Conversion Image au format PIL -> Image au format CV2\n",
    "def pilToCv(Pil_im):\n",
    "    image=cv2.cvtColor(np.array(Pil_im), cv2.COLOR_RGB2BGR)\n",
    "    return image"
   ]
  },
  {
   "cell_type": "markdown",
   "id": "2c1041be-fca2-4885-96e6-8852591be599",
   "metadata": {
    "id": "2c1041be-fca2-4885-96e6-8852591be599"
   },
   "source": [
    "On traitera ci-dessous l'image suivante:"
   ]
  },
  {
   "cell_type": "code",
   "execution_count": 8,
   "id": "jAQoWaDCMtDz",
   "metadata": {
    "id": "jAQoWaDCMtDz",
    "tags": []
   },
   "outputs": [],
   "source": [
    "url = \"https://github.com/timojl/clipseg/blob/master/example_image.jpg?raw=true\"\n",
    "imagePil = Image.open(requests.get(url, stream=True).raw)\n",
    "imagecv = pilToCv(imagePil)"
   ]
  },
  {
   "cell_type": "markdown",
   "id": "ac3193af-76cf-4c7e-bad0-b5d016872218",
   "metadata": {
    "id": "ac3193af-76cf-4c7e-bad0-b5d016872218"
   },
   "source": [
    "On convertit l'image au format PIL avant de l'afficher via pyplot:"
   ]
  },
  {
   "cell_type": "code",
   "execution_count": 9,
   "id": "e4356e6d",
   "metadata": {
    "colab": {
     "base_uri": "https://localhost:8080/",
     "height": 220
    },
    "id": "e4356e6d",
    "outputId": "ea77f2f1-9b9e-4322-d908-0290377994ee",
    "tags": []
   },
   "outputs": [
    {
     "data": {
      "image/png": "[encoded data removed]",
      "text/plain": [
       "<Figure size 200x200 with 1 Axes>"
      ]
     },
     "metadata": {},
     "output_type": "display_data"
    }
   ],
   "source": [
    "plt.figure(figsize=(2,2))\n",
    "plt.imshow(cvToPil(imagecv))\n",
    "plt.show()"
   ]
  },
  {
   "cell_type": "markdown",
   "id": "97c4f1e9-53c5-4964-bf24-7a9909368097",
   "metadata": {
    "id": "97c4f1e9-53c5-4964-bf24-7a9909368097"
   },
   "source": [
    "Dans la fonction suivante on demande au modèle CLIP d'arbitrer probabilistement entre la description donnée dans la variable `description` et une description \"passe-partout\", ici `\"a photo\"`. Cela semble assez bien marcher mais peut-être d'autres description \"passe-partout\" conviendrait mieux, suivant les contextes d'utilisation."
   ]
  },
  {
   "cell_type": "code",
   "execution_count": 10,
   "id": "eec3030d",
   "metadata": {
    "id": "eec3030d",
    "tags": []
   },
   "outputs": [],
   "source": [
    "# Fonction (image,texte) -> probabilité de conjonction de l'image et du texte\n",
    "# Variable Image au format CV2\n",
    "# Variable description est un string\n",
    "def verifDescription(image,description):\n",
    "    # Conversion de l'image au format PIL\n",
    "    image=cvToPil(image)\n",
    "    # Preprocessing de l'image et fabrication d'un batch [image]\n",
    "    imageClipPrep = preprocessClip(image).unsqueeze(0).to(device)\n",
    "    # Tokenisation du text\n",
    "    tokens = clip.tokenize([description, \"a photo\"]).to(device)\n",
    "    with torch.no_grad():\n",
    "        #image_features = modelClip.encode_image(imageClipPrep)\n",
    "        #text_features = modelClip.encode_text(tokens)\n",
    "        logits_per_image, logits_per_text = modelClip(imageClipPrep, tokens)\n",
    "        probs = logits_per_image.softmax(dim=-1).cpu().numpy()\n",
    "    return float(probs[0][0])"
   ]
  },
  {
   "cell_type": "markdown",
   "id": "6a242e92-e24a-4c38-858e-c78d528f515e",
   "metadata": {
    "id": "6a242e92-e24a-4c38-858e-c78d528f515e"
   },
   "source": [
    "Par exemple:"
   ]
  },
  {
   "cell_type": "code",
   "execution_count": 11,
   "id": "a1cae0ba-4c15-4bff-be25-e7da91eb1e46",
   "metadata": {
    "colab": {
     "base_uri": "https://localhost:8080/"
    },
    "id": "a1cae0ba-4c15-4bff-be25-e7da91eb1e46",
    "outputId": "9dea048d-2f1f-4f93-c3d2-7117d68aacf0",
    "tags": []
   },
   "outputs": [
    {
     "data": {
      "text/plain": [
       "0.22159306704998016"
      ]
     },
     "execution_count": 11,
     "metadata": {},
     "output_type": "execute_result"
    }
   ],
   "source": [
    "description=\"a tiger\"\n",
    "verifDescription(imagecv,description)"
   ]
  },
  {
   "cell_type": "code",
   "execution_count": 12,
   "id": "a9afaaa7-9ce6-4c97-8fca-1e194692359c",
   "metadata": {
    "colab": {
     "base_uri": "https://localhost:8080/"
    },
    "id": "a9afaaa7-9ce6-4c97-8fca-1e194692359c",
    "outputId": "36fc9be4-a7e0-494f-bacb-334de87089c6",
    "tags": []
   },
   "outputs": [
    {
     "data": {
      "text/plain": [
       "0.9718406796455383"
      ]
     },
     "execution_count": 12,
     "metadata": {},
     "output_type": "execute_result"
    }
   ],
   "source": [
    "description=\"a cup\"\n",
    "verifDescription(imagecv,description)"
   ]
  },
  {
   "cell_type": "markdown",
   "id": "9be6ff7d-9e70-40f6-8f33-987857ae0017",
   "metadata": {
    "id": "9be6ff7d-9e70-40f6-8f33-987857ae0017"
   },
   "source": [
    "Définissons maintenant les fonctions de segmentation utilisant le modèle CLIPSeg.\n",
    "\n",
    "Ce modèle prend en entrée une description et retourne basiquement une segmentation, plus précisément une probabilité de présence pour chaque pixel de l'image de départ."
   ]
  },
  {
   "cell_type": "code",
   "execution_count": 13,
   "id": "be187954",
   "metadata": {
    "id": "be187954",
    "tags": []
   },
   "outputs": [],
   "source": [
    "# Fonction (image,description) -> Image de détection de la description\n",
    "def probImageFromDescription(image,description):\n",
    "    image=cvToPil(image)\n",
    "    inputs = processorCLIPSeg(text=[description], images=[image], padding=\"max_length\", return_tensors=\"pt\")\n",
    "    with torch.no_grad():\n",
    "        outputs = modelCLIPSeg(**inputs)\n",
    "\n",
    "    preds = outputs.logits\n",
    "    mask=torch.sigmoid(preds)\n",
    "    return cv2.resize(np.array(mask),image.size)"
   ]
  },
  {
   "cell_type": "markdown",
   "id": "a11f9f15-a887-436a-ba91-197e9146a490",
   "metadata": {
    "id": "a11f9f15-a887-436a-ba91-197e9146a490"
   },
   "source": [
    "Un exemple du rendu de la fonction `probImageFromDescription`:"
   ]
  },
  {
   "cell_type": "code",
   "execution_count": 15,
   "id": "ec3a44d6-6265-4d00-ac2e-04467d52c224",
   "metadata": {
    "colab": {
     "base_uri": "https://localhost:8080/",
     "height": 220
    },
    "id": "ec3a44d6-6265-4d00-ac2e-04467d52c224",
    "outputId": "564a2ddd-6b0b-4a80-ff97-a7cb26b0cccb"
   },
   "outputs": [
    {
     "data": {
      "image/png": "[encoded data removed]",
      "text/plain": [
       "<Figure size 200x200 with 1 Axes>"
      ]
     },
     "metadata": {},
     "output_type": "display_data"
    }
   ],
   "source": [
    "description=\"a cup\"\n",
    "probImage=probImageFromDescription(imagecv,description)\n",
    "plt.figure(figsize=(2,2))\n",
    "plt.imshow(probImage,cmap=\"gray\")\n",
    "plt.show()"
   ]
  },
  {
   "cell_type": "code",
   "execution_count": 16,
   "id": "27641a3e",
   "metadata": {
    "id": "27641a3e"
   },
   "outputs": [],
   "source": [
    "# Fonction (image,description) -> point de l'image de probabilité maximale pour la description\n",
    "def pointFromDescription(image,description):\n",
    "    # On récupère l'image des probabilité\n",
    "    mask=probImageFromDescription(image,description)\n",
    "    # On prend le point de probabilité maximale\n",
    "    input_point=np.unravel_index(np.argmax(mask), np.array(mask).shape)\n",
    "    # On retourne ce point (inversion des x et des y par la fonction unravel_index)\n",
    "    return np.array([[input_point[1],input_point[0]]])"
   ]
  },
  {
   "cell_type": "code",
   "execution_count": 17,
   "id": "ba5e001e-0f9b-41dc-95af-42f103420dff",
   "metadata": {
    "id": "ba5e001e-0f9b-41dc-95af-42f103420dff"
   },
   "outputs": [],
   "source": [
    "# Fonction \"de confort\" pour afficher un point sur une figure matplotlib\n",
    "def show_points(coords, ax, marker_size=375):\n",
    "    pos_points = coords\n",
    "    ax.scatter(pos_points[:, 0], pos_points[:, 1], color='green', marker='*', s=marker_size, edgecolor='white', linewidth=1.25)"
   ]
  },
  {
   "cell_type": "markdown",
   "id": "4fb6899d-3f30-4a47-9518-ea4a7e2ca601",
   "metadata": {
    "id": "4fb6899d-3f30-4a47-9518-ea4a7e2ca601"
   },
   "source": [
    "Un exemple d'utilisation des fonctions `pointFromDescription` et `show_point`:"
   ]
  },
  {
   "cell_type": "code",
   "execution_count": 18,
   "id": "635e580a-e60a-4ae4-a958-3948aac0b5c3",
   "metadata": {
    "colab": {
     "base_uri": "https://localhost:8080/",
     "height": 220
    },
    "id": "635e580a-e60a-4ae4-a958-3948aac0b5c3",
    "outputId": "f9ba2f5c-84e9-41ee-cf3e-5dc382b25879",
    "tags": []
   },
   "outputs": [
    {
     "data": {
      "image/png": "[encoded data removed]",
      "text/plain": [
       "<Figure size 200x200 with 1 Axes>"
      ]
     },
     "metadata": {},
     "output_type": "display_data"
    }
   ],
   "source": [
    "description=\"a cup\"\n",
    "point=pointFromDescription(imagecv,description)\n",
    "plt.figure(figsize=(2,2))\n",
    "plt.imshow(cvToPil(imagecv))\n",
    "show_points(point,plt.gca())\n",
    "plt.show()"
   ]
  },
  {
   "cell_type": "code",
   "execution_count": 19,
   "id": "d603377f",
   "metadata": {
    "id": "d603377f"
   },
   "outputs": [],
   "source": [
    "# Fonction (image,description,seuil) -> masque de présence de l'objet conforme à la description\n",
    "def basicMaskFromDescription(image,description,seuil):\n",
    "    mask=probImageFromDescription(image,description)\n",
    "    gray_image=np.array(mask * 255, dtype = np.uint8)\n",
    "    (thresh, bw_image) = cv2.threshold(gray_image, seuil, 255, cv2.THRESH_BINARY)\n",
    "    return bw_image>0"
   ]
  },
  {
   "cell_type": "markdown",
   "id": "179e9669-3982-40ac-872b-4eb977c57de8",
   "metadata": {
    "id": "179e9669-3982-40ac-872b-4eb977c57de8"
   },
   "source": [
    "Un exemple d'utilisation de la fonction `basicMaskFromDescription`:"
   ]
  },
  {
   "cell_type": "code",
   "execution_count": 20,
   "id": "412ef135-a0c9-4e9c-a3b3-db7dd8f31b4b",
   "metadata": {
    "colab": {
     "base_uri": "https://localhost:8080/",
     "height": 220
    },
    "id": "412ef135-a0c9-4e9c-a3b3-db7dd8f31b4b",
    "outputId": "8a012d3d-6852-42bf-c0a1-847fbbbea9c8",
    "tags": []
   },
   "outputs": [
    {
     "data": {
      "image/png": "[encoded data removed]",
      "text/plain": [
       "<Figure size 200x200 with 1 Axes>"
      ]
     },
     "metadata": {},
     "output_type": "display_data"
    }
   ],
   "source": [
    "description=\"a cup\"\n",
    "maskImage=basicMaskFromDescription(imagecv,description,100)\n",
    "plt.figure(figsize=(2,2))\n",
    "plt.imshow(maskImage,cmap=\"gray\")\n",
    "plt.show()"
   ]
  },
  {
   "cell_type": "markdown",
   "id": "5702baaa-75a7-4ea8-bd83-4c19b815091c",
   "metadata": {
    "id": "5702baaa-75a7-4ea8-bd83-4c19b815091c"
   },
   "source": [
    "On définit maintenant des fonctions utilisant le modèle SAM de Meta.\n",
    "\n",
    "Ce modèle prend en entrée un point et retourne la segmentation de l'objet présent en ce point."
   ]
  },
  {
   "cell_type": "code",
   "execution_count": 21,
   "id": "2b353c09",
   "metadata": {
    "id": "2b353c09"
   },
   "outputs": [],
   "source": [
    "# Fonction (image,point) -> image mask de l'objet au point fourni\n",
    "def maskFromPoint(image,input_point):\n",
    "    # Pré-traitement de l'image par SAM\n",
    "    predictor.set_image(image)\n",
    "    # 2 labels possibles dans SAM: 1->le masque doit contenir ce point // 0->le masque ne doit pas contenir ce point\n",
    "    input_label = np.array([1])\n",
    "    # Calcul du masque\n",
    "    mask, score, logit = predictor.predict(\n",
    "        point_coords=input_point,\n",
    "        point_labels=input_label,\n",
    "        multimask_output=False,\n",
    "    )\n",
    "    # SAM retourne plusieurs masques possibles: on donne celui de plus grande proba\n",
    "    return mask.squeeze()"
   ]
  },
  {
   "cell_type": "markdown",
   "id": "618c1966-f7a1-4140-8465-25f47d8bdfc6",
   "metadata": {
    "id": "618c1966-f7a1-4140-8465-25f47d8bdfc6"
   },
   "source": [
    "Pour obtenir un masque à partir d'une description avec SAM on utilise alors le modèle CLIPSeg pour obtenir le point de plus grande probabilité de présence pour ensuite obtenir un masque avec SAM:"
   ]
  },
  {
   "cell_type": "code",
   "execution_count": 22,
   "id": "2c25e1da",
   "metadata": {
    "id": "2c25e1da"
   },
   "outputs": [],
   "source": [
    "# Fonction (image,description) -> image mask correspondant à la description\n",
    "def maskFromDescription(image,description):\n",
    "    input_point = pointFromDescription(image,description)\n",
    "    return maskFromPoint(image,input_point)"
   ]
  },
  {
   "cell_type": "markdown",
   "id": "ff0bf1c5-3cf7-4b9c-b593-5651813cc5d0",
   "metadata": {
    "id": "ff0bf1c5-3cf7-4b9c-b593-5651813cc5d0"
   },
   "source": [
    "Un exemple d'utilisation de la fonction `maskFromDescription`:"
   ]
  },
  {
   "cell_type": "code",
   "execution_count": 23,
   "id": "d08090f1-258f-471f-99ff-68448b08c1d6",
   "metadata": {
    "colab": {
     "base_uri": "https://localhost:8080/",
     "height": 220
    },
    "id": "d08090f1-258f-471f-99ff-68448b08c1d6",
    "outputId": "33b1ae49-0ef1-473a-97c7-f0e2faffe6c3",
    "tags": []
   },
   "outputs": [
    {
     "data": {
      "image/png": "[encoded data removed]",
      "text/plain": [
       "<Figure size 200x200 with 1 Axes>"
      ]
     },
     "metadata": {},
     "output_type": "display_data"
    }
   ],
   "source": [
    "description=\"a cup\"\n",
    "maskImage=maskFromDescription(imagecv,description)\n",
    "plt.figure(figsize=(2,2))\n",
    "plt.imshow(maskImage,cmap=\"gray\")\n",
    "plt.show()"
   ]
  },
  {
   "cell_type": "markdown",
   "id": "4b22712c-f7cb-4453-85ac-c90aa0e918a7",
   "metadata": {
    "id": "4b22712c-f7cb-4453-85ac-c90aa0e918a7"
   },
   "source": [
    "Fonction pour afficher les masques en surrimpression:"
   ]
  },
  {
   "cell_type": "code",
   "execution_count": 24,
   "id": "7d36dd62",
   "metadata": {
    "id": "7d36dd62"
   },
   "outputs": [],
   "source": [
    "# Fonction (image,mask,color) -> image avec masque en surrimpression et de couleur donnée\n",
    "def getMaskedImage(imagecv,mask,color=(0,0,255)):\n",
    "    # On crée une image de même dimension que imagecv et de couleur color\n",
    "    plein = np.zeros(imagecv.shape, imagecv.dtype)\n",
    "    plein[:,:] = color\n",
    "    # On colorise notre image msk\n",
    "    maskIm = cv2.bitwise_and(plein, plein, mask=mask.astype(np.uint8))\n",
    "    # Onretourne l'addition de maskIm et de imagecv\n",
    "    return cv2.addWeighted(maskIm, 1, imagecv, 1,0)"
   ]
  },
  {
   "cell_type": "markdown",
   "id": "de0ca5ab-1485-4855-9e19-0e062cffac8d",
   "metadata": {
    "id": "de0ca5ab-1485-4855-9e19-0e062cffac8d"
   },
   "source": [
    "Exemple d'utilisation avec le modèle CLIPSeg:"
   ]
  },
  {
   "cell_type": "code",
   "execution_count": 25,
   "id": "a90b7b3f-6f3d-45bd-88e9-1075182ac35b",
   "metadata": {
    "colab": {
     "base_uri": "https://localhost:8080/",
     "height": 220
    },
    "id": "a90b7b3f-6f3d-45bd-88e9-1075182ac35b",
    "outputId": "afb3adaa-2170-4749-d6cf-d31a9dd335df",
    "tags": []
   },
   "outputs": [
    {
     "data": {
      "image/png": "[encoded data removed]",
      "text/plain": [
       "<Figure size 200x200 with 1 Axes>"
      ]
     },
     "metadata": {},
     "output_type": "display_data"
    }
   ],
   "source": [
    "description=\"a cup\"\n",
    "basicMask=basicMaskFromDescription(imagecv,description,100)\n",
    "maskedIm=getMaskedImage(imagecv,basicMask)\n",
    "plt.figure(figsize=(2,2))\n",
    "plt.imshow(cvToPil(maskedIm))\n",
    "plt.show()"
   ]
  },
  {
   "cell_type": "markdown",
   "id": "feca10fa-ecec-4027-bf4b-cd3491ebe31a",
   "metadata": {
    "id": "feca10fa-ecec-4027-bf4b-cd3491ebe31a"
   },
   "source": [
    "Exemple d'utilisation avec le modèle SAM:"
   ]
  },
  {
   "cell_type": "code",
   "execution_count": 26,
   "id": "a76afa24-46df-4bb3-8e39-2c9fab2aca75",
   "metadata": {
    "colab": {
     "base_uri": "https://localhost:8080/",
     "height": 220
    },
    "id": "a76afa24-46df-4bb3-8e39-2c9fab2aca75",
    "outputId": "a2fbbea9-d33a-4309-ed07-de918073ffbe",
    "tags": []
   },
   "outputs": [
    {
     "data": {
      "image/png": "[encoded data removed]",
      "text/plain": [
       "<Figure size 200x200 with 1 Axes>"
      ]
     },
     "metadata": {},
     "output_type": "display_data"
    }
   ],
   "source": [
    "description=\"a cup\"\n",
    "mask=maskFromDescription(imagecv,description)\n",
    "plt.figure(figsize=(2,2))\n",
    "maskedIm=getMaskedImage(imagecv,mask)\n",
    "plt.imshow(cvToPil(maskedIm))\n",
    "plt.show() "
   ]
  },
  {
   "cell_type": "code",
   "execution_count": null,
   "id": "29eb313c",
   "metadata": {
    "id": "29eb313c"
   },
   "outputs": [],
   "source": []
  }
 ],
 "metadata": {
  "accelerator": "GPU",
  "colab": {
   "provenance": []
  },
  "gpuClass": "standard",
  "kernelspec": {
   "display_name": "Python 3 (ipykernel)",
   "language": "python",
   "name": "python3"
  },
  "language_info": {
   "codemirror_mode": {
    "name": "ipython",
    "version": 3
   },
   "file_extension": ".py",
   "mimetype": "text/x-python",
   "name": "python",
   "nbconvert_exporter": "python",
   "pygments_lexer": "ipython3",
   "version": "3.10.10"
  },
  "widgets": {
   "application/vnd.jupyter.widget-state+json": {
    "03ccd8607409466084718c0a5d296a62": {
     "model_module": "@jupyter-widgets/controls",
     "model_module_version": "1.5.0",
     "model_name": "HTMLModel",
     "state": {
      "_dom_classes": [],
      "_model_module": "@jupyter-widgets/controls",
      "_model_module_version": "1.5.0",
      "_model_name": "HTMLModel",
      "_view_count": null,
      "_view_module": "@jupyter-widgets/controls",
      "_view_module_version": "1.5.0",
      "_view_name": "HTMLView",
      "description": "",
      "description_tooltip": null,
      "layout": "IPY_MODEL_a8d6026fa3a845cab5abb1e19df2b18b",
      "placeholder": "​",
      "style": "IPY_MODEL_99ad067673524f4dadbb8523c552898f",
      "value": "Downloading (…)okenizer_config.json: 100%"
     }
    },
    "040f1aea6b374c1390d2c9bff2071c46": {
     "model_module": "@jupyter-widgets/controls",
     "model_module_version": "1.5.0",
     "model_name": "DescriptionStyleModel",
     "state": {
      "_model_module": "@jupyter-widgets/controls",
      "_model_module_version": "1.5.0",
      "_model_name": "DescriptionStyleModel",
      "_view_count": null,
      "_view_module": "@jupyter-widgets/base",
      "_view_module_version": "1.2.0",
      "_view_name": "StyleView",
      "description_width": ""
     }
    },
    "077cfdad7f93461599b762dae38f3388": {
     "model_module": "@jupyter-widgets/controls",
     "model_module_version": "1.5.0",
     "model_name": "FloatProgressModel",
     "state": {
      "_dom_classes": [],
      "_model_module": "@jupyter-widgets/controls",
      "_model_module_version": "1.5.0",
      "_model_name": "FloatProgressModel",
      "_view_count": null,
      "_view_module": "@jupyter-widgets/controls",
      "_view_module_version": "1.5.0",
      "_view_name": "ProgressView",
      "bar_style": "success",
      "description": "",
      "description_tooltip": null,
      "layout": "IPY_MODEL_3cb7f776bff34128af03baeec13caeac",
      "max": 472,
      "min": 0,
      "orientation": "horizontal",
      "style": "IPY_MODEL_0a205275e18044cd907b8218295e7839",
      "value": 472
     }
    },
    "082bda1f64f04bbb829c3f8f6ba3a5da": {
     "model_module": "@jupyter-widgets/base",
     "model_module_version": "1.2.0",
     "model_name": "LayoutModel",
     "state": {
      "_model_module": "@jupyter-widgets/base",
      "_model_module_version": "1.2.0",
      "_model_name": "LayoutModel",
      "_view_count": null,
      "_view_module": "@jupyter-widgets/base",
      "_view_module_version": "1.2.0",
      "_view_name": "LayoutView",
      "align_content": null,
      "align_items": null,
      "align_self": null,
      "border": null,
      "bottom": null,
      "display": null,
      "flex": null,
      "flex_flow": null,
      "grid_area": null,
      "grid_auto_columns": null,
      "grid_auto_flow": null,
      "grid_auto_rows": null,
      "grid_column": null,
      "grid_gap": null,
      "grid_row": null,
      "grid_template_areas": null,
      "grid_template_columns": null,
      "grid_template_rows": null,
      "height": null,
      "justify_content": null,
      "justify_items": null,
      "left": null,
      "margin": null,
      "max_height": null,
      "max_width": null,
      "min_height": null,
      "min_width": null,
      "object_fit": null,
      "object_position": null,
      "order": null,
      "overflow": null,
      "overflow_x": null,
      "overflow_y": null,
      "padding": null,
      "right": null,
      "top": null,
      "visibility": null,
      "width": null
     }
    },
    "0a205275e18044cd907b8218295e7839": {
     "model_module": "@jupyter-widgets/controls",
     "model_module_version": "1.5.0",
     "model_name": "ProgressStyleModel",
     "state": {
      "_model_module": "@jupyter-widgets/controls",
      "_model_module_version": "1.5.0",
      "_model_name": "ProgressStyleModel",
      "_view_count": null,
      "_view_module": "@jupyter-widgets/base",
      "_view_module_version": "1.2.0",
      "_view_name": "StyleView",
      "bar_color": null,
      "description_width": ""
     }
    },
    "0db18f5a618a4528bd1502e7765f9cc3": {
     "model_module": "@jupyter-widgets/controls",
     "model_module_version": "1.5.0",
     "model_name": "HBoxModel",
     "state": {
      "_dom_classes": [],
      "_model_module": "@jupyter-widgets/controls",
      "_model_module_version": "1.5.0",
      "_model_name": "HBoxModel",
      "_view_count": null,
      "_view_module": "@jupyter-widgets/controls",
      "_view_module_version": "1.5.0",
      "_view_name": "HBoxView",
      "box_style": "",
      "children": [
       "IPY_MODEL_4e1918d6f40b403a86cf59e8b8907a2d",
       "IPY_MODEL_11d6027e106848baabb4d1a3e9152f3e",
       "IPY_MODEL_8f3be797418344619f3b4f42457ea2f5"
      ],
      "layout": "IPY_MODEL_8114a7beb8224c73a544c323e04cff32"
     }
    },
    "11d6027e106848baabb4d1a3e9152f3e": {
     "model_module": "@jupyter-widgets/controls",
     "model_module_version": "1.5.0",
     "model_name": "FloatProgressModel",
     "state": {
      "_dom_classes": [],
      "_model_module": "@jupyter-widgets/controls",
      "_model_module_version": "1.5.0",
      "_model_name": "FloatProgressModel",
      "_view_count": null,
      "_view_module": "@jupyter-widgets/controls",
      "_view_module_version": "1.5.0",
      "_view_name": "ProgressView",
      "bar_style": "success",
      "description": "",
      "description_tooltip": null,
      "layout": "IPY_MODEL_fc6260167f0d42deb02ebe8bd313f12b",
      "max": 524619,
      "min": 0,
      "orientation": "horizontal",
      "style": "IPY_MODEL_ba9f979c2ef249649b5d843fff585940",
      "value": 524619
     }
    },
    "1c1463517aa24cb7bf975e2490940ea5": {
     "model_module": "@jupyter-widgets/controls",
     "model_module_version": "1.5.0",
     "model_name": "HTMLModel",
     "state": {
      "_dom_classes": [],
      "_model_module": "@jupyter-widgets/controls",
      "_model_module_version": "1.5.0",
      "_model_name": "HTMLModel",
      "_view_count": null,
      "_view_module": "@jupyter-widgets/controls",
      "_view_module_version": "1.5.0",
      "_view_name": "HTMLView",
      "description": "",
      "description_tooltip": null,
      "layout": "IPY_MODEL_448ced1dfc8345699f992a6e28df3135",
      "placeholder": "​",
      "style": "IPY_MODEL_f29ef7a71bee4b9285126f624fe814ef",
      "value": " 380/380 [00:00&lt;00:00, 19.3kB/s]"
     }
    },
    "1cf1d0e03c144a1aa6112d223094fae7": {
     "model_module": "@jupyter-widgets/controls",
     "model_module_version": "1.5.0",
     "model_name": "ProgressStyleModel",
     "state": {
      "_model_module": "@jupyter-widgets/controls",
      "_model_module_version": "1.5.0",
      "_model_name": "ProgressStyleModel",
      "_view_count": null,
      "_view_module": "@jupyter-widgets/base",
      "_view_module_version": "1.2.0",
      "_view_name": "StyleView",
      "bar_color": null,
      "description_width": ""
     }
    },
    "274d4219058b4a26b204aac932f31cbb": {
     "model_module": "@jupyter-widgets/controls",
     "model_module_version": "1.5.0",
     "model_name": "DescriptionStyleModel",
     "state": {
      "_model_module": "@jupyter-widgets/controls",
      "_model_module_version": "1.5.0",
      "_model_name": "DescriptionStyleModel",
      "_view_count": null,
      "_view_module": "@jupyter-widgets/base",
      "_view_module_version": "1.2.0",
      "_view_name": "StyleView",
      "description_width": ""
     }
    },
    "2b0b8e27eb6c4993b437d646a7be3b1a": {
     "model_module": "@jupyter-widgets/controls",
     "model_module_version": "1.5.0",
     "model_name": "DescriptionStyleModel",
     "state": {
      "_model_module": "@jupyter-widgets/controls",
      "_model_module_version": "1.5.0",
      "_model_name": "DescriptionStyleModel",
      "_view_count": null,
      "_view_module": "@jupyter-widgets/base",
      "_view_module_version": "1.2.0",
      "_view_name": "StyleView",
      "description_width": ""
     }
    },
    "2e74dfceda4e47e4b68c8bc1b412c7eb": {
     "model_module": "@jupyter-widgets/controls",
     "model_module_version": "1.5.0",
     "model_name": "HTMLModel",
     "state": {
      "_dom_classes": [],
      "_model_module": "@jupyter-widgets/controls",
      "_model_module_version": "1.5.0",
      "_model_name": "HTMLModel",
      "_view_count": null,
      "_view_module": "@jupyter-widgets/controls",
      "_view_module_version": "1.5.0",
      "_view_name": "HTMLView",
      "description": "",
      "description_tooltip": null,
      "layout": "IPY_MODEL_da8ed306ab8e487897425235e5843bd1",
      "placeholder": "​",
      "style": "IPY_MODEL_45e2796fa0774dd4a07d5e44f9b78e65",
      "value": " 1.06M/1.06M [00:00&lt;00:00, 3.48MB/s]"
     }
    },
    "31d966836fb64892b75a67563a24a78f": {
     "model_module": "@jupyter-widgets/controls",
     "model_module_version": "1.5.0",
     "model_name": "ProgressStyleModel",
     "state": {
      "_model_module": "@jupyter-widgets/controls",
      "_model_module_version": "1.5.0",
      "_model_name": "ProgressStyleModel",
      "_view_count": null,
      "_view_module": "@jupyter-widgets/base",
      "_view_module_version": "1.2.0",
      "_view_name": "StyleView",
      "bar_color": null,
      "description_width": ""
     }
    },
    "320bdf67d8f84046a57884d411d26cfe": {
     "model_module": "@jupyter-widgets/base",
     "model_module_version": "1.2.0",
     "model_name": "LayoutModel",
     "state": {
      "_model_module": "@jupyter-widgets/base",
      "_model_module_version": "1.2.0",
      "_model_name": "LayoutModel",
      "_view_count": null,
      "_view_module": "@jupyter-widgets/base",
      "_view_module_version": "1.2.0",
      "_view_name": "LayoutView",
      "align_content": null,
      "align_items": null,
      "align_self": null,
      "border": null,
      "bottom": null,
      "display": null,
      "flex": null,
      "flex_flow": null,
      "grid_area": null,
      "grid_auto_columns": null,
      "grid_auto_flow": null,
      "grid_auto_rows": null,
      "grid_column": null,
      "grid_gap": null,
      "grid_row": null,
      "grid_template_areas": null,
      "grid_template_columns": null,
      "grid_template_rows": null,
      "height": null,
      "justify_content": null,
      "justify_items": null,
      "left": null,
      "margin": null,
      "max_height": null,
      "max_width": null,
      "min_height": null,
      "min_width": null,
      "object_fit": null,
      "object_position": null,
      "order": null,
      "overflow": null,
      "overflow_x": null,
      "overflow_y": null,
      "padding": null,
      "right": null,
      "top": null,
      "visibility": null,
      "width": null
     }
    },
    "372cc435136f4f9991e4317537b3c55b": {
     "model_module": "@jupyter-widgets/base",
     "model_module_version": "1.2.0",
     "model_name": "LayoutModel",
     "state": {
      "_model_module": "@jupyter-widgets/base",
      "_model_module_version": "1.2.0",
      "_model_name": "LayoutModel",
      "_view_count": null,
      "_view_module": "@jupyter-widgets/base",
      "_view_module_version": "1.2.0",
      "_view_name": "LayoutView",
      "align_content": null,
      "align_items": null,
      "align_self": null,
      "border": null,
      "bottom": null,
      "display": null,
      "flex": null,
      "flex_flow": null,
      "grid_area": null,
      "grid_auto_columns": null,
      "grid_auto_flow": null,
      "grid_auto_rows": null,
      "grid_column": null,
      "grid_gap": null,
      "grid_row": null,
      "grid_template_areas": null,
      "grid_template_columns": null,
      "grid_template_rows": null,
      "height": null,
      "justify_content": null,
      "justify_items": null,
      "left": null,
      "margin": null,
      "max_height": null,
      "max_width": null,
      "min_height": null,
      "min_width": null,
      "object_fit": null,
      "object_position": null,
      "order": null,
      "overflow": null,
      "overflow_x": null,
      "overflow_y": null,
      "padding": null,
      "right": null,
      "top": null,
      "visibility": null,
      "width": null
     }
    },
    "3cb7f776bff34128af03baeec13caeac": {
     "model_module": "@jupyter-widgets/base",
     "model_module_version": "1.2.0",
     "model_name": "LayoutModel",
     "state": {
      "_model_module": "@jupyter-widgets/base",
      "_model_module_version": "1.2.0",
      "_model_name": "LayoutModel",
      "_view_count": null,
      "_view_module": "@jupyter-widgets/base",
      "_view_module_version": "1.2.0",
      "_view_name": "LayoutView",
      "align_content": null,
      "align_items": null,
      "align_self": null,
      "border": null,
      "bottom": null,
      "display": null,
      "flex": null,
      "flex_flow": null,
      "grid_area": null,
      "grid_auto_columns": null,
      "grid_auto_flow": null,
      "grid_auto_rows": null,
      "grid_column": null,
      "grid_gap": null,
      "grid_row": null,
      "grid_template_areas": null,
      "grid_template_columns": null,
      "grid_template_rows": null,
      "height": null,
      "justify_content": null,
      "justify_items": null,
      "left": null,
      "margin": null,
      "max_height": null,
      "max_width": null,
      "min_height": null,
      "min_width": null,
      "object_fit": null,
      "object_position": null,
      "order": null,
      "overflow": null,
      "overflow_x": null,
      "overflow_y": null,
      "padding": null,
      "right": null,
      "top": null,
      "visibility": null,
      "width": null
     }
    },
    "41b0603bfbf84015a1366ab2cc6d7434": {
     "model_module": "@jupyter-widgets/base",
     "model_module_version": "1.2.0",
     "model_name": "LayoutModel",
     "state": {
      "_model_module": "@jupyter-widgets/base",
      "_model_module_version": "1.2.0",
      "_model_name": "LayoutModel",
      "_view_count": null,
      "_view_module": "@jupyter-widgets/base",
      "_view_module_version": "1.2.0",
      "_view_name": "LayoutView",
      "align_content": null,
      "align_items": null,
      "align_self": null,
      "border": null,
      "bottom": null,
      "display": null,
      "flex": null,
      "flex_flow": null,
      "grid_area": null,
      "grid_auto_columns": null,
      "grid_auto_flow": null,
      "grid_auto_rows": null,
      "grid_column": null,
      "grid_gap": null,
      "grid_row": null,
      "grid_template_areas": null,
      "grid_template_columns": null,
      "grid_template_rows": null,
      "height": null,
      "justify_content": null,
      "justify_items": null,
      "left": null,
      "margin": null,
      "max_height": null,
      "max_width": null,
      "min_height": null,
      "min_width": null,
      "object_fit": null,
      "object_position": null,
      "order": null,
      "overflow": null,
      "overflow_x": null,
      "overflow_y": null,
      "padding": null,
      "right": null,
      "top": null,
      "visibility": null,
      "width": null
     }
    },
    "448ced1dfc8345699f992a6e28df3135": {
     "model_module": "@jupyter-widgets/base",
     "model_module_version": "1.2.0",
     "model_name": "LayoutModel",
     "state": {
      "_model_module": "@jupyter-widgets/base",
      "_model_module_version": "1.2.0",
      "_model_name": "LayoutModel",
      "_view_count": null,
      "_view_module": "@jupyter-widgets/base",
      "_view_module_version": "1.2.0",
      "_view_name": "LayoutView",
      "align_content": null,
      "align_items": null,
      "align_self": null,
      "border": null,
      "bottom": null,
      "display": null,
      "flex": null,
      "flex_flow": null,
      "grid_area": null,
      "grid_auto_columns": null,
      "grid_auto_flow": null,
      "grid_auto_rows": null,
      "grid_column": null,
      "grid_gap": null,
      "grid_row": null,
      "grid_template_areas": null,
      "grid_template_columns": null,
      "grid_template_rows": null,
      "height": null,
      "justify_content": null,
      "justify_items": null,
      "left": null,
      "margin": null,
      "max_height": null,
      "max_width": null,
      "min_height": null,
      "min_width": null,
      "object_fit": null,
      "object_position": null,
      "order": null,
      "overflow": null,
      "overflow_x": null,
      "overflow_y": null,
      "padding": null,
      "right": null,
      "top": null,
      "visibility": null,
      "width": null
     }
    },
    "45e2796fa0774dd4a07d5e44f9b78e65": {
     "model_module": "@jupyter-widgets/controls",
     "model_module_version": "1.5.0",
     "model_name": "DescriptionStyleModel",
     "state": {
      "_model_module": "@jupyter-widgets/controls",
      "_model_module_version": "1.5.0",
      "_model_name": "DescriptionStyleModel",
      "_view_count": null,
      "_view_module": "@jupyter-widgets/base",
      "_view_module_version": "1.2.0",
      "_view_name": "StyleView",
      "description_width": ""
     }
    },
    "462cb4594e5f463b9b34427478c5e527": {
     "model_module": "@jupyter-widgets/base",
     "model_module_version": "1.2.0",
     "model_name": "LayoutModel",
     "state": {
      "_model_module": "@jupyter-widgets/base",
      "_model_module_version": "1.2.0",
      "_model_name": "LayoutModel",
      "_view_count": null,
      "_view_module": "@jupyter-widgets/base",
      "_view_module_version": "1.2.0",
      "_view_name": "LayoutView",
      "align_content": null,
      "align_items": null,
      "align_self": null,
      "border": null,
      "bottom": null,
      "display": null,
      "flex": null,
      "flex_flow": null,
      "grid_area": null,
      "grid_auto_columns": null,
      "grid_auto_flow": null,
      "grid_auto_rows": null,
      "grid_column": null,
      "grid_gap": null,
      "grid_row": null,
      "grid_template_areas": null,
      "grid_template_columns": null,
      "grid_template_rows": null,
      "height": null,
      "justify_content": null,
      "justify_items": null,
      "left": null,
      "margin": null,
      "max_height": null,
      "max_width": null,
      "min_height": null,
      "min_width": null,
      "object_fit": null,
      "object_position": null,
      "order": null,
      "overflow": null,
      "overflow_x": null,
      "overflow_y": null,
      "padding": null,
      "right": null,
      "top": null,
      "visibility": null,
      "width": null
     }
    },
    "469cad08af9f42bfabb2ffbff4705692": {
     "model_module": "@jupyter-widgets/controls",
     "model_module_version": "1.5.0",
     "model_name": "HTMLModel",
     "state": {
      "_dom_classes": [],
      "_model_module": "@jupyter-widgets/controls",
      "_model_module_version": "1.5.0",
      "_model_name": "HTMLModel",
      "_view_count": null,
      "_view_module": "@jupyter-widgets/controls",
      "_view_module_version": "1.5.0",
      "_view_name": "HTMLView",
      "description": "",
      "description_tooltip": null,
      "layout": "IPY_MODEL_082bda1f64f04bbb829c3f8f6ba3a5da",
      "placeholder": "​",
      "style": "IPY_MODEL_fa71136166cd4a31a76f9f433e6562db",
      "value": "Downloading (…)cial_tokens_map.json: 100%"
     }
    },
    "4c444e418d084feea8df754d5dc8e2d3": {
     "model_module": "@jupyter-widgets/controls",
     "model_module_version": "1.5.0",
     "model_name": "DescriptionStyleModel",
     "state": {
      "_model_module": "@jupyter-widgets/controls",
      "_model_module_version": "1.5.0",
      "_model_name": "DescriptionStyleModel",
      "_view_count": null,
      "_view_module": "@jupyter-widgets/base",
      "_view_module_version": "1.2.0",
      "_view_name": "StyleView",
      "description_width": ""
     }
    },
    "4cb20a739e8a4da184c1c429f348e328": {
     "model_module": "@jupyter-widgets/controls",
     "model_module_version": "1.5.0",
     "model_name": "DescriptionStyleModel",
     "state": {
      "_model_module": "@jupyter-widgets/controls",
      "_model_module_version": "1.5.0",
      "_model_name": "DescriptionStyleModel",
      "_view_count": null,
      "_view_module": "@jupyter-widgets/base",
      "_view_module_version": "1.2.0",
      "_view_name": "StyleView",
      "description_width": ""
     }
    },
    "4e1918d6f40b403a86cf59e8b8907a2d": {
     "model_module": "@jupyter-widgets/controls",
     "model_module_version": "1.5.0",
     "model_name": "HTMLModel",
     "state": {
      "_dom_classes": [],
      "_model_module": "@jupyter-widgets/controls",
      "_model_module_version": "1.5.0",
      "_model_name": "HTMLModel",
      "_view_count": null,
      "_view_module": "@jupyter-widgets/controls",
      "_view_module_version": "1.5.0",
      "_view_name": "HTMLView",
      "description": "",
      "description_tooltip": null,
      "layout": "IPY_MODEL_ad06b94f50344c509b91e97aeb63ff4c",
      "placeholder": "​",
      "style": "IPY_MODEL_2b0b8e27eb6c4993b437d646a7be3b1a",
      "value": "Downloading (…)olve/main/merges.txt: 100%"
     }
    },
    "5588a77db2bf452c868403b1f1a9ec25": {
     "model_module": "@jupyter-widgets/controls",
     "model_module_version": "1.5.0",
     "model_name": "ProgressStyleModel",
     "state": {
      "_model_module": "@jupyter-widgets/controls",
      "_model_module_version": "1.5.0",
      "_model_name": "ProgressStyleModel",
      "_view_count": null,
      "_view_module": "@jupyter-widgets/base",
      "_view_module_version": "1.2.0",
      "_view_name": "StyleView",
      "bar_color": null,
      "description_width": ""
     }
    },
    "5888c79c1d404cbd9df2a9e430525f7b": {
     "model_module": "@jupyter-widgets/base",
     "model_module_version": "1.2.0",
     "model_name": "LayoutModel",
     "state": {
      "_model_module": "@jupyter-widgets/base",
      "_model_module_version": "1.2.0",
      "_model_name": "LayoutModel",
      "_view_count": null,
      "_view_module": "@jupyter-widgets/base",
      "_view_module_version": "1.2.0",
      "_view_name": "LayoutView",
      "align_content": null,
      "align_items": null,
      "align_self": null,
      "border": null,
      "bottom": null,
      "display": null,
      "flex": null,
      "flex_flow": null,
      "grid_area": null,
      "grid_auto_columns": null,
      "grid_auto_flow": null,
      "grid_auto_rows": null,
      "grid_column": null,
      "grid_gap": null,
      "grid_row": null,
      "grid_template_areas": null,
      "grid_template_columns": null,
      "grid_template_rows": null,
      "height": null,
      "justify_content": null,
      "justify_items": null,
      "left": null,
      "margin": null,
      "max_height": null,
      "max_width": null,
      "min_height": null,
      "min_width": null,
      "object_fit": null,
      "object_position": null,
      "order": null,
      "overflow": null,
      "overflow_x": null,
      "overflow_y": null,
      "padding": null,
      "right": null,
      "top": null,
      "visibility": null,
      "width": null
     }
    },
    "61afcfa176c844379291339dbda98747": {
     "model_module": "@jupyter-widgets/controls",
     "model_module_version": "1.5.0",
     "model_name": "DescriptionStyleModel",
     "state": {
      "_model_module": "@jupyter-widgets/controls",
      "_model_module_version": "1.5.0",
      "_model_name": "DescriptionStyleModel",
      "_view_count": null,
      "_view_module": "@jupyter-widgets/base",
      "_view_module_version": "1.2.0",
      "_view_name": "StyleView",
      "description_width": ""
     }
    },
    "61bdfc07473d4068b5527207953eb478": {
     "model_module": "@jupyter-widgets/controls",
     "model_module_version": "1.5.0",
     "model_name": "FloatProgressModel",
     "state": {
      "_dom_classes": [],
      "_model_module": "@jupyter-widgets/controls",
      "_model_module_version": "1.5.0",
      "_model_name": "FloatProgressModel",
      "_view_count": null,
      "_view_module": "@jupyter-widgets/controls",
      "_view_module_version": "1.5.0",
      "_view_name": "ProgressView",
      "bar_style": "success",
      "description": "",
      "description_tooltip": null,
      "layout": "IPY_MODEL_c844a5e3031049e38d614f3aef3ba2f0",
      "max": 380,
      "min": 0,
      "orientation": "horizontal",
      "style": "IPY_MODEL_62f5612884644bcb94467f91f1278cb1",
      "value": 380
     }
    },
    "62f5612884644bcb94467f91f1278cb1": {
     "model_module": "@jupyter-widgets/controls",
     "model_module_version": "1.5.0",
     "model_name": "ProgressStyleModel",
     "state": {
      "_model_module": "@jupyter-widgets/controls",
      "_model_module_version": "1.5.0",
      "_model_name": "ProgressStyleModel",
      "_view_count": null,
      "_view_module": "@jupyter-widgets/base",
      "_view_module_version": "1.2.0",
      "_view_name": "StyleView",
      "bar_color": null,
      "description_width": ""
     }
    },
    "63e32ade493a4f4ab38e7d7d2859bae6": {
     "model_module": "@jupyter-widgets/base",
     "model_module_version": "1.2.0",
     "model_name": "LayoutModel",
     "state": {
      "_model_module": "@jupyter-widgets/base",
      "_model_module_version": "1.2.0",
      "_model_name": "LayoutModel",
      "_view_count": null,
      "_view_module": "@jupyter-widgets/base",
      "_view_module_version": "1.2.0",
      "_view_name": "LayoutView",
      "align_content": null,
      "align_items": null,
      "align_self": null,
      "border": null,
      "bottom": null,
      "display": null,
      "flex": null,
      "flex_flow": null,
      "grid_area": null,
      "grid_auto_columns": null,
      "grid_auto_flow": null,
      "grid_auto_rows": null,
      "grid_column": null,
      "grid_gap": null,
      "grid_row": null,
      "grid_template_areas": null,
      "grid_template_columns": null,
      "grid_template_rows": null,
      "height": null,
      "justify_content": null,
      "justify_items": null,
      "left": null,
      "margin": null,
      "max_height": null,
      "max_width": null,
      "min_height": null,
      "min_width": null,
      "object_fit": null,
      "object_position": null,
      "order": null,
      "overflow": null,
      "overflow_x": null,
      "overflow_y": null,
      "padding": null,
      "right": null,
      "top": null,
      "visibility": null,
      "width": null
     }
    },
    "66d8c6717e474f7a8ab2e4e515d84756": {
     "model_module": "@jupyter-widgets/controls",
     "model_module_version": "1.5.0",
     "model_name": "HBoxModel",
     "state": {
      "_dom_classes": [],
      "_model_module": "@jupyter-widgets/controls",
      "_model_module_version": "1.5.0",
      "_model_name": "HBoxModel",
      "_view_count": null,
      "_view_module": "@jupyter-widgets/controls",
      "_view_module_version": "1.5.0",
      "_view_name": "HBoxView",
      "box_style": "",
      "children": [
       "IPY_MODEL_8cd4a6879314498b9b985836a4df2e71",
       "IPY_MODEL_6c2284b66ca44f15b74ce60d98743196",
       "IPY_MODEL_997a4be016bd4eda8a8d99dffdff81ba"
      ],
      "layout": "IPY_MODEL_320bdf67d8f84046a57884d411d26cfe"
     }
    },
    "6a50fb54669d4f679ec37405eef42854": {
     "model_module": "@jupyter-widgets/controls",
     "model_module_version": "1.5.0",
     "model_name": "HTMLModel",
     "state": {
      "_dom_classes": [],
      "_model_module": "@jupyter-widgets/controls",
      "_model_module_version": "1.5.0",
      "_model_name": "HTMLModel",
      "_view_count": null,
      "_view_module": "@jupyter-widgets/controls",
      "_view_module_version": "1.5.0",
      "_view_name": "HTMLView",
      "description": "",
      "description_tooltip": null,
      "layout": "IPY_MODEL_41b0603bfbf84015a1366ab2cc6d7434",
      "placeholder": "​",
      "style": "IPY_MODEL_a37d49fa154f4a0a953856d9d085fd08",
      "value": " 974/974 [00:00&lt;00:00, 52.4kB/s]"
     }
    },
    "6c2284b66ca44f15b74ce60d98743196": {
     "model_module": "@jupyter-widgets/controls",
     "model_module_version": "1.5.0",
     "model_name": "FloatProgressModel",
     "state": {
      "_dom_classes": [],
      "_model_module": "@jupyter-widgets/controls",
      "_model_module_version": "1.5.0",
      "_model_name": "FloatProgressModel",
      "_view_count": null,
      "_view_module": "@jupyter-widgets/controls",
      "_view_module_version": "1.5.0",
      "_view_name": "ProgressView",
      "bar_style": "success",
      "description": "",
      "description_tooltip": null,
      "layout": "IPY_MODEL_f96ca9f923804867ac1dbd5b16daf2fa",
      "max": 603143713,
      "min": 0,
      "orientation": "horizontal",
      "style": "IPY_MODEL_31d966836fb64892b75a67563a24a78f",
      "value": 603143713
     }
    },
    "7165bc8f2906494690b7020b5b790a15": {
     "model_module": "@jupyter-widgets/controls",
     "model_module_version": "1.5.0",
     "model_name": "DescriptionStyleModel",
     "state": {
      "_model_module": "@jupyter-widgets/controls",
      "_model_module_version": "1.5.0",
      "_model_name": "DescriptionStyleModel",
      "_view_count": null,
      "_view_module": "@jupyter-widgets/base",
      "_view_module_version": "1.2.0",
      "_view_name": "StyleView",
      "description_width": ""
     }
    },
    "730de884ca764f2f8296f5eed4381c55": {
     "model_module": "@jupyter-widgets/controls",
     "model_module_version": "1.5.0",
     "model_name": "FloatProgressModel",
     "state": {
      "_dom_classes": [],
      "_model_module": "@jupyter-widgets/controls",
      "_model_module_version": "1.5.0",
      "_model_name": "FloatProgressModel",
      "_view_count": null,
      "_view_module": "@jupyter-widgets/controls",
      "_view_module_version": "1.5.0",
      "_view_name": "ProgressView",
      "bar_style": "success",
      "description": "",
      "description_tooltip": null,
      "layout": "IPY_MODEL_75ea51994b374a54a90af22ef32d94ca",
      "max": 1059962,
      "min": 0,
      "orientation": "horizontal",
      "style": "IPY_MODEL_1cf1d0e03c144a1aa6112d223094fae7",
      "value": 1059962
     }
    },
    "738b9ba3bbc645b7aa7cfc57bc41eacf": {
     "model_module": "@jupyter-widgets/controls",
     "model_module_version": "1.5.0",
     "model_name": "HBoxModel",
     "state": {
      "_dom_classes": [],
      "_model_module": "@jupyter-widgets/controls",
      "_model_module_version": "1.5.0",
      "_model_name": "HBoxModel",
      "_view_count": null,
      "_view_module": "@jupyter-widgets/controls",
      "_view_module_version": "1.5.0",
      "_view_name": "HBoxView",
      "box_style": "",
      "children": [
       "IPY_MODEL_c1771e77e93a45c1a62897d6fc032313",
       "IPY_MODEL_61bdfc07473d4068b5527207953eb478",
       "IPY_MODEL_1c1463517aa24cb7bf975e2490940ea5"
      ],
      "layout": "IPY_MODEL_a5ea427bdb25446a9cc3bdee20400589"
     }
    },
    "75ea51994b374a54a90af22ef32d94ca": {
     "model_module": "@jupyter-widgets/base",
     "model_module_version": "1.2.0",
     "model_name": "LayoutModel",
     "state": {
      "_model_module": "@jupyter-widgets/base",
      "_model_module_version": "1.2.0",
      "_model_name": "LayoutModel",
      "_view_count": null,
      "_view_module": "@jupyter-widgets/base",
      "_view_module_version": "1.2.0",
      "_view_name": "LayoutView",
      "align_content": null,
      "align_items": null,
      "align_self": null,
      "border": null,
      "bottom": null,
      "display": null,
      "flex": null,
      "flex_flow": null,
      "grid_area": null,
      "grid_auto_columns": null,
      "grid_auto_flow": null,
      "grid_auto_rows": null,
      "grid_column": null,
      "grid_gap": null,
      "grid_row": null,
      "grid_template_areas": null,
      "grid_template_columns": null,
      "grid_template_rows": null,
      "height": null,
      "justify_content": null,
      "justify_items": null,
      "left": null,
      "margin": null,
      "max_height": null,
      "max_width": null,
      "min_height": null,
      "min_width": null,
      "object_fit": null,
      "object_position": null,
      "order": null,
      "overflow": null,
      "overflow_x": null,
      "overflow_y": null,
      "padding": null,
      "right": null,
      "top": null,
      "visibility": null,
      "width": null
     }
    },
    "765f1d5a901c4d5695769c22f48ec321": {
     "model_module": "@jupyter-widgets/base",
     "model_module_version": "1.2.0",
     "model_name": "LayoutModel",
     "state": {
      "_model_module": "@jupyter-widgets/base",
      "_model_module_version": "1.2.0",
      "_model_name": "LayoutModel",
      "_view_count": null,
      "_view_module": "@jupyter-widgets/base",
      "_view_module_version": "1.2.0",
      "_view_name": "LayoutView",
      "align_content": null,
      "align_items": null,
      "align_self": null,
      "border": null,
      "bottom": null,
      "display": null,
      "flex": null,
      "flex_flow": null,
      "grid_area": null,
      "grid_auto_columns": null,
      "grid_auto_flow": null,
      "grid_auto_rows": null,
      "grid_column": null,
      "grid_gap": null,
      "grid_row": null,
      "grid_template_areas": null,
      "grid_template_columns": null,
      "grid_template_rows": null,
      "height": null,
      "justify_content": null,
      "justify_items": null,
      "left": null,
      "margin": null,
      "max_height": null,
      "max_width": null,
      "min_height": null,
      "min_width": null,
      "object_fit": null,
      "object_position": null,
      "order": null,
      "overflow": null,
      "overflow_x": null,
      "overflow_y": null,
      "padding": null,
      "right": null,
      "top": null,
      "visibility": null,
      "width": null
     }
    },
    "7b5e060d6df948c79c783c05b7a27487": {
     "model_module": "@jupyter-widgets/controls",
     "model_module_version": "1.5.0",
     "model_name": "FloatProgressModel",
     "state": {
      "_dom_classes": [],
      "_model_module": "@jupyter-widgets/controls",
      "_model_module_version": "1.5.0",
      "_model_name": "FloatProgressModel",
      "_view_count": null,
      "_view_module": "@jupyter-widgets/controls",
      "_view_module_version": "1.5.0",
      "_view_name": "ProgressView",
      "bar_style": "success",
      "description": "",
      "description_tooltip": null,
      "layout": "IPY_MODEL_bb22e68422c548d2ba60bb21f8fe2146",
      "max": 974,
      "min": 0,
      "orientation": "horizontal",
      "style": "IPY_MODEL_5588a77db2bf452c868403b1f1a9ec25",
      "value": 974
     }
    },
    "8114a7beb8224c73a544c323e04cff32": {
     "model_module": "@jupyter-widgets/base",
     "model_module_version": "1.2.0",
     "model_name": "LayoutModel",
     "state": {
      "_model_module": "@jupyter-widgets/base",
      "_model_module_version": "1.2.0",
      "_model_name": "LayoutModel",
      "_view_count": null,
      "_view_module": "@jupyter-widgets/base",
      "_view_module_version": "1.2.0",
      "_view_name": "LayoutView",
      "align_content": null,
      "align_items": null,
      "align_self": null,
      "border": null,
      "bottom": null,
      "display": null,
      "flex": null,
      "flex_flow": null,
      "grid_area": null,
      "grid_auto_columns": null,
      "grid_auto_flow": null,
      "grid_auto_rows": null,
      "grid_column": null,
      "grid_gap": null,
      "grid_row": null,
      "grid_template_areas": null,
      "grid_template_columns": null,
      "grid_template_rows": null,
      "height": null,
      "justify_content": null,
      "justify_items": null,
      "left": null,
      "margin": null,
      "max_height": null,
      "max_width": null,
      "min_height": null,
      "min_width": null,
      "object_fit": null,
      "object_position": null,
      "order": null,
      "overflow": null,
      "overflow_x": null,
      "overflow_y": null,
      "padding": null,
      "right": null,
      "top": null,
      "visibility": null,
      "width": null
     }
    },
    "87f5ec57dd114aba842f8f6dfa821790": {
     "model_module": "@jupyter-widgets/controls",
     "model_module_version": "1.5.0",
     "model_name": "FloatProgressModel",
     "state": {
      "_dom_classes": [],
      "_model_module": "@jupyter-widgets/controls",
      "_model_module_version": "1.5.0",
      "_model_name": "FloatProgressModel",
      "_view_count": null,
      "_view_module": "@jupyter-widgets/controls",
      "_view_module_version": "1.5.0",
      "_view_name": "ProgressView",
      "bar_style": "success",
      "description": "",
      "description_tooltip": null,
      "layout": "IPY_MODEL_372cc435136f4f9991e4317537b3c55b",
      "max": 4732,
      "min": 0,
      "orientation": "horizontal",
      "style": "IPY_MODEL_e215c47ae70a4702b9fc5f2900d05a64",
      "value": 4732
     }
    },
    "8a04cdec9bba455c8cba603d2bef1695": {
     "model_module": "@jupyter-widgets/base",
     "model_module_version": "1.2.0",
     "model_name": "LayoutModel",
     "state": {
      "_model_module": "@jupyter-widgets/base",
      "_model_module_version": "1.2.0",
      "_model_name": "LayoutModel",
      "_view_count": null,
      "_view_module": "@jupyter-widgets/base",
      "_view_module_version": "1.2.0",
      "_view_name": "LayoutView",
      "align_content": null,
      "align_items": null,
      "align_self": null,
      "border": null,
      "bottom": null,
      "display": null,
      "flex": null,
      "flex_flow": null,
      "grid_area": null,
      "grid_auto_columns": null,
      "grid_auto_flow": null,
      "grid_auto_rows": null,
      "grid_column": null,
      "grid_gap": null,
      "grid_row": null,
      "grid_template_areas": null,
      "grid_template_columns": null,
      "grid_template_rows": null,
      "height": null,
      "justify_content": null,
      "justify_items": null,
      "left": null,
      "margin": null,
      "max_height": null,
      "max_width": null,
      "min_height": null,
      "min_width": null,
      "object_fit": null,
      "object_position": null,
      "order": null,
      "overflow": null,
      "overflow_x": null,
      "overflow_y": null,
      "padding": null,
      "right": null,
      "top": null,
      "visibility": null,
      "width": null
     }
    },
    "8cd4a6879314498b9b985836a4df2e71": {
     "model_module": "@jupyter-widgets/controls",
     "model_module_version": "1.5.0",
     "model_name": "HTMLModel",
     "state": {
      "_dom_classes": [],
      "_model_module": "@jupyter-widgets/controls",
      "_model_module_version": "1.5.0",
      "_model_name": "HTMLModel",
      "_view_count": null,
      "_view_module": "@jupyter-widgets/controls",
      "_view_module_version": "1.5.0",
      "_view_name": "HTMLView",
      "description": "",
      "description_tooltip": null,
      "layout": "IPY_MODEL_5888c79c1d404cbd9df2a9e430525f7b",
      "placeholder": "​",
      "style": "IPY_MODEL_4cb20a739e8a4da184c1c429f348e328",
      "value": "Downloading pytorch_model.bin: 100%"
     }
    },
    "8f3be797418344619f3b4f42457ea2f5": {
     "model_module": "@jupyter-widgets/controls",
     "model_module_version": "1.5.0",
     "model_name": "HTMLModel",
     "state": {
      "_dom_classes": [],
      "_model_module": "@jupyter-widgets/controls",
      "_model_module_version": "1.5.0",
      "_model_name": "HTMLModel",
      "_view_count": null,
      "_view_module": "@jupyter-widgets/controls",
      "_view_module_version": "1.5.0",
      "_view_name": "HTMLView",
      "description": "",
      "description_tooltip": null,
      "layout": "IPY_MODEL_a42c3f114c9b4d6193ad6bb7a5c9e256",
      "placeholder": "​",
      "style": "IPY_MODEL_7165bc8f2906494690b7020b5b790a15",
      "value": " 525k/525k [00:00&lt;00:00, 2.36MB/s]"
     }
    },
    "8f4df38dae8f46788ec1ac18b2b6787f": {
     "model_module": "@jupyter-widgets/controls",
     "model_module_version": "1.5.0",
     "model_name": "HBoxModel",
     "state": {
      "_dom_classes": [],
      "_model_module": "@jupyter-widgets/controls",
      "_model_module_version": "1.5.0",
      "_model_name": "HBoxModel",
      "_view_count": null,
      "_view_module": "@jupyter-widgets/controls",
      "_view_module_version": "1.5.0",
      "_view_name": "HBoxView",
      "box_style": "",
      "children": [
       "IPY_MODEL_a1e2a575a8d24914bbb227804f470afb",
       "IPY_MODEL_87f5ec57dd114aba842f8f6dfa821790",
       "IPY_MODEL_9d7154364a6e4c14833849b5ef1a1e45"
      ],
      "layout": "IPY_MODEL_63e32ade493a4f4ab38e7d7d2859bae6"
     }
    },
    "95cc5b2886194d3494dd0470195dc6e7": {
     "model_module": "@jupyter-widgets/controls",
     "model_module_version": "1.5.0",
     "model_name": "DescriptionStyleModel",
     "state": {
      "_model_module": "@jupyter-widgets/controls",
      "_model_module_version": "1.5.0",
      "_model_name": "DescriptionStyleModel",
      "_view_count": null,
      "_view_module": "@jupyter-widgets/base",
      "_view_module_version": "1.2.0",
      "_view_name": "StyleView",
      "description_width": ""
     }
    },
    "997a4be016bd4eda8a8d99dffdff81ba": {
     "model_module": "@jupyter-widgets/controls",
     "model_module_version": "1.5.0",
     "model_name": "HTMLModel",
     "state": {
      "_dom_classes": [],
      "_model_module": "@jupyter-widgets/controls",
      "_model_module_version": "1.5.0",
      "_model_name": "HTMLModel",
      "_view_count": null,
      "_view_module": "@jupyter-widgets/controls",
      "_view_module_version": "1.5.0",
      "_view_name": "HTMLView",
      "description": "",
      "description_tooltip": null,
      "layout": "IPY_MODEL_f4d43b71a42f41c19a545cbce922d17d",
      "placeholder": "​",
      "style": "IPY_MODEL_a151500de44244a0b95a34a1cc365a85",
      "value": " 603M/603M [00:02&lt;00:00, 231MB/s]"
     }
    },
    "9995f8fc1ceb4f929a136cfc6eb7bfc6": {
     "model_module": "@jupyter-widgets/base",
     "model_module_version": "1.2.0",
     "model_name": "LayoutModel",
     "state": {
      "_model_module": "@jupyter-widgets/base",
      "_model_module_version": "1.2.0",
      "_model_name": "LayoutModel",
      "_view_count": null,
      "_view_module": "@jupyter-widgets/base",
      "_view_module_version": "1.2.0",
      "_view_name": "LayoutView",
      "align_content": null,
      "align_items": null,
      "align_self": null,
      "border": null,
      "bottom": null,
      "display": null,
      "flex": null,
      "flex_flow": null,
      "grid_area": null,
      "grid_auto_columns": null,
      "grid_auto_flow": null,
      "grid_auto_rows": null,
      "grid_column": null,
      "grid_gap": null,
      "grid_row": null,
      "grid_template_areas": null,
      "grid_template_columns": null,
      "grid_template_rows": null,
      "height": null,
      "justify_content": null,
      "justify_items": null,
      "left": null,
      "margin": null,
      "max_height": null,
      "max_width": null,
      "min_height": null,
      "min_width": null,
      "object_fit": null,
      "object_position": null,
      "order": null,
      "overflow": null,
      "overflow_x": null,
      "overflow_y": null,
      "padding": null,
      "right": null,
      "top": null,
      "visibility": null,
      "width": null
     }
    },
    "99ad067673524f4dadbb8523c552898f": {
     "model_module": "@jupyter-widgets/controls",
     "model_module_version": "1.5.0",
     "model_name": "DescriptionStyleModel",
     "state": {
      "_model_module": "@jupyter-widgets/controls",
      "_model_module_version": "1.5.0",
      "_model_name": "DescriptionStyleModel",
      "_view_count": null,
      "_view_module": "@jupyter-widgets/base",
      "_view_module_version": "1.2.0",
      "_view_name": "StyleView",
      "description_width": ""
     }
    },
    "9d7154364a6e4c14833849b5ef1a1e45": {
     "model_module": "@jupyter-widgets/controls",
     "model_module_version": "1.5.0",
     "model_name": "HTMLModel",
     "state": {
      "_dom_classes": [],
      "_model_module": "@jupyter-widgets/controls",
      "_model_module_version": "1.5.0",
      "_model_name": "HTMLModel",
      "_view_count": null,
      "_view_module": "@jupyter-widgets/controls",
      "_view_module_version": "1.5.0",
      "_view_name": "HTMLView",
      "description": "",
      "description_tooltip": null,
      "layout": "IPY_MODEL_ef517f2b031649e4b499d09e4e5bdb8e",
      "placeholder": "​",
      "style": "IPY_MODEL_040f1aea6b374c1390d2c9bff2071c46",
      "value": " 4.73k/4.73k [00:00&lt;00:00, 221kB/s]"
     }
    },
    "a151500de44244a0b95a34a1cc365a85": {
     "model_module": "@jupyter-widgets/controls",
     "model_module_version": "1.5.0",
     "model_name": "DescriptionStyleModel",
     "state": {
      "_model_module": "@jupyter-widgets/controls",
      "_model_module_version": "1.5.0",
      "_model_name": "DescriptionStyleModel",
      "_view_count": null,
      "_view_module": "@jupyter-widgets/base",
      "_view_module_version": "1.2.0",
      "_view_name": "StyleView",
      "description_width": ""
     }
    },
    "a1e2a575a8d24914bbb227804f470afb": {
     "model_module": "@jupyter-widgets/controls",
     "model_module_version": "1.5.0",
     "model_name": "HTMLModel",
     "state": {
      "_dom_classes": [],
      "_model_module": "@jupyter-widgets/controls",
      "_model_module_version": "1.5.0",
      "_model_name": "HTMLModel",
      "_view_count": null,
      "_view_module": "@jupyter-widgets/controls",
      "_view_module_version": "1.5.0",
      "_view_name": "HTMLView",
      "description": "",
      "description_tooltip": null,
      "layout": "IPY_MODEL_8a04cdec9bba455c8cba603d2bef1695",
      "placeholder": "​",
      "style": "IPY_MODEL_61afcfa176c844379291339dbda98747",
      "value": "Downloading (…)lve/main/config.json: 100%"
     }
    },
    "a37d49fa154f4a0a953856d9d085fd08": {
     "model_module": "@jupyter-widgets/controls",
     "model_module_version": "1.5.0",
     "model_name": "DescriptionStyleModel",
     "state": {
      "_model_module": "@jupyter-widgets/controls",
      "_model_module_version": "1.5.0",
      "_model_name": "DescriptionStyleModel",
      "_view_count": null,
      "_view_module": "@jupyter-widgets/base",
      "_view_module_version": "1.2.0",
      "_view_name": "StyleView",
      "description_width": ""
     }
    },
    "a42c3f114c9b4d6193ad6bb7a5c9e256": {
     "model_module": "@jupyter-widgets/base",
     "model_module_version": "1.2.0",
     "model_name": "LayoutModel",
     "state": {
      "_model_module": "@jupyter-widgets/base",
      "_model_module_version": "1.2.0",
      "_model_name": "LayoutModel",
      "_view_count": null,
      "_view_module": "@jupyter-widgets/base",
      "_view_module_version": "1.2.0",
      "_view_name": "LayoutView",
      "align_content": null,
      "align_items": null,
      "align_self": null,
      "border": null,
      "bottom": null,
      "display": null,
      "flex": null,
      "flex_flow": null,
      "grid_area": null,
      "grid_auto_columns": null,
      "grid_auto_flow": null,
      "grid_auto_rows": null,
      "grid_column": null,
      "grid_gap": null,
      "grid_row": null,
      "grid_template_areas": null,
      "grid_template_columns": null,
      "grid_template_rows": null,
      "height": null,
      "justify_content": null,
      "justify_items": null,
      "left": null,
      "margin": null,
      "max_height": null,
      "max_width": null,
      "min_height": null,
      "min_width": null,
      "object_fit": null,
      "object_position": null,
      "order": null,
      "overflow": null,
      "overflow_x": null,
      "overflow_y": null,
      "padding": null,
      "right": null,
      "top": null,
      "visibility": null,
      "width": null
     }
    },
    "a5ea427bdb25446a9cc3bdee20400589": {
     "model_module": "@jupyter-widgets/base",
     "model_module_version": "1.2.0",
     "model_name": "LayoutModel",
     "state": {
      "_model_module": "@jupyter-widgets/base",
      "_model_module_version": "1.2.0",
      "_model_name": "LayoutModel",
      "_view_count": null,
      "_view_module": "@jupyter-widgets/base",
      "_view_module_version": "1.2.0",
      "_view_name": "LayoutView",
      "align_content": null,
      "align_items": null,
      "align_self": null,
      "border": null,
      "bottom": null,
      "display": null,
      "flex": null,
      "flex_flow": null,
      "grid_area": null,
      "grid_auto_columns": null,
      "grid_auto_flow": null,
      "grid_auto_rows": null,
      "grid_column": null,
      "grid_gap": null,
      "grid_row": null,
      "grid_template_areas": null,
      "grid_template_columns": null,
      "grid_template_rows": null,
      "height": null,
      "justify_content": null,
      "justify_items": null,
      "left": null,
      "margin": null,
      "max_height": null,
      "max_width": null,
      "min_height": null,
      "min_width": null,
      "object_fit": null,
      "object_position": null,
      "order": null,
      "overflow": null,
      "overflow_x": null,
      "overflow_y": null,
      "padding": null,
      "right": null,
      "top": null,
      "visibility": null,
      "width": null
     }
    },
    "a8d6026fa3a845cab5abb1e19df2b18b": {
     "model_module": "@jupyter-widgets/base",
     "model_module_version": "1.2.0",
     "model_name": "LayoutModel",
     "state": {
      "_model_module": "@jupyter-widgets/base",
      "_model_module_version": "1.2.0",
      "_model_name": "LayoutModel",
      "_view_count": null,
      "_view_module": "@jupyter-widgets/base",
      "_view_module_version": "1.2.0",
      "_view_name": "LayoutView",
      "align_content": null,
      "align_items": null,
      "align_self": null,
      "border": null,
      "bottom": null,
      "display": null,
      "flex": null,
      "flex_flow": null,
      "grid_area": null,
      "grid_auto_columns": null,
      "grid_auto_flow": null,
      "grid_auto_rows": null,
      "grid_column": null,
      "grid_gap": null,
      "grid_row": null,
      "grid_template_areas": null,
      "grid_template_columns": null,
      "grid_template_rows": null,
      "height": null,
      "justify_content": null,
      "justify_items": null,
      "left": null,
      "margin": null,
      "max_height": null,
      "max_width": null,
      "min_height": null,
      "min_width": null,
      "object_fit": null,
      "object_position": null,
      "order": null,
      "overflow": null,
      "overflow_x": null,
      "overflow_y": null,
      "padding": null,
      "right": null,
      "top": null,
      "visibility": null,
      "width": null
     }
    },
    "ab4b7b41a19c4ba29474c3215fadc666": {
     "model_module": "@jupyter-widgets/controls",
     "model_module_version": "1.5.0",
     "model_name": "HTMLModel",
     "state": {
      "_dom_classes": [],
      "_model_module": "@jupyter-widgets/controls",
      "_model_module_version": "1.5.0",
      "_model_name": "HTMLModel",
      "_view_count": null,
      "_view_module": "@jupyter-widgets/controls",
      "_view_module_version": "1.5.0",
      "_view_name": "HTMLView",
      "description": "",
      "description_tooltip": null,
      "layout": "IPY_MODEL_b80a459199714e3e974b2d7b14024b40",
      "placeholder": "​",
      "style": "IPY_MODEL_274d4219058b4a26b204aac932f31cbb",
      "value": " 472/472 [00:00&lt;00:00, 22.1kB/s]"
     }
    },
    "ad06b94f50344c509b91e97aeb63ff4c": {
     "model_module": "@jupyter-widgets/base",
     "model_module_version": "1.2.0",
     "model_name": "LayoutModel",
     "state": {
      "_model_module": "@jupyter-widgets/base",
      "_model_module_version": "1.2.0",
      "_model_name": "LayoutModel",
      "_view_count": null,
      "_view_module": "@jupyter-widgets/base",
      "_view_module_version": "1.2.0",
      "_view_name": "LayoutView",
      "align_content": null,
      "align_items": null,
      "align_self": null,
      "border": null,
      "bottom": null,
      "display": null,
      "flex": null,
      "flex_flow": null,
      "grid_area": null,
      "grid_auto_columns": null,
      "grid_auto_flow": null,
      "grid_auto_rows": null,
      "grid_column": null,
      "grid_gap": null,
      "grid_row": null,
      "grid_template_areas": null,
      "grid_template_columns": null,
      "grid_template_rows": null,
      "height": null,
      "justify_content": null,
      "justify_items": null,
      "left": null,
      "margin": null,
      "max_height": null,
      "max_width": null,
      "min_height": null,
      "min_width": null,
      "object_fit": null,
      "object_position": null,
      "order": null,
      "overflow": null,
      "overflow_x": null,
      "overflow_y": null,
      "padding": null,
      "right": null,
      "top": null,
      "visibility": null,
      "width": null
     }
    },
    "b548af20636441f69bb48bf9caa199bd": {
     "model_module": "@jupyter-widgets/controls",
     "model_module_version": "1.5.0",
     "model_name": "HTMLModel",
     "state": {
      "_dom_classes": [],
      "_model_module": "@jupyter-widgets/controls",
      "_model_module_version": "1.5.0",
      "_model_name": "HTMLModel",
      "_view_count": null,
      "_view_module": "@jupyter-widgets/controls",
      "_view_module_version": "1.5.0",
      "_view_name": "HTMLView",
      "description": "",
      "description_tooltip": null,
      "layout": "IPY_MODEL_e728cfe948f84b2fb9e29bf4cb3af2ec",
      "placeholder": "​",
      "style": "IPY_MODEL_95cc5b2886194d3494dd0470195dc6e7",
      "value": "Downloading (…)olve/main/vocab.json: 100%"
     }
    },
    "b80a459199714e3e974b2d7b14024b40": {
     "model_module": "@jupyter-widgets/base",
     "model_module_version": "1.2.0",
     "model_name": "LayoutModel",
     "state": {
      "_model_module": "@jupyter-widgets/base",
      "_model_module_version": "1.2.0",
      "_model_name": "LayoutModel",
      "_view_count": null,
      "_view_module": "@jupyter-widgets/base",
      "_view_module_version": "1.2.0",
      "_view_name": "LayoutView",
      "align_content": null,
      "align_items": null,
      "align_self": null,
      "border": null,
      "bottom": null,
      "display": null,
      "flex": null,
      "flex_flow": null,
      "grid_area": null,
      "grid_auto_columns": null,
      "grid_auto_flow": null,
      "grid_auto_rows": null,
      "grid_column": null,
      "grid_gap": null,
      "grid_row": null,
      "grid_template_areas": null,
      "grid_template_columns": null,
      "grid_template_rows": null,
      "height": null,
      "justify_content": null,
      "justify_items": null,
      "left": null,
      "margin": null,
      "max_height": null,
      "max_width": null,
      "min_height": null,
      "min_width": null,
      "object_fit": null,
      "object_position": null,
      "order": null,
      "overflow": null,
      "overflow_x": null,
      "overflow_y": null,
      "padding": null,
      "right": null,
      "top": null,
      "visibility": null,
      "width": null
     }
    },
    "ba9f979c2ef249649b5d843fff585940": {
     "model_module": "@jupyter-widgets/controls",
     "model_module_version": "1.5.0",
     "model_name": "ProgressStyleModel",
     "state": {
      "_model_module": "@jupyter-widgets/controls",
      "_model_module_version": "1.5.0",
      "_model_name": "ProgressStyleModel",
      "_view_count": null,
      "_view_module": "@jupyter-widgets/base",
      "_view_module_version": "1.2.0",
      "_view_name": "StyleView",
      "bar_color": null,
      "description_width": ""
     }
    },
    "bb22e68422c548d2ba60bb21f8fe2146": {
     "model_module": "@jupyter-widgets/base",
     "model_module_version": "1.2.0",
     "model_name": "LayoutModel",
     "state": {
      "_model_module": "@jupyter-widgets/base",
      "_model_module_version": "1.2.0",
      "_model_name": "LayoutModel",
      "_view_count": null,
      "_view_module": "@jupyter-widgets/base",
      "_view_module_version": "1.2.0",
      "_view_name": "LayoutView",
      "align_content": null,
      "align_items": null,
      "align_self": null,
      "border": null,
      "bottom": null,
      "display": null,
      "flex": null,
      "flex_flow": null,
      "grid_area": null,
      "grid_auto_columns": null,
      "grid_auto_flow": null,
      "grid_auto_rows": null,
      "grid_column": null,
      "grid_gap": null,
      "grid_row": null,
      "grid_template_areas": null,
      "grid_template_columns": null,
      "grid_template_rows": null,
      "height": null,
      "justify_content": null,
      "justify_items": null,
      "left": null,
      "margin": null,
      "max_height": null,
      "max_width": null,
      "min_height": null,
      "min_width": null,
      "object_fit": null,
      "object_position": null,
      "order": null,
      "overflow": null,
      "overflow_x": null,
      "overflow_y": null,
      "padding": null,
      "right": null,
      "top": null,
      "visibility": null,
      "width": null
     }
    },
    "c1771e77e93a45c1a62897d6fc032313": {
     "model_module": "@jupyter-widgets/controls",
     "model_module_version": "1.5.0",
     "model_name": "HTMLModel",
     "state": {
      "_dom_classes": [],
      "_model_module": "@jupyter-widgets/controls",
      "_model_module_version": "1.5.0",
      "_model_name": "HTMLModel",
      "_view_count": null,
      "_view_module": "@jupyter-widgets/controls",
      "_view_module_version": "1.5.0",
      "_view_name": "HTMLView",
      "description": "",
      "description_tooltip": null,
      "layout": "IPY_MODEL_462cb4594e5f463b9b34427478c5e527",
      "placeholder": "​",
      "style": "IPY_MODEL_4c444e418d084feea8df754d5dc8e2d3",
      "value": "Downloading (…)rocessor_config.json: 100%"
     }
    },
    "c844a5e3031049e38d614f3aef3ba2f0": {
     "model_module": "@jupyter-widgets/base",
     "model_module_version": "1.2.0",
     "model_name": "LayoutModel",
     "state": {
      "_model_module": "@jupyter-widgets/base",
      "_model_module_version": "1.2.0",
      "_model_name": "LayoutModel",
      "_view_count": null,
      "_view_module": "@jupyter-widgets/base",
      "_view_module_version": "1.2.0",
      "_view_name": "LayoutView",
      "align_content": null,
      "align_items": null,
      "align_self": null,
      "border": null,
      "bottom": null,
      "display": null,
      "flex": null,
      "flex_flow": null,
      "grid_area": null,
      "grid_auto_columns": null,
      "grid_auto_flow": null,
      "grid_auto_rows": null,
      "grid_column": null,
      "grid_gap": null,
      "grid_row": null,
      "grid_template_areas": null,
      "grid_template_columns": null,
      "grid_template_rows": null,
      "height": null,
      "justify_content": null,
      "justify_items": null,
      "left": null,
      "margin": null,
      "max_height": null,
      "max_width": null,
      "min_height": null,
      "min_width": null,
      "object_fit": null,
      "object_position": null,
      "order": null,
      "overflow": null,
      "overflow_x": null,
      "overflow_y": null,
      "padding": null,
      "right": null,
      "top": null,
      "visibility": null,
      "width": null
     }
    },
    "ccee379009024599987a8d960e144fad": {
     "model_module": "@jupyter-widgets/controls",
     "model_module_version": "1.5.0",
     "model_name": "HBoxModel",
     "state": {
      "_dom_classes": [],
      "_model_module": "@jupyter-widgets/controls",
      "_model_module_version": "1.5.0",
      "_model_name": "HBoxModel",
      "_view_count": null,
      "_view_module": "@jupyter-widgets/controls",
      "_view_module_version": "1.5.0",
      "_view_name": "HBoxView",
      "box_style": "",
      "children": [
       "IPY_MODEL_b548af20636441f69bb48bf9caa199bd",
       "IPY_MODEL_730de884ca764f2f8296f5eed4381c55",
       "IPY_MODEL_2e74dfceda4e47e4b68c8bc1b412c7eb"
      ],
      "layout": "IPY_MODEL_9995f8fc1ceb4f929a136cfc6eb7bfc6"
     }
    },
    "d775c0bc64ec490d8ff9a6d35d062288": {
     "model_module": "@jupyter-widgets/controls",
     "model_module_version": "1.5.0",
     "model_name": "HBoxModel",
     "state": {
      "_dom_classes": [],
      "_model_module": "@jupyter-widgets/controls",
      "_model_module_version": "1.5.0",
      "_model_name": "HBoxModel",
      "_view_count": null,
      "_view_module": "@jupyter-widgets/controls",
      "_view_module_version": "1.5.0",
      "_view_name": "HBoxView",
      "box_style": "",
      "children": [
       "IPY_MODEL_03ccd8607409466084718c0a5d296a62",
       "IPY_MODEL_7b5e060d6df948c79c783c05b7a27487",
       "IPY_MODEL_6a50fb54669d4f679ec37405eef42854"
      ],
      "layout": "IPY_MODEL_765f1d5a901c4d5695769c22f48ec321"
     }
    },
    "da8ed306ab8e487897425235e5843bd1": {
     "model_module": "@jupyter-widgets/base",
     "model_module_version": "1.2.0",
     "model_name": "LayoutModel",
     "state": {
      "_model_module": "@jupyter-widgets/base",
      "_model_module_version": "1.2.0",
      "_model_name": "LayoutModel",
      "_view_count": null,
      "_view_module": "@jupyter-widgets/base",
      "_view_module_version": "1.2.0",
      "_view_name": "LayoutView",
      "align_content": null,
      "align_items": null,
      "align_self": null,
      "border": null,
      "bottom": null,
      "display": null,
      "flex": null,
      "flex_flow": null,
      "grid_area": null,
      "grid_auto_columns": null,
      "grid_auto_flow": null,
      "grid_auto_rows": null,
      "grid_column": null,
      "grid_gap": null,
      "grid_row": null,
      "grid_template_areas": null,
      "grid_template_columns": null,
      "grid_template_rows": null,
      "height": null,
      "justify_content": null,
      "justify_items": null,
      "left": null,
      "margin": null,
      "max_height": null,
      "max_width": null,
      "min_height": null,
      "min_width": null,
      "object_fit": null,
      "object_position": null,
      "order": null,
      "overflow": null,
      "overflow_x": null,
      "overflow_y": null,
      "padding": null,
      "right": null,
      "top": null,
      "visibility": null,
      "width": null
     }
    },
    "e215c47ae70a4702b9fc5f2900d05a64": {
     "model_module": "@jupyter-widgets/controls",
     "model_module_version": "1.5.0",
     "model_name": "ProgressStyleModel",
     "state": {
      "_model_module": "@jupyter-widgets/controls",
      "_model_module_version": "1.5.0",
      "_model_name": "ProgressStyleModel",
      "_view_count": null,
      "_view_module": "@jupyter-widgets/base",
      "_view_module_version": "1.2.0",
      "_view_name": "StyleView",
      "bar_color": null,
      "description_width": ""
     }
    },
    "e728cfe948f84b2fb9e29bf4cb3af2ec": {
     "model_module": "@jupyter-widgets/base",
     "model_module_version": "1.2.0",
     "model_name": "LayoutModel",
     "state": {
      "_model_module": "@jupyter-widgets/base",
      "_model_module_version": "1.2.0",
      "_model_name": "LayoutModel",
      "_view_count": null,
      "_view_module": "@jupyter-widgets/base",
      "_view_module_version": "1.2.0",
      "_view_name": "LayoutView",
      "align_content": null,
      "align_items": null,
      "align_self": null,
      "border": null,
      "bottom": null,
      "display": null,
      "flex": null,
      "flex_flow": null,
      "grid_area": null,
      "grid_auto_columns": null,
      "grid_auto_flow": null,
      "grid_auto_rows": null,
      "grid_column": null,
      "grid_gap": null,
      "grid_row": null,
      "grid_template_areas": null,
      "grid_template_columns": null,
      "grid_template_rows": null,
      "height": null,
      "justify_content": null,
      "justify_items": null,
      "left": null,
      "margin": null,
      "max_height": null,
      "max_width": null,
      "min_height": null,
      "min_width": null,
      "object_fit": null,
      "object_position": null,
      "order": null,
      "overflow": null,
      "overflow_x": null,
      "overflow_y": null,
      "padding": null,
      "right": null,
      "top": null,
      "visibility": null,
      "width": null
     }
    },
    "ee041d9c887c468ab675eac821b09e9a": {
     "model_module": "@jupyter-widgets/base",
     "model_module_version": "1.2.0",
     "model_name": "LayoutModel",
     "state": {
      "_model_module": "@jupyter-widgets/base",
      "_model_module_version": "1.2.0",
      "_model_name": "LayoutModel",
      "_view_count": null,
      "_view_module": "@jupyter-widgets/base",
      "_view_module_version": "1.2.0",
      "_view_name": "LayoutView",
      "align_content": null,
      "align_items": null,
      "align_self": null,
      "border": null,
      "bottom": null,
      "display": null,
      "flex": null,
      "flex_flow": null,
      "grid_area": null,
      "grid_auto_columns": null,
      "grid_auto_flow": null,
      "grid_auto_rows": null,
      "grid_column": null,
      "grid_gap": null,
      "grid_row": null,
      "grid_template_areas": null,
      "grid_template_columns": null,
      "grid_template_rows": null,
      "height": null,
      "justify_content": null,
      "justify_items": null,
      "left": null,
      "margin": null,
      "max_height": null,
      "max_width": null,
      "min_height": null,
      "min_width": null,
      "object_fit": null,
      "object_position": null,
      "order": null,
      "overflow": null,
      "overflow_x": null,
      "overflow_y": null,
      "padding": null,
      "right": null,
      "top": null,
      "visibility": null,
      "width": null
     }
    },
    "ef517f2b031649e4b499d09e4e5bdb8e": {
     "model_module": "@jupyter-widgets/base",
     "model_module_version": "1.2.0",
     "model_name": "LayoutModel",
     "state": {
      "_model_module": "@jupyter-widgets/base",
      "_model_module_version": "1.2.0",
      "_model_name": "LayoutModel",
      "_view_count": null,
      "_view_module": "@jupyter-widgets/base",
      "_view_module_version": "1.2.0",
      "_view_name": "LayoutView",
      "align_content": null,
      "align_items": null,
      "align_self": null,
      "border": null,
      "bottom": null,
      "display": null,
      "flex": null,
      "flex_flow": null,
      "grid_area": null,
      "grid_auto_columns": null,
      "grid_auto_flow": null,
      "grid_auto_rows": null,
      "grid_column": null,
      "grid_gap": null,
      "grid_row": null,
      "grid_template_areas": null,
      "grid_template_columns": null,
      "grid_template_rows": null,
      "height": null,
      "justify_content": null,
      "justify_items": null,
      "left": null,
      "margin": null,
      "max_height": null,
      "max_width": null,
      "min_height": null,
      "min_width": null,
      "object_fit": null,
      "object_position": null,
      "order": null,
      "overflow": null,
      "overflow_x": null,
      "overflow_y": null,
      "padding": null,
      "right": null,
      "top": null,
      "visibility": null,
      "width": null
     }
    },
    "f13098c44b304e12a71eaead386bb9c7": {
     "model_module": "@jupyter-widgets/controls",
     "model_module_version": "1.5.0",
     "model_name": "HBoxModel",
     "state": {
      "_dom_classes": [],
      "_model_module": "@jupyter-widgets/controls",
      "_model_module_version": "1.5.0",
      "_model_name": "HBoxModel",
      "_view_count": null,
      "_view_module": "@jupyter-widgets/controls",
      "_view_module_version": "1.5.0",
      "_view_name": "HBoxView",
      "box_style": "",
      "children": [
       "IPY_MODEL_469cad08af9f42bfabb2ffbff4705692",
       "IPY_MODEL_077cfdad7f93461599b762dae38f3388",
       "IPY_MODEL_ab4b7b41a19c4ba29474c3215fadc666"
      ],
      "layout": "IPY_MODEL_ee041d9c887c468ab675eac821b09e9a"
     }
    },
    "f29ef7a71bee4b9285126f624fe814ef": {
     "model_module": "@jupyter-widgets/controls",
     "model_module_version": "1.5.0",
     "model_name": "DescriptionStyleModel",
     "state": {
      "_model_module": "@jupyter-widgets/controls",
      "_model_module_version": "1.5.0",
      "_model_name": "DescriptionStyleModel",
      "_view_count": null,
      "_view_module": "@jupyter-widgets/base",
      "_view_module_version": "1.2.0",
      "_view_name": "StyleView",
      "description_width": ""
     }
    },
    "f4d43b71a42f41c19a545cbce922d17d": {
     "model_module": "@jupyter-widgets/base",
     "model_module_version": "1.2.0",
     "model_name": "LayoutModel",
     "state": {
      "_model_module": "@jupyter-widgets/base",
      "_model_module_version": "1.2.0",
      "_model_name": "LayoutModel",
      "_view_count": null,
      "_view_module": "@jupyter-widgets/base",
      "_view_module_version": "1.2.0",
      "_view_name": "LayoutView",
      "align_content": null,
      "align_items": null,
      "align_self": null,
      "border": null,
      "bottom": null,
      "display": null,
      "flex": null,
      "flex_flow": null,
      "grid_area": null,
      "grid_auto_columns": null,
      "grid_auto_flow": null,
      "grid_auto_rows": null,
      "grid_column": null,
      "grid_gap": null,
      "grid_row": null,
      "grid_template_areas": null,
      "grid_template_columns": null,
      "grid_template_rows": null,
      "height": null,
      "justify_content": null,
      "justify_items": null,
      "left": null,
      "margin": null,
      "max_height": null,
      "max_width": null,
      "min_height": null,
      "min_width": null,
      "object_fit": null,
      "object_position": null,
      "order": null,
      "overflow": null,
      "overflow_x": null,
      "overflow_y": null,
      "padding": null,
      "right": null,
      "top": null,
      "visibility": null,
      "width": null
     }
    },
    "f96ca9f923804867ac1dbd5b16daf2fa": {
     "model_module": "@jupyter-widgets/base",
     "model_module_version": "1.2.0",
     "model_name": "LayoutModel",
     "state": {
      "_model_module": "@jupyter-widgets/base",
      "_model_module_version": "1.2.0",
      "_model_name": "LayoutModel",
      "_view_count": null,
      "_view_module": "@jupyter-widgets/base",
      "_view_module_version": "1.2.0",
      "_view_name": "LayoutView",
      "align_content": null,
      "align_items": null,
      "align_self": null,
      "border": null,
      "bottom": null,
      "display": null,
      "flex": null,
      "flex_flow": null,
      "grid_area": null,
      "grid_auto_columns": null,
      "grid_auto_flow": null,
      "grid_auto_rows": null,
      "grid_column": null,
      "grid_gap": null,
      "grid_row": null,
      "grid_template_areas": null,
      "grid_template_columns": null,
      "grid_template_rows": null,
      "height": null,
      "justify_content": null,
      "justify_items": null,
      "left": null,
      "margin": null,
      "max_height": null,
      "max_width": null,
      "min_height": null,
      "min_width": null,
      "object_fit": null,
      "object_position": null,
      "order": null,
      "overflow": null,
      "overflow_x": null,
      "overflow_y": null,
      "padding": null,
      "right": null,
      "top": null,
      "visibility": null,
      "width": null
     }
    },
    "fa71136166cd4a31a76f9f433e6562db": {
     "model_module": "@jupyter-widgets/controls",
     "model_module_version": "1.5.0",
     "model_name": "DescriptionStyleModel",
     "state": {
      "_model_module": "@jupyter-widgets/controls",
      "_model_module_version": "1.5.0",
      "_model_name": "DescriptionStyleModel",
      "_view_count": null,
      "_view_module": "@jupyter-widgets/base",
      "_view_module_version": "1.2.0",
      "_view_name": "StyleView",
      "description_width": ""
     }
    },
    "fc6260167f0d42deb02ebe8bd313f12b": {
     "model_module": "@jupyter-widgets/base",
     "model_module_version": "1.2.0",
     "model_name": "LayoutModel",
     "state": {
      "_model_module": "@jupyter-widgets/base",
      "_model_module_version": "1.2.0",
      "_model_name": "LayoutModel",
      "_view_count": null,
      "_view_module": "@jupyter-widgets/base",
      "_view_module_version": "1.2.0",
      "_view_name": "LayoutView",
      "align_content": null,
      "align_items": null,
      "align_self": null,
      "border": null,
      "bottom": null,
      "display": null,
      "flex": null,
      "flex_flow": null,
      "grid_area": null,
      "grid_auto_columns": null,
      "grid_auto_flow": null,
      "grid_auto_rows": null,
      "grid_column": null,
      "grid_gap": null,
      "grid_row": null,
      "grid_template_areas": null,
      "grid_template_columns": null,
      "grid_template_rows": null,
      "height": null,
      "justify_content": null,
      "justify_items": null,
      "left": null,
      "margin": null,
      "max_height": null,
      "max_width": null,
      "min_height": null,
      "min_width": null,
      "object_fit": null,
      "object_position": null,
      "order": null,
      "overflow": null,
      "overflow_x": null,
      "overflow_y": null,
      "padding": null,
      "right": null,
      "top": null,
      "visibility": null,
      "width": null
     }
    }
   }
  }
 },
 "nbformat": 4,
 "nbformat_minor": 5
}
